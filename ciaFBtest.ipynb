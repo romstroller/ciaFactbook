{
 "cells": [
  {
   "cell_type": "code",
   "execution_count": 1,
   "metadata": {
    "collapsed": true
   },
   "outputs": [],
   "source": [
    "import sys\n",
    "\n",
    "from FileTools import FileTools\n",
    "# from pprint import pprint\n",
    "from pathlib import Path\n",
    "from zipfile import ZipFile\n",
    "import pickle\n",
    "#import random\n",
    "import json\n",
    "import time\n",
    "import os\n",
    "\n",
    "#from matplotlib import pyplot as plt\n",
    "#import seaborn as sns\n",
    "import pandas as pd\n",
    "import numpy as np\n",
    "import math\n",
    "import re\n",
    "\n",
    "from kaggle.api.kaggle_api_extended import KaggleApi"
   ]
  },
  {
   "cell_type": "code",
   "execution_count": 2,
   "outputs": [],
   "source": [
    "# authenticate with API\n",
    "\n",
    "currWorkDir = os.getcwd()\n",
    "userDir = Path.home()\n",
    "keyPath = f\"{userDir}\\\\PYC\\\\ADMIN\\\\kaggle.json\"\n",
    "\n",
    "with open( keyPath, 'r' ) as f: keyDict = json.load( f )\n",
    "userTitle, keyTitle = keyDict.keys()\n",
    "kaggleUsername, kaggleKey = keyDict[ userTitle ], keyDict[ keyTitle ]\n",
    "\n",
    "os.environ[ 'KAGGLE_USERNAME' ] = kaggleUsername\n",
    "os.environ[ 'KAGGLE_KEY' ] = kaggleKey\n",
    "\n",
    "api = KaggleApi()\n",
    "api.authenticate()\n"
   ],
   "metadata": {
    "collapsed": false,
    "pycharm": {
     "name": "#%%\n"
    }
   }
  },
  {
   "cell_type": "code",
   "execution_count": 3,
   "outputs": [
    {
     "name": "stdout",
     "output_type": "stream",
     "text": [
      "Waiting for dataset download\n",
      "Latest: the-world-factbook-by-cia.zip\n"
     ]
    }
   ],
   "source": [
    "# retrieve dataset\n",
    "datasetOwner = 'lucafrance'\n",
    "datasetName = 'the-world-factbook-by-cia'\n",
    "api.dataset_download_files( f'{datasetOwner}/{datasetName}', path=\".\" )\n",
    "\n",
    "# await download\n",
    "fTools = FileTools()\n",
    "datasetFName = None\n",
    "print( \"Waiting for dataset download\" )\n",
    "while True:\n",
    "    time.sleep( 1 )\n",
    "    sortedFs = fTools.datesortFiles( currWorkDir, datasetName )\n",
    "    if len( sortedFs ) == 0: continue\n",
    "    datasetFName = list( sortedFs )[ 0 ]\n",
    "    print( f\"Latest: {datasetFName}\" )\n",
    "    break"
   ],
   "metadata": {
    "collapsed": false,
    "pycharm": {
     "name": "#%%\n"
    }
   }
  },
  {
   "cell_type": "code",
   "execution_count": 4,
   "outputs": [
    {
     "name": "stdout",
     "output_type": "stream",
     "text": [
      "Got dffBook DF from extracted dataset at:\n",
      " C:\\Users\\romstroller\\PYC\\ciaFactBook\\data_or\\countries.csv\n"
     ]
    },
    {
     "data": {
      "text/plain": "            Country                                                url  \\\n0       Afghanistan  https://www.cia.gov/the-world-factbook/countri...   \n1          Akrotiri  https://www.cia.gov/the-world-factbook/countri...   \n2           Albania  https://www.cia.gov/the-world-factbook/countri...   \n3           Algeria  https://www.cia.gov/the-world-factbook/countri...   \n4    American Samoa  https://www.cia.gov/the-world-factbook/countri...   \n..              ...                                                ...   \n253       West Bank  https://www.cia.gov/the-world-factbook/countri...   \n254           World  https://www.cia.gov/the-world-factbook/countri...   \n255           Yemen  https://www.cia.gov/the-world-factbook/countri...   \n256          Zambia  https://www.cia.gov/the-world-factbook/countri...   \n257        Zimbabwe  https://www.cia.gov/the-world-factbook/countri...   \n\n                              Introduction: Background  \\\n0    Ahmad Shah DURRANI unified the Pashtun tribes ...   \n1    By terms of the 1960 Treaty of Establishment t...   \n2    Albania declared its independence from the Ott...   \n3    Algeria has known many empires and dynasties s...   \n4    Tutuila was settled by 1000 B.C. and the islan...   \n..                                                 ...   \n253  The landlocked West Bank - the larger of the t...   \n254  Globally, the 20th century was marked by: (a) ...   \n255  The Kingdom of Yemen (colloquially known as No...   \n256  Multiple waves of Bantu-speaking groups moved ...   \n257  The hunter-gatherer San people first inhabited...   \n\n                                   Geography: Location  \\\n0    Southern Asia, north and west of Pakistan, eas...   \n1    Eastern Mediterranean, peninsula on the southw...   \n2    Southeastern Europe, bordering the Adriatic Se...   \n3    Northern Africa, bordering the Mediterranean S...   \n4    Oceania, group of islands in the South Pacific...   \n..                                                 ...   \n253        Middle East, west of Jordan, east of Israel   \n254                                                NaN   \n255  Middle East, bordering the Arabian Sea, Gulf o...   \n256  Southern Africa, east of Angola, south of the ...   \n257   Southern Africa, between South Africa and Zambia   \n\n    Geography: Geographic coordinates  Geography: Map references  \\\n0                    33 00 N, 65 00 E                       Asia   \n1                    34 37 N, 32 58 E                Middle East   \n2                    41 00 N, 20 00 E                     Europe   \n3                     28 00 N, 3 00 E                     Africa   \n4                   14 20 S, 170 00 W                    Oceania   \n..                                ...                        ...   \n253                  32 00 N, 35 15 E                Middle East   \n254                               NaN  Physical Map of the World   \n255                  15 00 N, 48 00 E                Middle East   \n256                  15 00 S, 30 00 E                     Africa   \n257                  20 00 S, 30 00 E                     Africa   \n\n    Geography: Area - total Geography: Area - land Geography: Area - water  \\\n0             652,230 sq km          652,230 sq km                 0 sq km   \n1                 123 sq km                    NaN                     NaN   \n2              28,748 sq km           27,398 sq km             1,350 sq km   \n3           2,381,740 sq km        2,381,740 sq km                 0 sq km   \n4                 224 sq km              224 sq km                 0 sq km   \n..                      ...                    ...                     ...   \n253             5,860 sq km            5,640 sq km               220 sq km   \n254   510.072 million sq km   148.94 million sq km     361.9 million sq km   \n255           527,968 sq km          527,968 sq km                 0 sq km   \n256           752,618 sq km          743,398 sq km             9,220 sq km   \n257           390,757 sq km          386,847 sq km             3,910 sq km   \n\n                         Geography: Area - comparative  ...  \\\n0    almost six times the size of Virginia; slightl...  ...   \n1           about 0.7 times the size of Washington, DC  ...   \n2                       slightly smaller than Maryland  ...   \n3       slightly less than 3.5 times the size of Texas  ...   \n4                  slightly larger than Washington, DC  ...   \n..                                                 ...  ...   \n253                     slightly smaller than Delaware  ...   \n254        land area about 16 times the size of the US  ...   \n255  almost four times the size of Alabama; slightl...  ...   \n256  almost five times the size of Georgia; slightl...  ...   \n257  about four times the size of Indiana; slightly...  ...   \n\n                    Transportation: Waterways - note 2  \\\n0                                                  NaN   \n1                                                  NaN   \n2                                                  NaN   \n3                                                  NaN   \n4                                                  NaN   \n..                                                 ...   \n253                                                NaN   \n254  there are 20 countries without rivers: 3 in Af...   \n255                                                NaN   \n256                                                NaN   \n257                                                NaN   \n\n    Transportation: Waterways - top ten largest natural lakes (by surface area)  \\\n0                                                  NaN                            \n1                                                  NaN                            \n2                                                  NaN                            \n3                                                  NaN                            \n4                                                  NaN                            \n..                                                 ...                            \n253                                                NaN                            \n254  Caspian Sea (Azerbaijan, Iran, Kazakhstan, Rus...                            \n255                                                NaN                            \n256                                                NaN                            \n257                                                NaN                            \n\n                    Transportation: Waterways - note 3  \\\n0                                                  NaN   \n1                                                  NaN   \n2                                                  NaN   \n3                                                  NaN   \n4                                                  NaN   \n..                                                 ...   \n253                                                NaN   \n254  the deepest lake in the world (1,620 m), and a...   \n255                                                NaN   \n256                                                NaN   \n257                                                NaN   \n\n    Transportation: Ports and terminals - top twenty container ports as measured by Twenty-Foot Equivalent Units (TEUs) throughput  \\\n0                                                  NaN                                                                               \n1                                                  NaN                                                                               \n2                                                  NaN                                                                               \n3                                                  NaN                                                                               \n4                                                  NaN                                                                               \n..                                                 ...                                                                               \n253                                                NaN                                                                               \n254  Shanghai (China) - 43,303,000; Singapore (Sing...                                                                               \n255                                                NaN                                                                               \n256                                                NaN                                                                               \n257                                                NaN                                                                               \n\n    Transnational Issues: Refugees and internally displaced persons  \\\n0                                                  NaN                \n1                                                  NaN                \n2                                                  NaN                \n3                                                  NaN                \n4                                                  NaN                \n..                                                 ...                \n253                                                NaN                \n254  the UN High Commissioner for Refugees (UNHCR) ...                \n255                                                NaN                \n256                                                NaN                \n257                                                NaN                \n\n    Transnational Issues: Trafficking in persons - Tier 2 Watch List  \\\n0                                                  NaN                 \n1                                                  NaN                 \n2                                                  NaN                 \n3                                                  NaN                 \n4                                                  NaN                 \n..                                                 ...                 \n253                                                NaN                 \n254  (44 countries) Armenia, Aruba, Azerbaijan, Bar...                 \n255                                                NaN                 \n256                                                NaN                 \n257                                                NaN                 \n\n    Transnational Issues: Trafficking in persons - Tier 3  \\\n0                                                  NaN      \n1                                                  NaN      \n2                                                  NaN      \n3                                                  NaN      \n4                                                  NaN      \n..                                                 ...      \n253                                                NaN      \n254  (19 countries) Afghanistan, Algeria, Belarus, ...      \n255                                                NaN      \n256                                                NaN      \n257                                                NaN      \n\n         Transnational Issues: Illicit drugs - cocaine  \\\n0                                                  NaN   \n1                                                  NaN   \n2                                                  NaN   \n3                                                  NaN   \n4                                                  NaN   \n..                                                 ...   \n253                                                NaN   \n254  worldwide coca cultivation in 2020 likely amou...   \n255                                                NaN   \n256                                                NaN   \n257                                                NaN   \n\n         Transnational Issues: Illicit drugs - opiates  \\\n0                                                  NaN   \n1                                                  NaN   \n2                                                  NaN   \n3                                                  NaN   \n4                                                  NaN   \n..                                                 ...   \n253                                                NaN   \n254  worldwide illicit opium poppy cultivation prob...   \n255                                                NaN   \n256                                                NaN   \n257                                                NaN   \n\n    Energy: Electricity access - population without electricity  \n0                                                  NaN           \n1                                                  NaN           \n2                                                  NaN           \n3                                                  NaN           \n4                                                  NaN           \n..                                                 ...           \n253                                                NaN           \n254                                                NaN           \n255                                  16 million (2019)           \n256                                                NaN           \n257                                                NaN           \n\n[258 rows x 1054 columns]",
      "text/html": "<div>\n<style scoped>\n    .dataframe tbody tr th:only-of-type {\n        vertical-align: middle;\n    }\n\n    .dataframe tbody tr th {\n        vertical-align: top;\n    }\n\n    .dataframe thead th {\n        text-align: right;\n    }\n</style>\n<table border=\"1\" class=\"dataframe\">\n  <thead>\n    <tr style=\"text-align: right;\">\n      <th></th>\n      <th>Country</th>\n      <th>url</th>\n      <th>Introduction: Background</th>\n      <th>Geography: Location</th>\n      <th>Geography: Geographic coordinates</th>\n      <th>Geography: Map references</th>\n      <th>Geography: Area - total</th>\n      <th>Geography: Area - land</th>\n      <th>Geography: Area - water</th>\n      <th>Geography: Area - comparative</th>\n      <th>...</th>\n      <th>Transportation: Waterways - note 2</th>\n      <th>Transportation: Waterways - top ten largest natural lakes (by surface area)</th>\n      <th>Transportation: Waterways - note 3</th>\n      <th>Transportation: Ports and terminals - top twenty container ports as measured by Twenty-Foot Equivalent Units (TEUs) throughput</th>\n      <th>Transnational Issues: Refugees and internally displaced persons</th>\n      <th>Transnational Issues: Trafficking in persons - Tier 2 Watch List</th>\n      <th>Transnational Issues: Trafficking in persons - Tier 3</th>\n      <th>Transnational Issues: Illicit drugs - cocaine</th>\n      <th>Transnational Issues: Illicit drugs - opiates</th>\n      <th>Energy: Electricity access - population without electricity</th>\n    </tr>\n  </thead>\n  <tbody>\n    <tr>\n      <th>0</th>\n      <td>Afghanistan</td>\n      <td>https://www.cia.gov/the-world-factbook/countri...</td>\n      <td>Ahmad Shah DURRANI unified the Pashtun tribes ...</td>\n      <td>Southern Asia, north and west of Pakistan, eas...</td>\n      <td>33 00 N, 65 00 E</td>\n      <td>Asia</td>\n      <td>652,230 sq km</td>\n      <td>652,230 sq km</td>\n      <td>0 sq km</td>\n      <td>almost six times the size of Virginia; slightl...</td>\n      <td>...</td>\n      <td>NaN</td>\n      <td>NaN</td>\n      <td>NaN</td>\n      <td>NaN</td>\n      <td>NaN</td>\n      <td>NaN</td>\n      <td>NaN</td>\n      <td>NaN</td>\n      <td>NaN</td>\n      <td>NaN</td>\n    </tr>\n    <tr>\n      <th>1</th>\n      <td>Akrotiri</td>\n      <td>https://www.cia.gov/the-world-factbook/countri...</td>\n      <td>By terms of the 1960 Treaty of Establishment t...</td>\n      <td>Eastern Mediterranean, peninsula on the southw...</td>\n      <td>34 37 N, 32 58 E</td>\n      <td>Middle East</td>\n      <td>123 sq km</td>\n      <td>NaN</td>\n      <td>NaN</td>\n      <td>about 0.7 times the size of Washington, DC</td>\n      <td>...</td>\n      <td>NaN</td>\n      <td>NaN</td>\n      <td>NaN</td>\n      <td>NaN</td>\n      <td>NaN</td>\n      <td>NaN</td>\n      <td>NaN</td>\n      <td>NaN</td>\n      <td>NaN</td>\n      <td>NaN</td>\n    </tr>\n    <tr>\n      <th>2</th>\n      <td>Albania</td>\n      <td>https://www.cia.gov/the-world-factbook/countri...</td>\n      <td>Albania declared its independence from the Ott...</td>\n      <td>Southeastern Europe, bordering the Adriatic Se...</td>\n      <td>41 00 N, 20 00 E</td>\n      <td>Europe</td>\n      <td>28,748 sq km</td>\n      <td>27,398 sq km</td>\n      <td>1,350 sq km</td>\n      <td>slightly smaller than Maryland</td>\n      <td>...</td>\n      <td>NaN</td>\n      <td>NaN</td>\n      <td>NaN</td>\n      <td>NaN</td>\n      <td>NaN</td>\n      <td>NaN</td>\n      <td>NaN</td>\n      <td>NaN</td>\n      <td>NaN</td>\n      <td>NaN</td>\n    </tr>\n    <tr>\n      <th>3</th>\n      <td>Algeria</td>\n      <td>https://www.cia.gov/the-world-factbook/countri...</td>\n      <td>Algeria has known many empires and dynasties s...</td>\n      <td>Northern Africa, bordering the Mediterranean S...</td>\n      <td>28 00 N, 3 00 E</td>\n      <td>Africa</td>\n      <td>2,381,740 sq km</td>\n      <td>2,381,740 sq km</td>\n      <td>0 sq km</td>\n      <td>slightly less than 3.5 times the size of Texas</td>\n      <td>...</td>\n      <td>NaN</td>\n      <td>NaN</td>\n      <td>NaN</td>\n      <td>NaN</td>\n      <td>NaN</td>\n      <td>NaN</td>\n      <td>NaN</td>\n      <td>NaN</td>\n      <td>NaN</td>\n      <td>NaN</td>\n    </tr>\n    <tr>\n      <th>4</th>\n      <td>American Samoa</td>\n      <td>https://www.cia.gov/the-world-factbook/countri...</td>\n      <td>Tutuila was settled by 1000 B.C. and the islan...</td>\n      <td>Oceania, group of islands in the South Pacific...</td>\n      <td>14 20 S, 170 00 W</td>\n      <td>Oceania</td>\n      <td>224 sq km</td>\n      <td>224 sq km</td>\n      <td>0 sq km</td>\n      <td>slightly larger than Washington, DC</td>\n      <td>...</td>\n      <td>NaN</td>\n      <td>NaN</td>\n      <td>NaN</td>\n      <td>NaN</td>\n      <td>NaN</td>\n      <td>NaN</td>\n      <td>NaN</td>\n      <td>NaN</td>\n      <td>NaN</td>\n      <td>NaN</td>\n    </tr>\n    <tr>\n      <th>...</th>\n      <td>...</td>\n      <td>...</td>\n      <td>...</td>\n      <td>...</td>\n      <td>...</td>\n      <td>...</td>\n      <td>...</td>\n      <td>...</td>\n      <td>...</td>\n      <td>...</td>\n      <td>...</td>\n      <td>...</td>\n      <td>...</td>\n      <td>...</td>\n      <td>...</td>\n      <td>...</td>\n      <td>...</td>\n      <td>...</td>\n      <td>...</td>\n      <td>...</td>\n      <td>...</td>\n    </tr>\n    <tr>\n      <th>253</th>\n      <td>West Bank</td>\n      <td>https://www.cia.gov/the-world-factbook/countri...</td>\n      <td>The landlocked West Bank - the larger of the t...</td>\n      <td>Middle East, west of Jordan, east of Israel</td>\n      <td>32 00 N, 35 15 E</td>\n      <td>Middle East</td>\n      <td>5,860 sq km</td>\n      <td>5,640 sq km</td>\n      <td>220 sq km</td>\n      <td>slightly smaller than Delaware</td>\n      <td>...</td>\n      <td>NaN</td>\n      <td>NaN</td>\n      <td>NaN</td>\n      <td>NaN</td>\n      <td>NaN</td>\n      <td>NaN</td>\n      <td>NaN</td>\n      <td>NaN</td>\n      <td>NaN</td>\n      <td>NaN</td>\n    </tr>\n    <tr>\n      <th>254</th>\n      <td>World</td>\n      <td>https://www.cia.gov/the-world-factbook/countri...</td>\n      <td>Globally, the 20th century was marked by: (a) ...</td>\n      <td>NaN</td>\n      <td>NaN</td>\n      <td>Physical Map of the World</td>\n      <td>510.072 million sq km</td>\n      <td>148.94 million sq km</td>\n      <td>361.9 million sq km</td>\n      <td>land area about 16 times the size of the US</td>\n      <td>...</td>\n      <td>there are 20 countries without rivers: 3 in Af...</td>\n      <td>Caspian Sea (Azerbaijan, Iran, Kazakhstan, Rus...</td>\n      <td>the deepest lake in the world (1,620 m), and a...</td>\n      <td>Shanghai (China) - 43,303,000; Singapore (Sing...</td>\n      <td>the UN High Commissioner for Refugees (UNHCR) ...</td>\n      <td>(44 countries) Armenia, Aruba, Azerbaijan, Bar...</td>\n      <td>(19 countries) Afghanistan, Algeria, Belarus, ...</td>\n      <td>worldwide coca cultivation in 2020 likely amou...</td>\n      <td>worldwide illicit opium poppy cultivation prob...</td>\n      <td>NaN</td>\n    </tr>\n    <tr>\n      <th>255</th>\n      <td>Yemen</td>\n      <td>https://www.cia.gov/the-world-factbook/countri...</td>\n      <td>The Kingdom of Yemen (colloquially known as No...</td>\n      <td>Middle East, bordering the Arabian Sea, Gulf o...</td>\n      <td>15 00 N, 48 00 E</td>\n      <td>Middle East</td>\n      <td>527,968 sq km</td>\n      <td>527,968 sq km</td>\n      <td>0 sq km</td>\n      <td>almost four times the size of Alabama; slightl...</td>\n      <td>...</td>\n      <td>NaN</td>\n      <td>NaN</td>\n      <td>NaN</td>\n      <td>NaN</td>\n      <td>NaN</td>\n      <td>NaN</td>\n      <td>NaN</td>\n      <td>NaN</td>\n      <td>NaN</td>\n      <td>16 million (2019)</td>\n    </tr>\n    <tr>\n      <th>256</th>\n      <td>Zambia</td>\n      <td>https://www.cia.gov/the-world-factbook/countri...</td>\n      <td>Multiple waves of Bantu-speaking groups moved ...</td>\n      <td>Southern Africa, east of Angola, south of the ...</td>\n      <td>15 00 S, 30 00 E</td>\n      <td>Africa</td>\n      <td>752,618 sq km</td>\n      <td>743,398 sq km</td>\n      <td>9,220 sq km</td>\n      <td>almost five times the size of Georgia; slightl...</td>\n      <td>...</td>\n      <td>NaN</td>\n      <td>NaN</td>\n      <td>NaN</td>\n      <td>NaN</td>\n      <td>NaN</td>\n      <td>NaN</td>\n      <td>NaN</td>\n      <td>NaN</td>\n      <td>NaN</td>\n      <td>NaN</td>\n    </tr>\n    <tr>\n      <th>257</th>\n      <td>Zimbabwe</td>\n      <td>https://www.cia.gov/the-world-factbook/countri...</td>\n      <td>The hunter-gatherer San people first inhabited...</td>\n      <td>Southern Africa, between South Africa and Zambia</td>\n      <td>20 00 S, 30 00 E</td>\n      <td>Africa</td>\n      <td>390,757 sq km</td>\n      <td>386,847 sq km</td>\n      <td>3,910 sq km</td>\n      <td>about four times the size of Indiana; slightly...</td>\n      <td>...</td>\n      <td>NaN</td>\n      <td>NaN</td>\n      <td>NaN</td>\n      <td>NaN</td>\n      <td>NaN</td>\n      <td>NaN</td>\n      <td>NaN</td>\n      <td>NaN</td>\n      <td>NaN</td>\n      <td>NaN</td>\n    </tr>\n  </tbody>\n</table>\n<p>258 rows × 1054 columns</p>\n</div>"
     },
     "execution_count": 4,
     "metadata": {},
     "output_type": "execute_result"
    }
   ],
   "source": [
    "# extract and identify datafiles\n",
    "\n",
    "origDataDir = f\"{currWorkDir}\\\\data_or\"\n",
    "if not os.path.exists( origDataDir ): os.makedirs( origDataDir )\n",
    "\n",
    "if datasetFName and Path( datasetFName ).suffix == \".zip\":\n",
    "    with ZipFile( datasetFName, 'r' ) as zipF: zipF.extractall( origDataDir )\n",
    "\n",
    "dataPaths = [ f\"{origDataDir}\\\\{pth}\" for pth in os.listdir( origDataDir )\n",
    "    if Path( pth ).suffix == \".csv\" ]\n",
    "\n",
    "if len( dataPaths )>0:\n",
    "    dffBook = pd.read_csv( [ pth for pth in dataPaths ][ 0 ] )\n",
    "    print( \"Got dffBook DF from extracted dataset at:\\n\", dataPaths[ 0 ] )\n",
    "else: print( \"Failed get CSV\" ); sys.exit()\n",
    "\n",
    "dffBook"
   ],
   "metadata": {
    "collapsed": false,
    "pycharm": {
     "name": "#%%\n"
    }
   }
  },
  {
   "cell_type": "code",
   "execution_count": 5,
   "outputs": [],
   "source": [
    "# Analyse cell data for numbers and units\n",
    "\n",
    "def matchNumbers( df_in, coIdex, patrn ):\n",
    "    # get any number-pattern match from each row in a list\n",
    "    return df_in.iloc[ :, coIdex ].str.findall( patrn )\n",
    "\n",
    "\n",
    "def getRemainder( df_in, coIdex, pattrn ):\n",
    "    # store non-number remainder of string (potential unit etc)\n",
    "    return df_in.iloc[ :, coIdex ].str.replace( pattrn, '' )\n",
    "\n",
    "\n",
    "# MATCHING NUMBERS\n",
    "# REGEX:\n",
    "#   capture group             (                 \n",
    "#   zero/one                  [+-]?             possible number sign\n",
    "#   1-3 nums                  \\d{1,3}           up to three straight nums\n",
    "#   non-capture subgroup      (?:               possible thousand-groups\n",
    "#     comma and 3 nums          ,\\d{3}          (sep. comma)\n",
    "#     zero or more times        )*              \n",
    "#   non-capture subgroup      (?:               then possible decimal part\n",
    "#     decimal and 1+nums        \\.\\d+           \n",
    "#     zero/one time             )?            \n",
    "#   OR (alt. to last seq)     |                 or no groups, just              \n",
    "#     0+ nums, dec, 1+nums      \\d*\\.\\d+        more nums and poss decimal\n",
    "#   OR (alt. to last seq)     |             \n",
    "#     1+ nums                   \\d+             or just more numbers.\n",
    "#   Close capture group       )\n",
    "#   ( match basic number last to capture greatest valid str segment )\n",
    "\n",
    "patt = re.compile( r'([+-]?\\d{1,3}(?:,\\d{3})*(?:\\.\\d+)?|\\d*\\.\\d+|\\d+)' )\n",
    "\n",
    "dfFbDict = { }  # to collect column data during cleaning\n",
    "checkTypes = { }\n",
    "colDex = 1\n",
    "for colName in dffBook.columns[ colDex: ]:\n",
    "    origCol = dffBook.iloc[ :, colDex ]\n",
    "    # get match if string, store if already float, catch unexpected\n",
    "    if type( origCol[ 0 ] ) == str: colDict = {\n",
    "        'matchedNums': matchNumbers( dffBook, colDex, patt ),\n",
    "        'remainder': getRemainder( dffBook, colDex, patt ) }\n",
    "    elif type( origCol[ 0 ] ) == np.float64: colDict = {\n",
    "        'matchedNums': origCol.astype( float ), 'remainder': [ ] }\n",
    "    elif type( origCol[ 0 ] ) != float:\n",
    "        checkTypes[ type( origCol[ 0 ] ) ] = colDex\n",
    "        colDict = { 'matchedNums': origCol, 'remainder': [ ] }\n",
    "    else: colDict = {\n",
    "        'matchedNums': matchNumbers( dffBook, colDex, patt ),\n",
    "        'remainder': getRemainder( dffBook, colDex, patt ) }\n",
    "    colDict[ 'origCol' ] = origCol\n",
    "    dfFbDict[ colName ] = colDict\n",
    "    colDex += 1\n",
    "\n",
    "for i in checkTypes: print( f\"unexpected: {i} at {checkTypes[ i ]}\" )\n"
   ],
   "metadata": {
    "collapsed": false,
    "pycharm": {
     "name": "#%%\n"
    }
   }
  },
  {
   "cell_type": "code",
   "execution_count": 6,
   "outputs": [],
   "source": [
    "# split first match item from list as float to \"clean\", store else to \"split\"\n",
    "def splitFirstOther( matchList ):\n",
    "    firstVals, splitVals, checkVals = [ ], [ ], [ ]\n",
    "    for mNum in range( len( matchList ) ):\n",
    "        el = matchList[ mNum ]\n",
    "        isFilldList = (type( el ) == list) and (len( el )>0)\n",
    "        if isFilldList:  # remove any thousandcomma to support convert\n",
    "            firstVals.append( float( ''.join( el[ 0 ].split( ',' ) ) ) )\n",
    "            splitVals.append( [ v for v in el[ 1: ] ] )\n",
    "        else:  # check all else are either nan or empty matchlist\n",
    "            if ((type( el ) == list and len( el )>0) and\n",
    "                    (type( el ) != list and math.isnan( el ) == False)):\n",
    "                checkVals.append( el )\n",
    "            firstVals.append( np.nan )\n",
    "            splitVals.append( np.nan )\n",
    "    return firstVals, splitVals, checkVals\n",
    "\n",
    "\n",
    "for colName in dfFbDict:\n",
    "    colDict = dfFbDict[ colName ]\n",
    "    (colDict[ 'clean' ],\n",
    "    colDict[ 'splitVals' ],\n",
    "    colDict[ 'checkVals' ]) = splitFirstOther( colDict[ 'matchedNums' ] )\n",
    "\n",
    "# Raise message if got uncategorized data\n",
    "for colName in dfFbDict:\n",
    "    if len( dfFbDict[ colName ][ 'checkVals' ] )>0:\n",
    "        print( f\"Got checkvals for {colName}\" )"
   ],
   "metadata": {
    "collapsed": false,
    "pycharm": {
     "name": "#%%\n"
    }
   }
  },
  {
   "cell_type": "code",
   "execution_count": 7,
   "outputs": [
    {
     "data": {
      "text/plain": "            Country  url  Introduction: Background  Geography: Location  \\\n0       Afghanistan  NaN                     174.0                  NaN   \n1          Akrotiri  NaN                     196.0                  NaN   \n2           Albania  NaN                     191.0                  NaN   \n3           Algeria  NaN                       3.0                  NaN   \n4    American Samoa  NaN                     100.0                  NaN   \n..              ...  ...                       ...                  ...   \n253       West Bank  NaN                      15.0                  NaN   \n254           World  NaN                      20.0                  NaN   \n255           Yemen  NaN                     191.0                  NaN   \n256          Zambia  NaN                     188.0                  NaN   \n257        Zimbabwe  NaN                     500.0                  NaN   \n\n     Geography: Geographic coordinates  Geography: Map references  \\\n0                                 33.0                        NaN   \n1                                 34.0                        NaN   \n2                                 41.0                        NaN   \n3                                 28.0                        NaN   \n4                                 14.0                        NaN   \n..                                 ...                        ...   \n253                               32.0                        NaN   \n254                                NaN                        NaN   \n255                               15.0                        NaN   \n256                               15.0                        NaN   \n257                               20.0                        NaN   \n\n     Geography: Area - total  Geography: Area - land  Geography: Area - water  \\\n0                 652230.000               652230.00                      0.0   \n1                    123.000                     NaN                      NaN   \n2                  28748.000                27398.00                   1350.0   \n3                2381740.000              2381740.00                      0.0   \n4                    224.000                  224.00                      0.0   \n..                       ...                     ...                      ...   \n253                 5860.000                 5640.00                    220.0   \n254                  510.072                  148.94                    361.9   \n255               527968.000               527968.00                      0.0   \n256               752618.000               743398.00                   9220.0   \n257               390757.000               386847.00                   3910.0   \n\n     Geography: Area - comparative  ...  Transportation: Waterways - note 2  \\\n0                              NaN  ...                                 NaN   \n1                              0.7  ...                                 NaN   \n2                              NaN  ...                                 NaN   \n3                              3.5  ...                                 NaN   \n4                              NaN  ...                                 NaN   \n..                             ...  ...                                 ...   \n253                            NaN  ...                                 NaN   \n254                           16.0  ...                                20.0   \n255                            NaN  ...                                 NaN   \n256                            NaN  ...                                 NaN   \n257                            NaN  ...                                 NaN   \n\n     Transportation: Waterways - top ten largest natural lakes (by surface area)  \\\n0                                                  NaN                             \n1                                                  NaN                             \n2                                                  NaN                             \n3                                                  NaN                             \n4                                                  NaN                             \n..                                                 ...                             \n253                                                NaN                             \n254                                           372960.0                             \n255                                                NaN                             \n256                                                NaN                             \n257                                                NaN                             \n\n     Transportation: Waterways - note 3  \\\n0                                   NaN   \n1                                   NaN   \n2                                   NaN   \n3                                   NaN   \n4                                   NaN   \n..                                  ...   \n253                                 NaN   \n254                              1620.0   \n255                                 NaN   \n256                                 NaN   \n257                                 NaN   \n\n     Transportation: Ports and terminals - top twenty container ports as measured by Twenty-Foot Equivalent Units (TEUs) throughput  \\\n0                                                  NaN                                                                                \n1                                                  NaN                                                                                \n2                                                  NaN                                                                                \n3                                                  NaN                                                                                \n4                                                  NaN                                                                                \n..                                                 ...                                                                                \n253                                                NaN                                                                                \n254                                         43303000.0                                                                                \n255                                                NaN                                                                                \n256                                                NaN                                                                                \n257                                                NaN                                                                                \n\n     Transnational Issues: Refugees and internally displaced persons  \\\n0                                                  NaN                 \n1                                                  NaN                 \n2                                                  NaN                 \n3                                                  NaN                 \n4                                                  NaN                 \n..                                                 ...                 \n253                                                NaN                 \n254                                              202.0                 \n255                                                NaN                 \n256                                                NaN                 \n257                                                NaN                 \n\n     Transnational Issues: Trafficking in persons - Tier 2 Watch List  \\\n0                                                  NaN                  \n1                                                  NaN                  \n2                                                  NaN                  \n3                                                  NaN                  \n4                                                  NaN                  \n..                                                 ...                  \n253                                                NaN                  \n254                                               44.0                  \n255                                                NaN                  \n256                                                NaN                  \n257                                                NaN                  \n\n     Transnational Issues: Trafficking in persons - Tier 3  \\\n0                                                  NaN       \n1                                                  NaN       \n2                                                  NaN       \n3                                                  NaN       \n4                                                  NaN       \n..                                                 ...       \n253                                                NaN       \n254                                               19.0       \n255                                                NaN       \n256                                                NaN       \n257                                                NaN       \n\n     Transnational Issues: Illicit drugs - cocaine  \\\n0                                              NaN   \n1                                              NaN   \n2                                              NaN   \n3                                              NaN   \n4                                              NaN   \n..                                             ...   \n253                                            NaN   \n254                                          202.0   \n255                                            NaN   \n256                                            NaN   \n257                                            NaN   \n\n     Transnational Issues: Illicit drugs - opiates  \\\n0                                              NaN   \n1                                              NaN   \n2                                              NaN   \n3                                              NaN   \n4                                              NaN   \n..                                             ...   \n253                                            NaN   \n254                                       265000.0   \n255                                            NaN   \n256                                            NaN   \n257                                            NaN   \n\n     Energy: Electricity access - population without electricity  \n0                                                  NaN            \n1                                                  NaN            \n2                                                  NaN            \n3                                                  NaN            \n4                                                  NaN            \n..                                                 ...            \n253                                                NaN            \n254                                                NaN            \n255                                               16.0            \n256                                                NaN            \n257                                                NaN            \n\n[258 rows x 1054 columns]",
      "text/html": "<div>\n<style scoped>\n    .dataframe tbody tr th:only-of-type {\n        vertical-align: middle;\n    }\n\n    .dataframe tbody tr th {\n        vertical-align: top;\n    }\n\n    .dataframe thead th {\n        text-align: right;\n    }\n</style>\n<table border=\"1\" class=\"dataframe\">\n  <thead>\n    <tr style=\"text-align: right;\">\n      <th></th>\n      <th>Country</th>\n      <th>url</th>\n      <th>Introduction: Background</th>\n      <th>Geography: Location</th>\n      <th>Geography: Geographic coordinates</th>\n      <th>Geography: Map references</th>\n      <th>Geography: Area - total</th>\n      <th>Geography: Area - land</th>\n      <th>Geography: Area - water</th>\n      <th>Geography: Area - comparative</th>\n      <th>...</th>\n      <th>Transportation: Waterways - note 2</th>\n      <th>Transportation: Waterways - top ten largest natural lakes (by surface area)</th>\n      <th>Transportation: Waterways - note 3</th>\n      <th>Transportation: Ports and terminals - top twenty container ports as measured by Twenty-Foot Equivalent Units (TEUs) throughput</th>\n      <th>Transnational Issues: Refugees and internally displaced persons</th>\n      <th>Transnational Issues: Trafficking in persons - Tier 2 Watch List</th>\n      <th>Transnational Issues: Trafficking in persons - Tier 3</th>\n      <th>Transnational Issues: Illicit drugs - cocaine</th>\n      <th>Transnational Issues: Illicit drugs - opiates</th>\n      <th>Energy: Electricity access - population without electricity</th>\n    </tr>\n  </thead>\n  <tbody>\n    <tr>\n      <th>0</th>\n      <td>Afghanistan</td>\n      <td>NaN</td>\n      <td>174.0</td>\n      <td>NaN</td>\n      <td>33.0</td>\n      <td>NaN</td>\n      <td>652230.000</td>\n      <td>652230.00</td>\n      <td>0.0</td>\n      <td>NaN</td>\n      <td>...</td>\n      <td>NaN</td>\n      <td>NaN</td>\n      <td>NaN</td>\n      <td>NaN</td>\n      <td>NaN</td>\n      <td>NaN</td>\n      <td>NaN</td>\n      <td>NaN</td>\n      <td>NaN</td>\n      <td>NaN</td>\n    </tr>\n    <tr>\n      <th>1</th>\n      <td>Akrotiri</td>\n      <td>NaN</td>\n      <td>196.0</td>\n      <td>NaN</td>\n      <td>34.0</td>\n      <td>NaN</td>\n      <td>123.000</td>\n      <td>NaN</td>\n      <td>NaN</td>\n      <td>0.7</td>\n      <td>...</td>\n      <td>NaN</td>\n      <td>NaN</td>\n      <td>NaN</td>\n      <td>NaN</td>\n      <td>NaN</td>\n      <td>NaN</td>\n      <td>NaN</td>\n      <td>NaN</td>\n      <td>NaN</td>\n      <td>NaN</td>\n    </tr>\n    <tr>\n      <th>2</th>\n      <td>Albania</td>\n      <td>NaN</td>\n      <td>191.0</td>\n      <td>NaN</td>\n      <td>41.0</td>\n      <td>NaN</td>\n      <td>28748.000</td>\n      <td>27398.00</td>\n      <td>1350.0</td>\n      <td>NaN</td>\n      <td>...</td>\n      <td>NaN</td>\n      <td>NaN</td>\n      <td>NaN</td>\n      <td>NaN</td>\n      <td>NaN</td>\n      <td>NaN</td>\n      <td>NaN</td>\n      <td>NaN</td>\n      <td>NaN</td>\n      <td>NaN</td>\n    </tr>\n    <tr>\n      <th>3</th>\n      <td>Algeria</td>\n      <td>NaN</td>\n      <td>3.0</td>\n      <td>NaN</td>\n      <td>28.0</td>\n      <td>NaN</td>\n      <td>2381740.000</td>\n      <td>2381740.00</td>\n      <td>0.0</td>\n      <td>3.5</td>\n      <td>...</td>\n      <td>NaN</td>\n      <td>NaN</td>\n      <td>NaN</td>\n      <td>NaN</td>\n      <td>NaN</td>\n      <td>NaN</td>\n      <td>NaN</td>\n      <td>NaN</td>\n      <td>NaN</td>\n      <td>NaN</td>\n    </tr>\n    <tr>\n      <th>4</th>\n      <td>American Samoa</td>\n      <td>NaN</td>\n      <td>100.0</td>\n      <td>NaN</td>\n      <td>14.0</td>\n      <td>NaN</td>\n      <td>224.000</td>\n      <td>224.00</td>\n      <td>0.0</td>\n      <td>NaN</td>\n      <td>...</td>\n      <td>NaN</td>\n      <td>NaN</td>\n      <td>NaN</td>\n      <td>NaN</td>\n      <td>NaN</td>\n      <td>NaN</td>\n      <td>NaN</td>\n      <td>NaN</td>\n      <td>NaN</td>\n      <td>NaN</td>\n    </tr>\n    <tr>\n      <th>...</th>\n      <td>...</td>\n      <td>...</td>\n      <td>...</td>\n      <td>...</td>\n      <td>...</td>\n      <td>...</td>\n      <td>...</td>\n      <td>...</td>\n      <td>...</td>\n      <td>...</td>\n      <td>...</td>\n      <td>...</td>\n      <td>...</td>\n      <td>...</td>\n      <td>...</td>\n      <td>...</td>\n      <td>...</td>\n      <td>...</td>\n      <td>...</td>\n      <td>...</td>\n      <td>...</td>\n    </tr>\n    <tr>\n      <th>253</th>\n      <td>West Bank</td>\n      <td>NaN</td>\n      <td>15.0</td>\n      <td>NaN</td>\n      <td>32.0</td>\n      <td>NaN</td>\n      <td>5860.000</td>\n      <td>5640.00</td>\n      <td>220.0</td>\n      <td>NaN</td>\n      <td>...</td>\n      <td>NaN</td>\n      <td>NaN</td>\n      <td>NaN</td>\n      <td>NaN</td>\n      <td>NaN</td>\n      <td>NaN</td>\n      <td>NaN</td>\n      <td>NaN</td>\n      <td>NaN</td>\n      <td>NaN</td>\n    </tr>\n    <tr>\n      <th>254</th>\n      <td>World</td>\n      <td>NaN</td>\n      <td>20.0</td>\n      <td>NaN</td>\n      <td>NaN</td>\n      <td>NaN</td>\n      <td>510.072</td>\n      <td>148.94</td>\n      <td>361.9</td>\n      <td>16.0</td>\n      <td>...</td>\n      <td>20.0</td>\n      <td>372960.0</td>\n      <td>1620.0</td>\n      <td>43303000.0</td>\n      <td>202.0</td>\n      <td>44.0</td>\n      <td>19.0</td>\n      <td>202.0</td>\n      <td>265000.0</td>\n      <td>NaN</td>\n    </tr>\n    <tr>\n      <th>255</th>\n      <td>Yemen</td>\n      <td>NaN</td>\n      <td>191.0</td>\n      <td>NaN</td>\n      <td>15.0</td>\n      <td>NaN</td>\n      <td>527968.000</td>\n      <td>527968.00</td>\n      <td>0.0</td>\n      <td>NaN</td>\n      <td>...</td>\n      <td>NaN</td>\n      <td>NaN</td>\n      <td>NaN</td>\n      <td>NaN</td>\n      <td>NaN</td>\n      <td>NaN</td>\n      <td>NaN</td>\n      <td>NaN</td>\n      <td>NaN</td>\n      <td>16.0</td>\n    </tr>\n    <tr>\n      <th>256</th>\n      <td>Zambia</td>\n      <td>NaN</td>\n      <td>188.0</td>\n      <td>NaN</td>\n      <td>15.0</td>\n      <td>NaN</td>\n      <td>752618.000</td>\n      <td>743398.00</td>\n      <td>9220.0</td>\n      <td>NaN</td>\n      <td>...</td>\n      <td>NaN</td>\n      <td>NaN</td>\n      <td>NaN</td>\n      <td>NaN</td>\n      <td>NaN</td>\n      <td>NaN</td>\n      <td>NaN</td>\n      <td>NaN</td>\n      <td>NaN</td>\n      <td>NaN</td>\n    </tr>\n    <tr>\n      <th>257</th>\n      <td>Zimbabwe</td>\n      <td>NaN</td>\n      <td>500.0</td>\n      <td>NaN</td>\n      <td>20.0</td>\n      <td>NaN</td>\n      <td>390757.000</td>\n      <td>386847.00</td>\n      <td>3910.0</td>\n      <td>NaN</td>\n      <td>...</td>\n      <td>NaN</td>\n      <td>NaN</td>\n      <td>NaN</td>\n      <td>NaN</td>\n      <td>NaN</td>\n      <td>NaN</td>\n      <td>NaN</td>\n      <td>NaN</td>\n      <td>NaN</td>\n      <td>NaN</td>\n    </tr>\n  </tbody>\n</table>\n<p>258 rows × 1054 columns</p>\n</div>"
     },
     "execution_count": 7,
     "metadata": {},
     "output_type": "execute_result"
    }
   ],
   "source": [
    "# dictionary columns to DF, checking is now float\n",
    "newCols = [ ]\n",
    "dfFloat = dffBook.iloc[ :, 0 ]  # start with countries\n",
    "for colName in dfFbDict:\n",
    "    clean = pd.Series( dfFbDict[ colName ][ 'clean' ] )\n",
    "    lenFloat = len( [ i for i in clean if type( i ) == float ] )\n",
    "    if lenFloat>len( clean ) * 0.90:\n",
    "        newCols.append( colName )\n",
    "        dfFloat = pd.concat( [ dfFloat, clean ], axis=1 )\n",
    "    else: print( \"col is less than 90% float. Dropping...\" )\n",
    "\n",
    "dfFloat.columns = [ 'Country' ] + newCols\n",
    "dfFloat\n"
   ],
   "metadata": {
    "collapsed": false,
    "pycharm": {
     "name": "#%%\n"
    }
   }
  },
  {
   "cell_type": "code",
   "execution_count": 8,
   "outputs": [],
   "source": [
    "# Enforce non-nan threshold for rows and columns\n",
    "\n",
    "def nanThreshold( notNan ):  # average plus .5 standard deviation (rounded)\n",
    "    return int( (sum( notNan ) / len( notNan )) + 0.5 * np.std( notNan ) )\n",
    "\n",
    "\n",
    "def nonNanFromDims( dfr, dim = 1 ):\n",
    "    nonNans = [ ]\n",
    "    for pos in range( 0, dfr.shape[ dim ] ):\n",
    "        vals = (dfr.iloc[ :, pos ].tolist() if dim == 1\n",
    "                else dfr.loc[ [ pos ] ].values.tolist()[ 0 ])\n",
    "        \n",
    "        nonNans.append( [ vals, len( [ v for v in vals if (\n",
    "                type( v ) == float and not math.isnan( v )) ] ) ] )\n",
    "    \n",
    "    _thresh = nanThreshold( [ nval for _, nval in nonNans ] )\n",
    "    keepVals = [ kval for kval, nnul in nonNans if nnul>=_thresh ]\n",
    "    print( f\"non-nan[ {len( keepVals )} ] thr[ {_thresh} ] dim[ {dim} ]\" )\n",
    "    \n",
    "    return keepVals"
   ],
   "metadata": {
    "collapsed": false,
    "pycharm": {
     "name": "#%%\n"
    }
   }
  },
  {
   "cell_type": "code",
   "execution_count": 9,
   "outputs": [
    {
     "name": "stdout",
     "output_type": "stream",
     "text": [
      "non-nan[ 125 ] thr[ 255 ] dim[ 0 ]\n"
     ]
    },
    {
     "data": {
      "text/plain": "            0    1                         2                    3     \\\n0        Country  url  Introduction: Background  Geography: Location   \n1    Afghanistan  NaN                     174.0                  NaN   \n2        Albania  NaN                     191.0                  NaN   \n3        Algeria  NaN                       3.0                  NaN   \n4         Angola  NaN                      14.0                  NaN   \n..           ...  ...                       ...                  ...   \n121    Venezuela  NaN                     183.0                  NaN   \n122      Vietnam  NaN                      10.0                  NaN   \n123        Yemen  NaN                     191.0                  NaN   \n124       Zambia  NaN                     188.0                  NaN   \n125     Zimbabwe  NaN                     500.0                  NaN   \n\n                                  4                          5     \\\n0    Geography: Geographic coordinates  Geography: Map references   \n1                                 33.0                        NaN   \n2                                 41.0                        NaN   \n3                                 28.0                        NaN   \n4                                 12.0                        NaN   \n..                                 ...                        ...   \n121                                8.0                        NaN   \n122                               16.0                        NaN   \n123                               15.0                        NaN   \n124                               15.0                        NaN   \n125                               20.0                        NaN   \n\n                        6                       7                        8     \\\n0    Geography: Area - total  Geography: Area - land  Geography: Area - water   \n1                   652230.0                652230.0                      0.0   \n2                    28748.0                 27398.0                   1350.0   \n3                  2381740.0               2381740.0                      0.0   \n4                  1246700.0               1246700.0                      0.0   \n..                       ...                     ...                      ...   \n121                 912050.0                882050.0                  30000.0   \n122                 331210.0                310070.0                  21140.0   \n123                 527968.0                527968.0                      0.0   \n124                 752618.0                743398.0                   9220.0   \n125                 390757.0                386847.0                   3910.0   \n\n                              9     ...                                1044  \\\n0    Geography: Area - comparative  ...  Transportation: Waterways - note 2   \n1                              NaN  ...                                 NaN   \n2                              NaN  ...                                 NaN   \n3                              3.5  ...                                 NaN   \n4                              NaN  ...                                 NaN   \n..                             ...  ...                                 ...   \n121                            NaN  ...                                 NaN   \n122                            NaN  ...                                 NaN   \n123                            NaN  ...                                 NaN   \n124                            NaN  ...                                 NaN   \n125                            NaN  ...                                 NaN   \n\n                                                  1045  \\\n0    Transportation: Waterways - top ten largest na...   \n1                                                  NaN   \n2                                                  NaN   \n3                                                  NaN   \n4                                                  NaN   \n..                                                 ...   \n121                                                NaN   \n122                                                NaN   \n123                                                NaN   \n124                                                NaN   \n125                                                NaN   \n\n                                   1046  \\\n0    Transportation: Waterways - note 3   \n1                                   NaN   \n2                                   NaN   \n3                                   NaN   \n4                                   NaN   \n..                                  ...   \n121                                 NaN   \n122                                 NaN   \n123                                 NaN   \n124                                 NaN   \n125                                 NaN   \n\n                                                  1047  \\\n0    Transportation: Ports and terminals - top twen...   \n1                                                  NaN   \n2                                                  NaN   \n3                                                  NaN   \n4                                                  NaN   \n..                                                 ...   \n121                                                NaN   \n122                                                NaN   \n123                                                NaN   \n124                                                NaN   \n125                                                NaN   \n\n                                                  1048  \\\n0    Transnational Issues: Refugees and internally ...   \n1                                                  NaN   \n2                                                  NaN   \n3                                                  NaN   \n4                                                  NaN   \n..                                                 ...   \n121                                                NaN   \n122                                                NaN   \n123                                                NaN   \n124                                                NaN   \n125                                                NaN   \n\n                                                  1049  \\\n0    Transnational Issues: Trafficking in persons -...   \n1                                                  NaN   \n2                                                  NaN   \n3                                                  NaN   \n4                                                  NaN   \n..                                                 ...   \n121                                                NaN   \n122                                                NaN   \n123                                                NaN   \n124                                                NaN   \n125                                                NaN   \n\n                                                  1050  \\\n0    Transnational Issues: Trafficking in persons -...   \n1                                                  NaN   \n2                                                  NaN   \n3                                                  NaN   \n4                                                  NaN   \n..                                                 ...   \n121                                                NaN   \n122                                                NaN   \n123                                                NaN   \n124                                                NaN   \n125                                                NaN   \n\n                                              1051  \\\n0    Transnational Issues: Illicit drugs - cocaine   \n1                                              NaN   \n2                                              NaN   \n3                                              NaN   \n4                                              NaN   \n..                                             ...   \n121                                            NaN   \n122                                            NaN   \n123                                            NaN   \n124                                            NaN   \n125                                            NaN   \n\n                                              1052  \\\n0    Transnational Issues: Illicit drugs - opiates   \n1                                              NaN   \n2                                              NaN   \n3                                              NaN   \n4                                              NaN   \n..                                             ...   \n121                                            NaN   \n122                                            NaN   \n123                                            NaN   \n124                                            NaN   \n125                                            NaN   \n\n                                                  1053  \n0    Energy: Electricity access - population withou...  \n1                                                  NaN  \n2                                                  NaN  \n3                                                  NaN  \n4                                                  NaN  \n..                                                 ...  \n121                                                NaN  \n122                                                NaN  \n123                                               16.0  \n124                                                NaN  \n125                                                NaN  \n\n[126 rows x 1054 columns]",
      "text/html": "<div>\n<style scoped>\n    .dataframe tbody tr th:only-of-type {\n        vertical-align: middle;\n    }\n\n    .dataframe tbody tr th {\n        vertical-align: top;\n    }\n\n    .dataframe thead th {\n        text-align: right;\n    }\n</style>\n<table border=\"1\" class=\"dataframe\">\n  <thead>\n    <tr style=\"text-align: right;\">\n      <th></th>\n      <th>0</th>\n      <th>1</th>\n      <th>2</th>\n      <th>3</th>\n      <th>4</th>\n      <th>5</th>\n      <th>6</th>\n      <th>7</th>\n      <th>8</th>\n      <th>9</th>\n      <th>...</th>\n      <th>1044</th>\n      <th>1045</th>\n      <th>1046</th>\n      <th>1047</th>\n      <th>1048</th>\n      <th>1049</th>\n      <th>1050</th>\n      <th>1051</th>\n      <th>1052</th>\n      <th>1053</th>\n    </tr>\n  </thead>\n  <tbody>\n    <tr>\n      <th>0</th>\n      <td>Country</td>\n      <td>url</td>\n      <td>Introduction: Background</td>\n      <td>Geography: Location</td>\n      <td>Geography: Geographic coordinates</td>\n      <td>Geography: Map references</td>\n      <td>Geography: Area - total</td>\n      <td>Geography: Area - land</td>\n      <td>Geography: Area - water</td>\n      <td>Geography: Area - comparative</td>\n      <td>...</td>\n      <td>Transportation: Waterways - note 2</td>\n      <td>Transportation: Waterways - top ten largest na...</td>\n      <td>Transportation: Waterways - note 3</td>\n      <td>Transportation: Ports and terminals - top twen...</td>\n      <td>Transnational Issues: Refugees and internally ...</td>\n      <td>Transnational Issues: Trafficking in persons -...</td>\n      <td>Transnational Issues: Trafficking in persons -...</td>\n      <td>Transnational Issues: Illicit drugs - cocaine</td>\n      <td>Transnational Issues: Illicit drugs - opiates</td>\n      <td>Energy: Electricity access - population withou...</td>\n    </tr>\n    <tr>\n      <th>1</th>\n      <td>Afghanistan</td>\n      <td>NaN</td>\n      <td>174.0</td>\n      <td>NaN</td>\n      <td>33.0</td>\n      <td>NaN</td>\n      <td>652230.0</td>\n      <td>652230.0</td>\n      <td>0.0</td>\n      <td>NaN</td>\n      <td>...</td>\n      <td>NaN</td>\n      <td>NaN</td>\n      <td>NaN</td>\n      <td>NaN</td>\n      <td>NaN</td>\n      <td>NaN</td>\n      <td>NaN</td>\n      <td>NaN</td>\n      <td>NaN</td>\n      <td>NaN</td>\n    </tr>\n    <tr>\n      <th>2</th>\n      <td>Albania</td>\n      <td>NaN</td>\n      <td>191.0</td>\n      <td>NaN</td>\n      <td>41.0</td>\n      <td>NaN</td>\n      <td>28748.0</td>\n      <td>27398.0</td>\n      <td>1350.0</td>\n      <td>NaN</td>\n      <td>...</td>\n      <td>NaN</td>\n      <td>NaN</td>\n      <td>NaN</td>\n      <td>NaN</td>\n      <td>NaN</td>\n      <td>NaN</td>\n      <td>NaN</td>\n      <td>NaN</td>\n      <td>NaN</td>\n      <td>NaN</td>\n    </tr>\n    <tr>\n      <th>3</th>\n      <td>Algeria</td>\n      <td>NaN</td>\n      <td>3.0</td>\n      <td>NaN</td>\n      <td>28.0</td>\n      <td>NaN</td>\n      <td>2381740.0</td>\n      <td>2381740.0</td>\n      <td>0.0</td>\n      <td>3.5</td>\n      <td>...</td>\n      <td>NaN</td>\n      <td>NaN</td>\n      <td>NaN</td>\n      <td>NaN</td>\n      <td>NaN</td>\n      <td>NaN</td>\n      <td>NaN</td>\n      <td>NaN</td>\n      <td>NaN</td>\n      <td>NaN</td>\n    </tr>\n    <tr>\n      <th>4</th>\n      <td>Angola</td>\n      <td>NaN</td>\n      <td>14.0</td>\n      <td>NaN</td>\n      <td>12.0</td>\n      <td>NaN</td>\n      <td>1246700.0</td>\n      <td>1246700.0</td>\n      <td>0.0</td>\n      <td>NaN</td>\n      <td>...</td>\n      <td>NaN</td>\n      <td>NaN</td>\n      <td>NaN</td>\n      <td>NaN</td>\n      <td>NaN</td>\n      <td>NaN</td>\n      <td>NaN</td>\n      <td>NaN</td>\n      <td>NaN</td>\n      <td>NaN</td>\n    </tr>\n    <tr>\n      <th>...</th>\n      <td>...</td>\n      <td>...</td>\n      <td>...</td>\n      <td>...</td>\n      <td>...</td>\n      <td>...</td>\n      <td>...</td>\n      <td>...</td>\n      <td>...</td>\n      <td>...</td>\n      <td>...</td>\n      <td>...</td>\n      <td>...</td>\n      <td>...</td>\n      <td>...</td>\n      <td>...</td>\n      <td>...</td>\n      <td>...</td>\n      <td>...</td>\n      <td>...</td>\n      <td>...</td>\n    </tr>\n    <tr>\n      <th>121</th>\n      <td>Venezuela</td>\n      <td>NaN</td>\n      <td>183.0</td>\n      <td>NaN</td>\n      <td>8.0</td>\n      <td>NaN</td>\n      <td>912050.0</td>\n      <td>882050.0</td>\n      <td>30000.0</td>\n      <td>NaN</td>\n      <td>...</td>\n      <td>NaN</td>\n      <td>NaN</td>\n      <td>NaN</td>\n      <td>NaN</td>\n      <td>NaN</td>\n      <td>NaN</td>\n      <td>NaN</td>\n      <td>NaN</td>\n      <td>NaN</td>\n      <td>NaN</td>\n    </tr>\n    <tr>\n      <th>122</th>\n      <td>Vietnam</td>\n      <td>NaN</td>\n      <td>10.0</td>\n      <td>NaN</td>\n      <td>16.0</td>\n      <td>NaN</td>\n      <td>331210.0</td>\n      <td>310070.0</td>\n      <td>21140.0</td>\n      <td>NaN</td>\n      <td>...</td>\n      <td>NaN</td>\n      <td>NaN</td>\n      <td>NaN</td>\n      <td>NaN</td>\n      <td>NaN</td>\n      <td>NaN</td>\n      <td>NaN</td>\n      <td>NaN</td>\n      <td>NaN</td>\n      <td>NaN</td>\n    </tr>\n    <tr>\n      <th>123</th>\n      <td>Yemen</td>\n      <td>NaN</td>\n      <td>191.0</td>\n      <td>NaN</td>\n      <td>15.0</td>\n      <td>NaN</td>\n      <td>527968.0</td>\n      <td>527968.0</td>\n      <td>0.0</td>\n      <td>NaN</td>\n      <td>...</td>\n      <td>NaN</td>\n      <td>NaN</td>\n      <td>NaN</td>\n      <td>NaN</td>\n      <td>NaN</td>\n      <td>NaN</td>\n      <td>NaN</td>\n      <td>NaN</td>\n      <td>NaN</td>\n      <td>16.0</td>\n    </tr>\n    <tr>\n      <th>124</th>\n      <td>Zambia</td>\n      <td>NaN</td>\n      <td>188.0</td>\n      <td>NaN</td>\n      <td>15.0</td>\n      <td>NaN</td>\n      <td>752618.0</td>\n      <td>743398.0</td>\n      <td>9220.0</td>\n      <td>NaN</td>\n      <td>...</td>\n      <td>NaN</td>\n      <td>NaN</td>\n      <td>NaN</td>\n      <td>NaN</td>\n      <td>NaN</td>\n      <td>NaN</td>\n      <td>NaN</td>\n      <td>NaN</td>\n      <td>NaN</td>\n      <td>NaN</td>\n    </tr>\n    <tr>\n      <th>125</th>\n      <td>Zimbabwe</td>\n      <td>NaN</td>\n      <td>500.0</td>\n      <td>NaN</td>\n      <td>20.0</td>\n      <td>NaN</td>\n      <td>390757.0</td>\n      <td>386847.0</td>\n      <td>3910.0</td>\n      <td>NaN</td>\n      <td>...</td>\n      <td>NaN</td>\n      <td>NaN</td>\n      <td>NaN</td>\n      <td>NaN</td>\n      <td>NaN</td>\n      <td>NaN</td>\n      <td>NaN</td>\n      <td>NaN</td>\n      <td>NaN</td>\n      <td>NaN</td>\n    </tr>\n  </tbody>\n</table>\n<p>126 rows × 1054 columns</p>\n</div>"
     },
     "execution_count": 9,
     "metadata": {},
     "output_type": "execute_result"
    }
   ],
   "source": [
    "# ROWS\n",
    "dfRowsClean = pd.DataFrame( nonNanFromDims( dfFloat, dim=0 ) )\n",
    "\n",
    "# add a columnindex row to track names of kept columns\n",
    "dfRowsClean.loc[ -1 ] = dfFloat.columns\n",
    "dfRowsClean.index = dfRowsClean.index + 1\n",
    "dfRowsClean.sort_index( inplace=True )\n",
    "dfRowsClean\n"
   ],
   "metadata": {
    "collapsed": false,
    "pycharm": {
     "name": "#%%\n"
    }
   }
  },
  {
   "cell_type": "code",
   "execution_count": 10,
   "outputs": [
    {
     "name": "stdout",
     "output_type": "stream",
     "text": [
      "non-nan[ 267 ] thr[ 57 ] dim[ 1 ]\n"
     ]
    }
   ],
   "source": [
    "# COLS\n",
    "keepCols = nonNanFromDims( dfRowsClean, dim=1 )\n",
    "\n",
    "# convert to numeric df\n",
    "dfColsClean = pd.DataFrame( { col[ 0 ]: col[ 1: ] for col in keepCols } )\n",
    "df = dfColsClean.apply( pd.to_numeric, errors='ignore' )"
   ],
   "metadata": {
    "collapsed": false,
    "pycharm": {
     "name": "#%%\n"
    }
   }
  },
  {
   "cell_type": "code",
   "execution_count": 11,
   "outputs": [
    {
     "data": {
      "text/plain": "         Country  Introduction: Background  Geography: Geographic coordinates  \\\n0    Afghanistan                     174.0                               33.0   \n1        Albania                     191.0                               41.0   \n2        Algeria                       3.0                               28.0   \n3         Angola                      14.0                               12.0   \n4      Argentina                     181.0                               34.0   \n..           ...                       ...                                ...   \n120    Venezuela                     183.0                                8.0   \n121      Vietnam                      10.0                               16.0   \n122        Yemen                     191.0                               15.0   \n123       Zambia                     188.0                               15.0   \n124     Zimbabwe                     500.0                               20.0   \n\n     Geography: Area - total  Geography: Area - land  Geography: Area - water  \\\n0                   652230.0                652230.0                      0.0   \n1                    28748.0                 27398.0                   1350.0   \n2                  2381740.0               2381740.0                      0.0   \n3                  1246700.0               1246700.0                      0.0   \n4                  2780400.0               2736690.0                  43710.0   \n..                       ...                     ...                      ...   \n120                 912050.0                882050.0                  30000.0   \n121                 331210.0                310070.0                  21140.0   \n122                 527968.0                527968.0                      0.0   \n123                 752618.0                743398.0                   9220.0   \n124                 390757.0                386847.0                   3910.0   \n\n     Geography: Land boundaries - total  Geography: Coastline  \\\n0                               5987.00                   0.0   \n1                                691.00                 362.0   \n2                               6734.00                 998.0   \n3                               5369.00                1600.0   \n4                              11968.00                4989.0   \n..                                  ...                   ...   \n120                             5267.00                2800.0   \n121                             4616.00                3444.0   \n122                             1601.00                1906.0   \n123                             6043.15                   0.0   \n124                             3229.00                   0.0   \n\n     Geography: Elevation - highest point  \\\n0                                  7492.0   \n1                                  2764.0   \n2                                  2908.0   \n3                                  2620.0   \n4                                  6962.0   \n..                                    ...   \n120                                4978.0   \n121                                3144.0   \n122                                3666.0   \n123                                2330.0   \n124                                2592.0   \n\n     Geography: Elevation - lowest point  ...  \\\n0                                  258.0  ...   \n1                                    0.0  ...   \n2                                  -40.0  ...   \n3                                    0.0  ...   \n4                                 -105.0  ...   \n..                                   ...  ...   \n120                                  0.0  ...   \n121                                  0.0  ...   \n122                                  0.0  ...   \n123                                329.0  ...   \n124                                162.0  ...   \n\n     Transportation: Railways - standard gauge  \\\n0                                          NaN   \n1                                        677.0   \n2                                       2888.0   \n3                                          NaN   \n4                                       2745.1   \n..                                         ...   \n120                                      447.0   \n121                                      178.0   \n122                                        NaN   \n123                                        NaN   \n124                                        NaN   \n\n     Transportation: Merchant marine - total  \\\n0                                        NaN   \n1                                       70.0   \n2                                      114.0   \n3                                       54.0   \n4                                      202.0   \n..                                       ...   \n120                                    281.0   \n121                                   1926.0   \n122                                     34.0   \n123                                      2.0   \n124                                      NaN   \n\n     Transportation: Merchant marine - by type  \\\n0                                          NaN   \n1                                         47.0   \n2                                          1.0   \n3                                         13.0   \n4                                          1.0   \n..                                         ...   \n120                                        4.0   \n121                                      116.0   \n122                                        2.0   \n123                                        1.0   \n124                                        NaN   \n\n     Transnational Issues: Refugees and internally displaced persons - stateless persons  \\\n0                                                  NaN                                     \n1                                               1528.0                                     \n2                                                  NaN                                     \n3                                                  NaN                                     \n4                                                  NaN                                     \n..                                                 ...                                     \n120                                                NaN                                     \n121                                            30581.0                                     \n122                                                NaN                                     \n123                                                NaN                                     \n124                                                NaN                                     \n\n     Environment: Waste and recycling - municipal solid waste recycled annually  \\\n0                                                  NaN                            \n1                                                  NaN                            \n2                                             990299.0                            \n3                                                  NaN                            \n4                                            1074633.0                            \n..                                                 ...                            \n120                                                NaN                            \n121                                          2201169.0                            \n122                                           386946.0                            \n123                                                NaN                            \n124                                           231960.0                            \n\n     Environment: Waste and recycling - percent of municipal solid waste recycled  \\\n0                                                  NaN                              \n1                                                  NaN                              \n2                                                  8.0                              \n3                                                  NaN                              \n4                                                  6.0                              \n..                                                 ...                              \n120                                                NaN                              \n121                                               23.0                              \n122                                                8.0                              \n123                                                NaN                              \n124                                               16.0                              \n\n     Transportation: Railways - narrow gauge  \\\n0                                        NaN   \n1                                        NaN   \n2                                     1085.0   \n3                                     2729.0   \n4                                     7523.3   \n..                                       ...   \n120                                      NaN   \n121                                   2169.0   \n122                                      NaN   \n123                                   3126.0   \n124                                   3427.0   \n\n     Geography: Maritime claims - exclusive economic zone  \\\n0                                                  NaN      \n1                                                  NaN      \n2                                                  NaN      \n3                                                200.0      \n4                                                200.0      \n..                                                 ...      \n120                                              200.0      \n121                                              200.0      \n122                                              200.0      \n123                                                NaN      \n124                                                NaN      \n\n     Economy: Credit ratings - Fitch rating  \\\n0                                       NaN   \n1                                       NaN   \n2                                       NaN   \n3                                     202.0   \n4                                     202.0   \n..                                      ...   \n120                                   201.0   \n121                                   201.0   \n122                                     NaN   \n123                                   202.0   \n124                                     NaN   \n\n     Military and Security: Military deployments  \n0                                            NaN  \n1                                            NaN  \n2                                            NaN  \n3                                            NaN  \n4                                          200.0  \n..                                           ...  \n120                                          NaN  \n121                                          NaN  \n122                                          NaN  \n123                                        925.0  \n124                                          NaN  \n\n[125 rows x 268 columns]",
      "text/html": "<div>\n<style scoped>\n    .dataframe tbody tr th:only-of-type {\n        vertical-align: middle;\n    }\n\n    .dataframe tbody tr th {\n        vertical-align: top;\n    }\n\n    .dataframe thead th {\n        text-align: right;\n    }\n</style>\n<table border=\"1\" class=\"dataframe\">\n  <thead>\n    <tr style=\"text-align: right;\">\n      <th></th>\n      <th>Country</th>\n      <th>Introduction: Background</th>\n      <th>Geography: Geographic coordinates</th>\n      <th>Geography: Area - total</th>\n      <th>Geography: Area - land</th>\n      <th>Geography: Area - water</th>\n      <th>Geography: Land boundaries - total</th>\n      <th>Geography: Coastline</th>\n      <th>Geography: Elevation - highest point</th>\n      <th>Geography: Elevation - lowest point</th>\n      <th>...</th>\n      <th>Transportation: Railways - standard gauge</th>\n      <th>Transportation: Merchant marine - total</th>\n      <th>Transportation: Merchant marine - by type</th>\n      <th>Transnational Issues: Refugees and internally displaced persons - stateless persons</th>\n      <th>Environment: Waste and recycling - municipal solid waste recycled annually</th>\n      <th>Environment: Waste and recycling - percent of municipal solid waste recycled</th>\n      <th>Transportation: Railways - narrow gauge</th>\n      <th>Geography: Maritime claims - exclusive economic zone</th>\n      <th>Economy: Credit ratings - Fitch rating</th>\n      <th>Military and Security: Military deployments</th>\n    </tr>\n  </thead>\n  <tbody>\n    <tr>\n      <th>0</th>\n      <td>Afghanistan</td>\n      <td>174.0</td>\n      <td>33.0</td>\n      <td>652230.0</td>\n      <td>652230.0</td>\n      <td>0.0</td>\n      <td>5987.00</td>\n      <td>0.0</td>\n      <td>7492.0</td>\n      <td>258.0</td>\n      <td>...</td>\n      <td>NaN</td>\n      <td>NaN</td>\n      <td>NaN</td>\n      <td>NaN</td>\n      <td>NaN</td>\n      <td>NaN</td>\n      <td>NaN</td>\n      <td>NaN</td>\n      <td>NaN</td>\n      <td>NaN</td>\n    </tr>\n    <tr>\n      <th>1</th>\n      <td>Albania</td>\n      <td>191.0</td>\n      <td>41.0</td>\n      <td>28748.0</td>\n      <td>27398.0</td>\n      <td>1350.0</td>\n      <td>691.00</td>\n      <td>362.0</td>\n      <td>2764.0</td>\n      <td>0.0</td>\n      <td>...</td>\n      <td>677.0</td>\n      <td>70.0</td>\n      <td>47.0</td>\n      <td>1528.0</td>\n      <td>NaN</td>\n      <td>NaN</td>\n      <td>NaN</td>\n      <td>NaN</td>\n      <td>NaN</td>\n      <td>NaN</td>\n    </tr>\n    <tr>\n      <th>2</th>\n      <td>Algeria</td>\n      <td>3.0</td>\n      <td>28.0</td>\n      <td>2381740.0</td>\n      <td>2381740.0</td>\n      <td>0.0</td>\n      <td>6734.00</td>\n      <td>998.0</td>\n      <td>2908.0</td>\n      <td>-40.0</td>\n      <td>...</td>\n      <td>2888.0</td>\n      <td>114.0</td>\n      <td>1.0</td>\n      <td>NaN</td>\n      <td>990299.0</td>\n      <td>8.0</td>\n      <td>1085.0</td>\n      <td>NaN</td>\n      <td>NaN</td>\n      <td>NaN</td>\n    </tr>\n    <tr>\n      <th>3</th>\n      <td>Angola</td>\n      <td>14.0</td>\n      <td>12.0</td>\n      <td>1246700.0</td>\n      <td>1246700.0</td>\n      <td>0.0</td>\n      <td>5369.00</td>\n      <td>1600.0</td>\n      <td>2620.0</td>\n      <td>0.0</td>\n      <td>...</td>\n      <td>NaN</td>\n      <td>54.0</td>\n      <td>13.0</td>\n      <td>NaN</td>\n      <td>NaN</td>\n      <td>NaN</td>\n      <td>2729.0</td>\n      <td>200.0</td>\n      <td>202.0</td>\n      <td>NaN</td>\n    </tr>\n    <tr>\n      <th>4</th>\n      <td>Argentina</td>\n      <td>181.0</td>\n      <td>34.0</td>\n      <td>2780400.0</td>\n      <td>2736690.0</td>\n      <td>43710.0</td>\n      <td>11968.00</td>\n      <td>4989.0</td>\n      <td>6962.0</td>\n      <td>-105.0</td>\n      <td>...</td>\n      <td>2745.1</td>\n      <td>202.0</td>\n      <td>1.0</td>\n      <td>NaN</td>\n      <td>1074633.0</td>\n      <td>6.0</td>\n      <td>7523.3</td>\n      <td>200.0</td>\n      <td>202.0</td>\n      <td>200.0</td>\n    </tr>\n    <tr>\n      <th>...</th>\n      <td>...</td>\n      <td>...</td>\n      <td>...</td>\n      <td>...</td>\n      <td>...</td>\n      <td>...</td>\n      <td>...</td>\n      <td>...</td>\n      <td>...</td>\n      <td>...</td>\n      <td>...</td>\n      <td>...</td>\n      <td>...</td>\n      <td>...</td>\n      <td>...</td>\n      <td>...</td>\n      <td>...</td>\n      <td>...</td>\n      <td>...</td>\n      <td>...</td>\n      <td>...</td>\n    </tr>\n    <tr>\n      <th>120</th>\n      <td>Venezuela</td>\n      <td>183.0</td>\n      <td>8.0</td>\n      <td>912050.0</td>\n      <td>882050.0</td>\n      <td>30000.0</td>\n      <td>5267.00</td>\n      <td>2800.0</td>\n      <td>4978.0</td>\n      <td>0.0</td>\n      <td>...</td>\n      <td>447.0</td>\n      <td>281.0</td>\n      <td>4.0</td>\n      <td>NaN</td>\n      <td>NaN</td>\n      <td>NaN</td>\n      <td>NaN</td>\n      <td>200.0</td>\n      <td>201.0</td>\n      <td>NaN</td>\n    </tr>\n    <tr>\n      <th>121</th>\n      <td>Vietnam</td>\n      <td>10.0</td>\n      <td>16.0</td>\n      <td>331210.0</td>\n      <td>310070.0</td>\n      <td>21140.0</td>\n      <td>4616.00</td>\n      <td>3444.0</td>\n      <td>3144.0</td>\n      <td>0.0</td>\n      <td>...</td>\n      <td>178.0</td>\n      <td>1926.0</td>\n      <td>116.0</td>\n      <td>30581.0</td>\n      <td>2201169.0</td>\n      <td>23.0</td>\n      <td>2169.0</td>\n      <td>200.0</td>\n      <td>201.0</td>\n      <td>NaN</td>\n    </tr>\n    <tr>\n      <th>122</th>\n      <td>Yemen</td>\n      <td>191.0</td>\n      <td>15.0</td>\n      <td>527968.0</td>\n      <td>527968.0</td>\n      <td>0.0</td>\n      <td>1601.00</td>\n      <td>1906.0</td>\n      <td>3666.0</td>\n      <td>0.0</td>\n      <td>...</td>\n      <td>NaN</td>\n      <td>34.0</td>\n      <td>2.0</td>\n      <td>NaN</td>\n      <td>386946.0</td>\n      <td>8.0</td>\n      <td>NaN</td>\n      <td>200.0</td>\n      <td>NaN</td>\n      <td>NaN</td>\n    </tr>\n    <tr>\n      <th>123</th>\n      <td>Zambia</td>\n      <td>188.0</td>\n      <td>15.0</td>\n      <td>752618.0</td>\n      <td>743398.0</td>\n      <td>9220.0</td>\n      <td>6043.15</td>\n      <td>0.0</td>\n      <td>2330.0</td>\n      <td>329.0</td>\n      <td>...</td>\n      <td>NaN</td>\n      <td>2.0</td>\n      <td>1.0</td>\n      <td>NaN</td>\n      <td>NaN</td>\n      <td>NaN</td>\n      <td>3126.0</td>\n      <td>NaN</td>\n      <td>202.0</td>\n      <td>925.0</td>\n    </tr>\n    <tr>\n      <th>124</th>\n      <td>Zimbabwe</td>\n      <td>500.0</td>\n      <td>20.0</td>\n      <td>390757.0</td>\n      <td>386847.0</td>\n      <td>3910.0</td>\n      <td>3229.00</td>\n      <td>0.0</td>\n      <td>2592.0</td>\n      <td>162.0</td>\n      <td>...</td>\n      <td>NaN</td>\n      <td>NaN</td>\n      <td>NaN</td>\n      <td>NaN</td>\n      <td>231960.0</td>\n      <td>16.0</td>\n      <td>3427.0</td>\n      <td>NaN</td>\n      <td>NaN</td>\n      <td>NaN</td>\n    </tr>\n  </tbody>\n</table>\n<p>125 rows × 268 columns</p>\n</div>"
     },
     "execution_count": 11,
     "metadata": {},
     "output_type": "execute_result"
    }
   ],
   "source": [
    "# final type check & add countries\n",
    "dTypeDict = dfColsClean.dtypes\n",
    "for itemName in list( dTypeDict.keys() ):\n",
    "    if dTypeDict[ itemName ] != np.float64: print( f\"NOT FLOAT: {itemName}\" )\n",
    "dfColsClean.insert( 0, 'Country', dfRowsClean.iloc[ :, 0 ].tolist()[ 1: ] )\n",
    "dfColsClean"
   ],
   "metadata": {
    "collapsed": false,
    "pycharm": {
     "name": "#%%\n"
    }
   }
  },
  {
   "cell_type": "code",
   "execution_count": 12,
   "outputs": [
    {
     "name": "stdout",
     "output_type": "stream",
     "text": [
      "factbook originally shape: (258, 1054)\n",
      "    NAN-density: 0.74% (200708 NaN in 271932)\n",
      "clean dataframe has shape: (125, 268)\n",
      "    NAN-density: 0.05% (1796 NaN in 33500)\n"
     ]
    }
   ],
   "source": [
    "# Review clean DF\n",
    "fbIsNa = dffBook.isna().sum().sum()\n",
    "dfIsNa = dfColsClean.isna().sum().sum()\n",
    "fbDim = dffBook.shape[ 0 ] * dffBook.shape[ 1 ]\n",
    "dfDim = dfColsClean.shape[ 0 ] * dfColsClean.shape[ 1 ]\n",
    "print( f\"factbook originally shape: {dffBook.shape}\" )\n",
    "print( f\"    NAN-density: {(fbIsNa / fbDim):.2f}% \"\n",
    "       f\"({fbIsNa} NaN in {fbDim})\" )\n",
    "print( f\"clean dataframe has shape: {dfColsClean.shape}\" )\n",
    "print( f\"    NAN-density: {(dfIsNa / dfDim):.2f}% \"\n",
    "       f\"({dfIsNa} NaN in {dfDim})\" )\n",
    "\n"
   ],
   "metadata": {
    "collapsed": false,
    "pycharm": {
     "name": "#%%\n"
    }
   }
  },
  {
   "cell_type": "code",
   "execution_count": 13,
   "outputs": [],
   "source": [
    "# Reporting to identify any differences of unit scale within features\n",
    "\n",
    "cleanReman = { }\n",
    "\n",
    "cleanPatts = [\n",
    "    r'(\\([^)]*\\))',  # remove all bracketed\n",
    "    r'(.* m)$|(.* m) '  # remove all before \" m[endline/space]\" (mtn names)\n",
    "    ]\n",
    "\n",
    "for colName in list( dfColsClean.columns )[ 1: ]:\n",
    "    remainder = dfFbDict[ colName ][ 'remainder' ]\n",
    "    for pattStr in cleanPatts:\n",
    "        patt = re.compile( pattStr )\n",
    "        remainder = remainder.str.replace( patt, '' )\n",
    "    cleanReman.update( { colName: remainder } )"
   ],
   "metadata": {
    "collapsed": false,
    "pycharm": {
     "name": "#%%\n"
    }
   }
  },
  {
   "cell_type": "code",
   "execution_count": 14,
   "outputs": [],
   "source": [
    "# CHECK FOR SCALE FACTORS\n",
    "\n",
    "def runScaleAnalysis( dfr ):\n",
    "    colList = list( dfr.columns )\n",
    "    dropFeatrs = [ ]\n",
    "    cleanNotes = { }\n",
    "    \n",
    "    for pos in range( 1, len( colList ) ):\n",
    "        colNam = colList[ pos ]\n",
    "        colVals = dfr.iloc[ :, pos ].tolist()[ :10 ]\n",
    "        remndr = set( cleanReman[ colNam ] )\n",
    "        rMainPrint = \"\"\n",
    "        for r in list( remndr )[ :25 ]:\n",
    "            if type( r ) == float: rMainPrint = rMainPrint + f\"{r}\\n\"\n",
    "            else: rMainPrint = rMainPrint + f\"{r[ :60 ]}\\n\"\n",
    "        \n",
    "        report = (\n",
    "            f\"COL [ {pos} ] {colNam}\\n\\n\"\n",
    "            f\"CLEANVALS:\\n{colVals}\\n\\n\"\n",
    "            f\"REMAINDER (unq in col: {len( remndr )}):\\n{rMainPrint}\\n\")\n",
    "        \n",
    "        report_a = report + \"\\nACCEPT(A), BREAK(B), CLEAN/SCALE NOTE(C), DROP(D)\"\n",
    "        report_b = report_a + \"\\n\\nPLEASE MAKE A SELECTION:\\n\\n\"\n",
    "        usinp = input( report_a )\n",
    "        while usinp not in [ 'a', 'd', 'c', 'b' ]: usinp = input( report_b )\n",
    "        if usinp == 'b': break\n",
    "        elif usinp == 'a': continue\n",
    "        elif usinp == 'd': dropFeatrs.append( colNam )\n",
    "        else: cleanNotes.update( { colNam:\n",
    "            input( f\"{report[ :250 ]}...\\n\\n\\nCLEANING/SCALE NOTE\" ) } )\n",
    "    \n",
    "    return dropFeatrs, cleanNotes\n",
    "\n",
    "# dropFeatrs, cleanNotes = runScaleAnalysis(dfColsClean)"
   ],
   "metadata": {
    "collapsed": false,
    "pycharm": {
     "name": "#%%\n"
    }
   }
  },
  {
   "cell_type": "code",
   "execution_count": 15,
   "outputs": [],
   "source": [
    "# # SAVE SCALE ANALYSIS DATA\n",
    "# stmp = fTools.dtStamp()\n",
    "# fTools.storePKL( dropFeatrs, f'dropFeatrs_{stmp}', currWorkDir, subdir=None )\n",
    "# fTools.storePKL( cleanNotes, f'cleanNotes_{stmp}', currWorkDir, subdir=None )"
   ],
   "metadata": {
    "collapsed": false,
    "pycharm": {
     "name": "#%%\n"
    }
   }
  },
  {
   "cell_type": "code",
   "execution_count": 16,
   "outputs": [],
   "source": [
    "# LOAD SCALE ANALYSIS DATA\n",
    "pklFiles = [ fi for fi in [ open( pth, 'rb' )\n",
    "    for pth in [ list( dKey )[ 0 ]\n",
    "        for dKey in [ fTools.datesortFiles( currWorkDir, fNam )\n",
    "            for fNam in [ 'dropFeatrs', 'cleanNotes' ]\n",
    "            ] ] ] ]\n",
    "\n",
    "dropFeats, scaleNotes = [ pickle.load( fi ) for fi in pklFiles ]\n",
    "for fi in pklFiles: fi.close()\n"
   ],
   "metadata": {
    "collapsed": false,
    "pycharm": {
     "name": "#%%\n"
    }
   }
  },
  {
   "cell_type": "code",
   "execution_count": 16,
   "outputs": [],
   "source": [],
   "metadata": {
    "collapsed": false,
    "pycharm": {
     "name": "#%%\n"
    }
   }
  },
  {
   "cell_type": "code",
   "execution_count": 17,
   "outputs": [
    {
     "name": "stdout",
     "output_type": "stream",
     "text": [
      "in Geography: Area:  in Chad, \n",
      "COL: Geography: Area - total\n",
      "ROW: 46 (Chad)\n",
      "VAL: 1.284\n",
      "RMT: ' million sq km'\n",
      "SCL: million\n",
      "NVL: 1284000.0\n",
      "\n",
      "in Environment: To:  in Algeria, \n",
      "COL: Environment: Total water withdrawal - municipal\n",
      "ROW: 3 (Algeria)\n",
      "VAL: 3.6\n",
      "RMT: ' billion cubic meters ( est.)'\n",
      "SCL: billion\n",
      "NVL: 3600000000.0\n",
      "\n",
      "in Environment: To:  in Brazil, \n",
      "COL: Environment: Total renewable water resources\n",
      "ROW: 32 (Brazil)\n",
      "VAL: 8.647\n",
      "RMT: ' trillion cubic meters ( est.)'\n",
      "SCL: trillion\n",
      "NVL: 8647000000000.0\n",
      "\n"
     ]
    }
   ],
   "source": [
    "# update value by matching remainder scale fragment via country reference\n",
    "df = dfColsClean.copy()\n",
    "scaleDict = {\n",
    "    \"million\": 1000000,\n",
    "    \"billion\": 1000000000,\n",
    "    \"trillion\": 1000000000000\n",
    "    }\n",
    "\n",
    "# updatedVals = {}\n",
    "\n",
    "tested = [ ]\n",
    "\n",
    "cleanCountries = list( df[ 'Country' ] )\n",
    "\n",
    "for colName in list( scaleNotes.keys() )[ :12 ]:\n",
    "    remnCol = dfFbDict[ colName ][ 'remainder' ]\n",
    "    row = 0\n",
    "    \n",
    "    # checking remnantcol (HAS PRE-CLEAN ENTRIES) for match\n",
    "    for remnt in remnCol:\n",
    "        if type( remnt ) == float: row += 1; continue\n",
    "        country = dffBook[ 'Country' ][ row ]\n",
    "        if country not in cleanCountries: row += 1; continue\n",
    "        \n",
    "        matches = [ ]\n",
    "        \n",
    "        # apply scale of lowest-index matched scale-string in remnant\n",
    "        for scale in scaleDict:\n",
    "            try: matches.append( [ remnt.index( scale ), scale ] )\n",
    "            except ValueError: continue\n",
    "        \n",
    "        if len( matches )>0:  # sort by lowest index (first val of match)\n",
    "            matchScale = sorted( matches, key=lambda x: x[ 0 ] )[ 0 ][ 1 ]\n",
    "            val = df.loc[ df[ 'Country' ] == country ][ colName ].iloc[ 0 ]\n",
    "            newVal = val * scaleDict[matchScale]\n",
    "            \n",
    "            if matchScale not in tested:\n",
    "                tested.append( matchScale )\n",
    "                print( f\"in {colName[ :15 ]}:  in {country}, \" )\n",
    "                print( F\"COL: {colName}\\n\"\n",
    "                       F\"ROW: {row} ({country})\\n\"\n",
    "                       F\"VAL: {val}\\n\"\n",
    "                       F\"RMT: '{remnt}'\\n\"\n",
    "                       F\"SCL: {matchScale}\\n\"\n",
    "                       F\"NVL: {newVal}\\n\" )\n",
    "                \n",
    "            # new df from vals scaled where match\n",
    "        \n",
    "        row += 1"
   ],
   "metadata": {
    "collapsed": false,
    "pycharm": {
     "name": "#%%\n"
    }
   }
  },
  {
   "cell_type": "code",
   "execution_count": 18,
   "outputs": [],
   "source": [
    "#END"
   ],
   "metadata": {
    "collapsed": false,
    "pycharm": {
     "name": "#%%\n"
    }
   }
  }
 ],
 "metadata": {
  "kernelspec": {
   "display_name": "Python 3",
   "language": "python",
   "name": "python3"
  },
  "language_info": {
   "codemirror_mode": {
    "name": "ipython",
    "version": 2
   },
   "file_extension": ".py",
   "mimetype": "text/x-python",
   "name": "python",
   "nbconvert_exporter": "python",
   "pygments_lexer": "ipython2",
   "version": "2.7.6"
  }
 },
 "nbformat": 4,
 "nbformat_minor": 0
}