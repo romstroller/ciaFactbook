{
 "cells": [
  {
   "cell_type": "code",
   "execution_count": null,
   "outputs": [],
   "source": [
    "# ancilliary utility modules\n",
    "import dataUtls  # source in repository\n",
    "import osOps  # see github.com/romstroller/FileTools"
   ],
   "metadata": {
    "collapsed": false,
    "pycharm": {
     "name": "#%%\n"
    }
   }
  },
  {
   "cell_type": "code",
   "execution_count": null,
   "outputs": [],
   "source": [
    "import importlib\n",
    "\n",
    "dataUtls = importlib.reload( dataUtls )\n",
    "osOps = importlib.reload( osOps )"
   ],
   "metadata": {
    "collapsed": false,
    "pycharm": {
     "name": "#%%\n"
    }
   }
  },
  {
   "cell_type": "markdown",
   "source": [
    "### OBJECTIVE\n",
    "This report is a broad exploration of World Factbook data from the US Central \n",
    "Intelligence Agency, seeking to provide general point-of-interest insights on \n",
    "key datapoints in areas including health, gender, economy and environment, both \n",
    "directly from the sample and deriving new features through   \n",
    "These __  maximum-minimum bar plots (\"top tens\"), and correlated-\n",
    "feature scatter plots. \n",
    "\n",
    "The report implements data processing techniques including expression matching, \n",
    "correlation analysis, and z-score and probability density analysis for outliers.  \n",
    "\n",
    "**Some example datapoints...**\n",
    "- What countries have, at the same time, the most adults overweight and the \n",
    "most children underweight?\n",
    "- 2\n",
    "- 3\n",
    "- 4"
   ],
   "metadata": {
    "collapsed": false
   }
  },
  {
   "cell_type": "markdown",
   "source": [
    "### DATA: acquisition, cleaning and feature engineering"
   ],
   "metadata": {
    "collapsed": false,
    "pycharm": {
     "name": "#%% md\n"
    }
   }
  },
  {
   "cell_type": "code",
   "execution_count": null,
   "outputs": [],
   "source": [
    "# authenticate, download and load kaggle dataset\n",
    "dfOR = osOps.OsKit().getKaggleSet( 'lucafrance', 'the-world-factbook-by-cia' )"
   ],
   "metadata": {
    "collapsed": false,
    "pycharm": {
     "name": "#%%\n"
    }
   }
  },
  {
   "cell_type": "code",
   "execution_count": null,
   "outputs": [],
   "source": [
    "# display data type-count\n",
    "print( f\"Data type-count: {dataUtls.typeCount( dfOR )}\" )"
   ],
   "metadata": {
    "collapsed": false,
    "pycharm": {
     "name": "#%%\n"
    }
   }
  },
  {
   "cell_type": "markdown",
   "source": [
    "#### State of information\n",
    "\n",
    "- *[The World Factbook by CIA](https://www.kaggle.com/datasets/lucafrance/the-world-factbook-by-cia)\n",
    " (owner: Luca Franceschini, available at Kaggle.com)*\n",
    "\n",
    "The objective concerns only the features which have a primary value that can be\n",
    "included in numeric operations. The dataset is documented to have been acquired\n",
    "by browser extraction, and contains a substantial amount of noise or extraneous \n",
    "information, in inconsistent format. Pattern matching is further complicated by \n",
    "the presence of historical data in the same cell, and variations of scale within \n",
    "many features.\n",
    "\n",
    "Processing extracts the primary numeric value to float-type, and omits features\n",
    "with null values beyond a minimal threshold (initially, the dataset is 74% \n",
    "null). For clarity, source code for cleaning operations is in the ancillary \n",
    "module. Sufficient processing has been undertaken only to serve observations\n",
    "about the features included in the analysis."
   ],
   "metadata": {
    "collapsed": false,
    "pycharm": {
     "name": "#%% md\n"
    }
   }
  },
  {
   "cell_type": "code",
   "execution_count": null,
   "outputs": [],
   "source": [
    "# Num-parsing dict, regex: r'([+-]?\\d{1,3}(?:,\\d{3})*(?:\\.\\d+)?|\\d*\\.\\d+|\\d+)'\n",
    "dfFbDict = dataUtls.generateMatchDct( dfOR )\n",
    "\n",
    "# isolate clean float from number-match records\n",
    "dataUtls.isolateClean( dfFbDict )\n",
    "\n",
    "# generate dataframe from clean feature data\n",
    "dfFloat = dataUtls.getCleanDF( dfFbDict, dfOR )\n",
    "\n",
    "# enforce non-nan threshold ( av. dense + .5 sDev rounded ), convert numeric\n",
    "dfColsClean = dataUtls.getNumericNonNan( dfFloat )\n",
    "\n",
    "# review cleaned dataframe\n",
    "print( dataUtls.cleanReport( dfOR, dfColsClean, 'loaded', 'clean' ) )"
   ],
   "metadata": {
    "collapsed": false,
    "pycharm": {
     "name": "#%%\n"
    }
   }
  },
  {
   "cell_type": "code",
   "execution_count": null,
   "outputs": [],
   "source": [
    "# Manual analysis: enforce has valid primary number value, locate scale var'nce \n",
    "# dataUtls.runScaleAnalysis(dfColsClean, cleanReman)\n",
    "\n",
    "# Load completed scale/drop analysis\n",
    "dropFeats, scaleNotes = dataUtls.loadSDdata()\n",
    "\n",
    "# apply drop to flagged features\n",
    "dfDropped = dataUtls.omitDropped( dfColsClean, dropFeats )\n",
    "\n",
    "# adjust scale-variant values to unify scale\n",
    "df, cleanCountries = dataUtls.flattenScale(\n",
    "    dfDropped, dfFbDict, scaleNotes, dfOR, dropFeats )\n",
    "\n",
    "# drop summative observation\n",
    "df, popRs = dataUtls.popRows_byFtVal( df, 'Country', [ 'World' ] )\n",
    "\n",
    "# numericise country col, get ref dct\n",
    "dfN, ctrDct, ctrDct_R = dataUtls.numCtry( df )\n",
    "\n",
    "# review numericised dataframe\n",
    "print( dataUtls.cleanReport( dfColsClean, dfN, 'clean', 'numericised' ) )\n",
    "\n",
    "# return \"df\" for maxima-minima analysis, and retain dfN for stat funcs\n",
    "df = dfN.copy()\n",
    "df[ 'Country' ] = df[ 'Country' ].replace( ctrDct )"
   ],
   "metadata": {
    "collapsed": false,
    "pycharm": {
     "name": "#%%\n"
    }
   }
  },
  {
   "cell_type": "markdown",
   "source": [
    "#### OUTLIER ANALYSIS\n",
    "Rather than clipping or smoothing as in many machine learning purposes, this \n",
    "report is especially interested in retaining and presenting genuine outliers \n",
    "(the sample maximums and minimums for various features). Here, outlier analysis \n",
    "is used to determine that outliers are not obviously the result of errors in \n",
    "the data.\n",
    "\n",
    "For example, here we confirm that the highly differentiated probability density\n",
    "of the 'Geography: Area - total' feature (strongly skewed toward the minimum, \n",
    "with many larger countries of singular size creating a \"platykurtic\" or very\n",
    "flattened upper tail ) corresponds to observations described in the original \n",
    "data (\"outliers\" Russia and Antarctica are simply big!)"
   ],
   "metadata": {
    "collapsed": false,
    "pycharm": {
     "name": "#%% md\n"
    }
   }
  },
  {
   "cell_type": "code",
   "execution_count": null,
   "outputs": [],
   "source": [
    "# identify outliers with z-score standardization\n",
    "zThresh = dataUtls.getDF_ZThresh  # For showing observations above z-score\n",
    "pDensity = dataUtls.showPDens  # display probability distrib. with fit"
   ],
   "metadata": {
    "collapsed": false,
    "pycharm": {
     "name": "#%%\n"
    }
   }
  },
  {
   "cell_type": "code",
   "execution_count": null,
   "outputs": [],
   "source": [
    "# visual Gaussian-fit check \n",
    "pDensity( dfN, 'Geography: Area - total' )\n",
    "\n",
    "# checking with z-score \n",
    "zThresh( dfN, 'Geography: Area - total', 2.5, dfOR, ctrDct )"
   ],
   "metadata": {
    "collapsed": false,
    "pycharm": {
     "name": "#%%\n"
    }
   }
  },
  {
   "cell_type": "markdown",
   "source": [
    "By contrast, though still with a minimum-skewed distribution: in **Military and \n",
    "Security: Military expenditures**, North Korea's dramatic, isolated prominence \n",
    "at the \"most militarized\" end turns out to be the result of extraction error. \n",
    "They do still remain the world leader for the period, at between 20-25% of GDP."
   ],
   "metadata": {
    "collapsed": false,
    "pycharm": {
     "name": "#%% md\n"
    }
   }
  },
  {
   "cell_type": "code",
   "execution_count": null,
   "outputs": [],
   "source": [
    "ft = 'Military and Security: Military expenditures'\n",
    "pDensity( dfN, ft )\n",
    "z = zThresh( dfN, ft, 2.5, dfOR, ctrDct, ret=True )\n",
    "print( f\"\\\"{[ b for a, b in z.O_STR.items() ][ 0 ]}\\\"\" )"
   ],
   "metadata": {
    "collapsed": false,
    "pycharm": {
     "name": "#%%\n"
    }
   }
  },
  {
   "cell_type": "code",
   "execution_count": null,
   "outputs": [],
   "source": [
    "# # Random cycle though feature PD distributions\n",
    "# fts = dfN.columns.to_list()\n",
    "# pos = random.randint(1, len(fts) )\n",
    "# pDensity( dfN, fts[pos] )\n",
    "# zThresh( dfN, fts[pos], 2.5, dfOR, ctrDct )\n",
    "\n",
    "# # zScore and g-fit with outliers excluded\n",
    "# dfZ_area_e = zThresh( dfN, tArea, 2.5, dfOR, ctrDct, excl=True )\n",
    "# pDensity( dfZ_area_e, 'E_VAL' )"
   ],
   "metadata": {
    "collapsed": false,
    "pycharm": {
     "name": "#%%\n"
    }
   }
  },
  {
   "cell_type": "markdown",
   "source": [
    "### Exploration, Visualisation and Analysis\n",
    "Reporting is broadly categorized into observations on:\n",
    "1. Age, health and gender\n",
    "2. Coal, Energy and Pollution\n",
    "3. Economy\n",
    "4. Geography and Environment"
   ],
   "metadata": {
    "collapsed": false,
    "pycharm": {
     "name": "#%% md\n"
    }
   }
  },
  {
   "cell_type": "code",
   "execution_count": null,
   "outputs": [],
   "source": [
    "# provide local access to required module data tools\n",
    "showMax = dataUtls.showMaxima  # barplot for <=10 feature-max/min countries\n",
    "pltSctr = dataUtls.plotScttr  # scatterplot distribution for feature pair\n",
    "getRank = dataUtls.getRank  # return country's rank for value for feature\n",
    "getVal = dataUtls.getVal  # return val for country for feature\n",
    "getCorDct = dataUtls.getCorDct  # generate feature master correl. dict\n",
    "getCTDict = dataUtls.getCThreshDct  # get dict for correlations at threshold\n",
    "getTRep = dataUtls.getThreshReport  # report correlations-at-threshold\n",
    "repCorr = dataUtls.repCorrel  # report correlation for feature pair\n",
    "difsFld = dataUtls.showDiffsFilled  # For corrThreshDct, omit NaN-only diffs\n",
    "fSet = lambda x, y: frozenset( [ x, y ] )  # shorten frozenset creation"
   ],
   "metadata": {
    "collapsed": false,
    "pycharm": {
     "name": "#%%\n"
    }
   }
  },
  {
   "cell_type": "markdown",
   "source": [
    "#### Feature maxima\n",
    "The highest and lowest values for features compiled by the CIA's World Factbook \n",
    "provide a convenient global view on important aspects of humanity and the \n",
    "environment. Some caution is necessary before interpreting these summaries \n",
    "due to some issues of accuracy around conflagration of time period (the CIA\n",
    "resource mixes the latest reporting year, which can vary by decade or more).\n",
    "\n",
    "#### Correlations\n",
    "Perfect correlations (of significance -1 or 1) are rarely informative, in that \n",
    "they identify effectively identical, or duplicate, features. For this reason, \n",
    "they can be useful for reducing unnecessary dimensionality in large datasets.\n",
    " \n",
    "Strong correlations will tend to be more self-evident (for example, \"Total \n",
    "area\" being near-perfectly correlated to \"Total land\", with some noise caused \n",
    "by variable water-area), but still provide an empirical, observational basis \n",
    "for testing assumptions. Scatter plots are useful for identifying or \n",
    "demonstrating where a clear pattern, like a linear correlation, is present, and \n",
    "also for an alternative view on observations made with different techniques."
   ],
   "metadata": {
    "collapsed": false
   }
  },
  {
   "cell_type": "code",
   "execution_count": null,
   "outputs": [],
   "source": [
    "# generate correlation significance between all features \n",
    "corrDct = getCorDct( df )"
   ],
   "metadata": {
    "collapsed": false,
    "pycharm": {
     "name": "#%%\n"
    }
   }
  },
  {
   "cell_type": "code",
   "execution_count": null,
   "outputs": [],
   "source": [
    "# Check perfect correlations. Confirmed duplicates, drop\n",
    "print( 'Confirmed perfect ( -1 / +1) correls are duplicate features, drop\\n' )\n",
    "for i in getCTDict( 1, corrDct, df ): corrDct.pop( i )"
   ],
   "metadata": {
    "collapsed": false,
    "pycharm": {
     "name": "#%%\n"
    }
   }
  },
  {
   "cell_type": "markdown",
   "source": [
    "Example correlations: significance threshold 0.999+ (omitting confirmed \n",
    "(perfectly correlated) duplicate features)."
   ],
   "metadata": {
    "collapsed": false,
    "pycharm": {
     "name": "#%% md\n"
    }
   }
  },
  {
   "cell_type": "code",
   "execution_count": null,
   "outputs": [],
   "source": [
    "# Examine near-perfect threshold (likely still duplicates or self-evident)\n",
    "thresh_9_9_9 = getCTDict( 0.999, corrDct, df )\n",
    "checkDifs_9_9_9 = difsFld( thresh_9_9_9, df )\n"
   ],
   "metadata": {
    "collapsed": false,
    "pycharm": {
     "name": "#%%\n"
    }
   }
  },
  {
   "cell_type": "code",
   "execution_count": null,
   "outputs": [],
   "source": [
    "# print a particular correlation report:\n",
    "# print( f\"{getTRep( thresh_9_9_9, fSet(10, 76) )}\" )\n",
    "# [20, 44](c-0.82): higher youth dependency, lower life expectancy at birth \n",
    "\n",
    "# For threshold 0.995-0.999\n",
    "# thresh_995_999 = getCTDict( 0.800, corrDct, df, out_lim=0.850 )\n",
    "# checkDifs_995_998 = difsFld( thresh_995_999, df )\n",
    "\n",
    "# # T10 cycle\n",
    "# start = 167\n",
    "# cycleT10(  df, start, 1 )\n",
    "# zThresh( df, totArea, 2.5, dfOR, ctrDct )\n",
    "# start +=1"
   ],
   "metadata": {
    "collapsed": false,
    "pycharm": {
     "name": "#%%\n"
    }
   }
  },
  {
   "cell_type": "markdown",
   "source": [
    "***\n",
    "#### AGE, HEALTH AND GENDER\n",
    "\n",
    "- **Percent population aged 65+:**\n",
    "<font color='red'> (citReq) Monaco and then Japan both stand conspicuously out \n",
    "from the distribution. Futher research could establish if it is an older people \n",
    "who can afford Monaco's prestigious cost of living while, on the other hand, if \n",
    "Japan has a trend in restrained birth rate, with young adults prioritizing \n",
    "career ascension over family-making.</font>"
   ],
   "metadata": {
    "collapsed": false,
    "pycharm": {
     "name": "#%% md\n"
    }
   }
  },
  {
   "cell_type": "code",
   "execution_count": null,
   "outputs": [],
   "source": [
    "showMax( ft := 'People and Society: Age structure - 65 years and over', df )\n",
    "zThresh( dfN, ft, 2.5, dfOR, ctrDct )"
   ],
   "metadata": {
    "collapsed": false,
    "pycharm": {
     "name": "#%%\n"
    }
   }
  },
  {
   "cell_type": "markdown",
   "source": [
    "***\n",
    "- At the same time, Japan has the **fewest younger adults for support** per elderly \n",
    "citizen. No data for Monaco."
   ],
   "metadata": {
    "collapsed": false,
    "pycharm": {
     "name": "#%% md\n"
    }
   }
  },
  {
   "cell_type": "code",
   "execution_count": null,
   "outputs": [],
   "source": [
    "ft = 'People and Society: Dependency ratios - potential support ratio'\n",
    "showMax( ft, df, asc=True )\n",
    "zThresh( dfN, ft, 2.5, dfOR, ctrDct, asc=True )\n",
    "\n",
    "getRank( df, 'Monaco',\n",
    "    'People and Society: Dependency ratios - potential support ratio' )\n"
   ],
   "metadata": {
    "collapsed": false,
    "pycharm": {
     "name": "#%%\n"
    }
   }
  },
  {
   "cell_type": "code",
   "execution_count": null,
   "outputs": [],
   "source": [
    "# Tasty curvilinear distribution evident here;\n",
    "#   ++%pop==65+ has neatly acute-to-flat negative correl. with ++%pop==<15\n",
    "#   \"The most juniors (50%) is strongly matched with the least seniors (<5%), \n",
    "#       a correlation that quickly flattens out when %juniors gets below 20% \n",
    "pltSctr( df, [\n",
    "    'People and Society: Age structure - 65 years and over',\n",
    "    'People and Society: Age structure - 0-14 years' ] )"
   ],
   "metadata": {
    "collapsed": false,
    "pycharm": {
     "name": "#%%\n"
    }
   }
  },
  {
   "cell_type": "code",
   "execution_count": null,
   "outputs": [],
   "source": [
    "# The strong association of \"higher birthrate with a bigger proportion of the \n",
    "#   pop%15-24yo\" rapidly decreases after the birthrate hits around 20%;\n",
    "#   after this point, that segment is relatively stable for higher birthrates. \n",
    "pltSctr( df, [\n",
    "    'People and Society: Birth rate',\n",
    "    'People and Society: Age structure - 15-24 years' ] )"
   ],
   "metadata": {
    "collapsed": false,
    "pycharm": {
     "name": "#%%\n"
    }
   }
  },
  {
   "cell_type": "markdown",
   "source": [
    "***\n",
    "- Arab gulf countries' **sex ratio weighting** toward men is startling by the\n",
    "global distribution, particularly Qatar & the Unite Arab Emirates.\n",
    "Note we can see strong support for \n",
    "[Fisher's principle](https://en.wikipedia.org/wiki/Fisher%27s_principle) - sex \n",
    "ratio is leptokurtic, closely gathered around the one-to-one ratio."
   ],
   "metadata": {
    "collapsed": false
   }
  },
  {
   "cell_type": "code",
   "execution_count": null,
   "outputs": [],
   "source": [
    "ft = 'People and Society: Sex ratio - total population'\n",
    "pDensity( dfN, ft )\n",
    "zThresh( dfN, ft, 2.5, dfOR, ctrDct )\n",
    "\n",
    "showMax( 'People and Society: Sex ratio - 25-54 years', df )\n",
    "showMax( 'People and Society: Sex ratio - 55-64 years', df )"
   ],
   "metadata": {
    "collapsed": false,
    "pycharm": {
     "name": "#%%\n"
    }
   }
  },
  {
   "cell_type": "markdown",
   "source": [
    "At the same time, both have (by good measure) the highest proportion of\n",
    "total population that is 25-54 years old."
   ],
   "metadata": {
    "collapsed": false
   }
  },
  {
   "cell_type": "code",
   "execution_count": null,
   "outputs": [],
   "source": [
    "showMax( 'People and Society: Age structure - 25-54 years', df )"
   ],
   "metadata": {
    "collapsed": false,
    "pycharm": {
     "name": "#%%\n"
    }
   }
  },
  {
   "cell_type": "markdown",
   "source": [
    "Interesting combination - one can imagine a dominating social discourse might \n",
    "concern the relation of older men to working-age adults.\n",
    "***\n",
    "Some more points on **aging populations:** \n",
    "\n",
    "- in Palau and North Korea, there are more than twice as many old women as \n",
    "old men.\n",
    "- with older populations, the rate of urbanization decreases\n",
    "- with older populations, the number of physicians, and of broadband \n",
    "subscriptions, increases "
   ],
   "metadata": {
    "collapsed": false
   }
  },
  {
   "cell_type": "code",
   "execution_count": null,
   "outputs": [],
   "source": [
    "showMax( 'People and Society: Sex ratio - 65 years and over', df, asc=True )\n",
    "\n",
    "pltSctr( df, [\n",
    "    'People and Society: Age structure - 55-64 years',\n",
    "    'People and Society: Urbanization - rate of urbanization' ] )\n",
    "pltSctr( df, [\n",
    "    'People and Society: Age structure - 55-64 years',\n",
    "    f'Communications: Broadband - fixed subscriptions - '\n",
    "    f'subscriptions per 100 inhabitants' ] )\n",
    "pltSctr( df, [\n",
    "    'People and Society: Median age - total',\n",
    "    f'People and Society: Physicians density' ] )"
   ],
   "metadata": {
    "collapsed": false,
    "pycharm": {
     "name": "#%%\n"
    }
   }
  },
  {
   "cell_type": "markdown",
   "source": [
    "***\n",
    "Some suprise might arise from the data on **Health Expenditure** - despite the \n",
    "highest costs for *individuals* in the OECD (see \n",
    "[here](https://en.wikipedia.org/wiki/Health_care_prices_in_the_United_States) \n",
    "for example), the US Government is spending more on health than the rest of the \n",
    "world (Tuvalu excepted. Along with other island states in this top-ten, \n",
    "expenditure proportions might be considered less significant given the \n",
    "susceptibility of comparably small budgets to weighting.)"
   ],
   "metadata": {
    "collapsed": false
   }
  },
  {
   "cell_type": "code",
   "execution_count": null,
   "outputs": [],
   "source": [
    "# People and Society: Current Health Expenditure\n",
    "# Surprised to see US near the top with the impression given by private health \n",
    "# costs.\n",
    "showMax( ft := 'People and Society: Current Health Expenditure', df )\n",
    "# Only one country in t10 expenditure is also in t10 physician density (Cuba)\n",
    "\n",
    "zThresh( dfN, ft, 2.5, dfOR, ctrDct )"
   ],
   "metadata": {
    "collapsed": false,
    "pycharm": {
     "name": "#%%\n"
    }
   }
  },
  {
   "cell_type": "markdown",
   "source": [
    "***\n",
    "- Highly interesting to see Monaco leading the top-ten for **Physician \n",
    "density** while at the same time trailing in the very bottom for **Health \n",
    "expenditure**. It could only be surmrised that citizens are privately funding \n",
    "most of their healthcare. \n",
    "\n",
    "There are surprisingly zero nations from the Anglosphere here; \n",
    "more data would be needed to probe the following question: with fewer \n",
    "physicians per individual, is there a measurable failure of preventative \n",
    "care that might have been afforded by the access and familiary that \n",
    "community-embedded physicians might provide?"
   ],
   "metadata": {
    "collapsed": false,
    "pycharm": {
     "name": "#%% md\n"
    }
   }
  },
  {
   "cell_type": "code",
   "execution_count": null,
   "outputs": [],
   "source": [
    "showMax( 'People and Society: Physicians density', df )\n",
    "showMax( 'People and Society: Current Health Expenditure', df, asc=True )"
   ],
   "metadata": {
    "collapsed": false,
    "pycharm": {
     "name": "#%% \n"
    }
   }
  },
  {
   "cell_type": "markdown",
   "source": [
    "***\n",
    "- Southern African nations exclusively form the t10 **percent of population \n",
    "living with HIV/AIDs**"
   ],
   "metadata": {
    "collapsed": false,
    "pycharm": {
     "name": "#%% md\n"
    }
   }
  },
  {
   "cell_type": "code",
   "execution_count": null,
   "outputs": [],
   "source": [
    "df[ 'People living with HIV/AIDs as percentage of population' ] = (\n",
    "    df[ 'People and Society: HIV/AIDS - people living with HIV/AIDS' ] /\n",
    "    df[ 'People and Society: Population' ])\n",
    "showMax( 'People living with HIV/AIDs as percentage of population', df )\n"
   ],
   "metadata": {
    "collapsed": false,
    "pycharm": {
     "name": "#%%\n"
    }
   }
  },
  {
   "cell_type": "markdown",
   "source": [
    "- Exploring what is the **lowest-HIV prevalence among S.A. populations**?"
   ],
   "metadata": {
    "collapsed": false
   }
  },
  {
   "cell_type": "code",
   "execution_count": null,
   "outputs": [],
   "source": [
    "# \n",
    "sthEquatAfrica = dfOR[\n",
    "    (dfOR[ \"Geography: Map references\" ] == \"Africa\")\n",
    "    & (dfOR[ \"Geography: Geographic coordinates\" ].str.contains( \"S\" )\n",
    "       ) ].Country\n",
    "\n",
    "showMax( 'People living with HIV/AIDs as percentage of population',\n",
    "    df[ df[ 'Country' ].isin( sthEquatAfrica ) ], asc=True,\n",
    "    sub=\"African Nations South of Equator\" )"
   ],
   "metadata": {
    "collapsed": false,
    "pycharm": {
     "name": "#%%\n"
    }
   }
  },
  {
   "cell_type": "markdown",
   "source": [
    "For the countries that are not islands, Angola - being large, and close to the\n",
    "HIV/AIDs epicentre, appears to have some form of strongly inhibiting factor.\n",
    "A look at recent history identifies a cause for the low prevalence: civil war. \n",
    "\n",
    "> The 27-year civil war in Angola, lasting from 1975 until 2002, kept the spread \n",
    "> of HIV to a minimum due to large parts of the country being inaccessible to \n",
    "> people infected with the virus. During the civil war, individuals from \n",
    "> neighboring countries such as Zambia, Botswana, and Zimbabwe (all countries \n",
    "> with high prevalence rates of HIV) were also not allowed to come into the \n",
    "> country, which played a significant role in controlling the spread of HIV.\n",
    "> [(source: Wikipedia)](https://en.wikipedia.org/wiki/HIV/AIDS_in_Angola#History)"
   ],
   "metadata": {
    "collapsed": false,
    "pycharm": {
     "name": "#%% md\n"
    }
   }
  },
  {
   "cell_type": "markdown",
   "source": [
    "***\n",
    "- **Gender and Tobacco usage**: nearly half the people in Nauru and Burma smoke.\n",
    "However, when limited to females, European nations remain in the t10, while\n",
    "the Asia-Pacific nations Burma, Kiribati, Timor Leste, PNG and Indonesia \n",
    "disappear (the men are the smokers).\n",
    "\n",
    "The Islands pattern is strikingly reversed for Nauru, where it is female \n",
    "smoking alone which places it at number one, with male smoking at 140th place!"
   ],
   "metadata": {
    "collapsed": false,
    "pycharm": {
     "name": "#%% md\n"
    }
   }
  },
  {
   "cell_type": "code",
   "execution_count": null,
   "outputs": [],
   "source": [
    "getRank( df, 'Nauru', 'People and Society: Tobacco use - male' )\n",
    "showMax( 'People and Society: Tobacco use - total', df )\n",
    "showMax( 'People and Society: Tobacco use - male', df )\n",
    "showMax( 'People and Society: Tobacco use - female', df )\n",
    "\n",
    "# No Smoking:\n",
    "# showMax( 'People and Society: Tobacco use - total', df, asc=True )\n",
    "\n"
   ],
   "metadata": {
    "collapsed": false,
    "pycharm": {
     "name": "#%%\n"
    }
   }
  },
  {
   "cell_type": "markdown",
   "source": [
    "***\n",
    "- **Generational weight disparity**: where is there the highest observations \n",
    "for both adult obesity prevalence and children 4 years and under who are \n",
    "underweight? These maxima are limited to the seven nations reporting above-mean \n",
    "observations for both features."
   ],
   "metadata": {
    "collapsed": false,
    "pycharm": {
     "name": "#%% md\n"
    }
   }
  },
  {
   "cell_type": "code",
   "execution_count": null,
   "outputs": [],
   "source": [
    "uFeat = 'People and Society: Children under the age of 5 years underweight'\n",
    "oFeat = 'People and Society: Obesity - adult prevalence rate'\n",
    "\n",
    "df[ 'Generational weight disparity' ] = (df[ uFeat ] + df[ oFeat ])\n",
    "\n",
    "aboveMeans = [ country for country in df[ 'Country' ] if (\n",
    "    df.loc[ df[ 'Country' ] == country, uFeat ].iloc[ 0 ]\n",
    "    >= df[ uFeat ].mean() and\n",
    "    df.loc[ df[ 'Country' ] == country, oFeat ].iloc[ 0 ]\n",
    "    >= df[ oFeat ].mean()) ]\n",
    "\n",
    "showMax( 'Generational weight disparity',\n",
    "    df[ df[ 'Country' ].isin( aboveMeans ) ],\n",
    "    sub=\"% adults obese + % children underweight, both above-mean\" )"
   ],
   "metadata": {
    "collapsed": false,
    "pycharm": {
     "name": "#%%\n"
    }
   }
  },
  {
   "cell_type": "markdown",
   "source": [
    "***\n",
    "- **Education disparities** - pat on the back for Australia: by a modest yet \n",
    "significant margin, has the largest percent total competing teriary, AND the \n",
    "position holds true for women as much as men."
   ],
   "metadata": {
    "collapsed": false,
    "pycharm": {
     "name": "#%% md\n"
    }
   }
  },
  {
   "cell_type": "code",
   "execution_count": null,
   "outputs": [],
   "source": [
    "expectFeatStr = (\n",
    "    \"People and Society: School life expectancy (primary to tertiary \"\n",
    "    \"education) -\")\n",
    "showMax( f'{expectFeatStr} total', df )\n",
    "showMax( f'{expectFeatStr} male', df )\n",
    "showMax( f'{expectFeatStr} female', df )\n"
   ],
   "metadata": {
    "collapsed": false,
    "pycharm": {
     "name": "#%%\n"
    }
   }
  },
  {
   "cell_type": "markdown",
   "source": [
    "***\n",
    "- **School-completion disparity in the sexes**: Liechtenstein stands out, \n",
    "having one of the highest GDPs per capita in the world. "
   ],
   "metadata": {
    "collapsed": false
   }
  },
  {
   "cell_type": "code",
   "execution_count": null,
   "outputs": [],
   "source": [
    "ft = 'School completion disparity between sexes'\n",
    "df[ ft ] = (df[ f'{expectFeatStr} male' ] - df[ f'{expectFeatStr} female' ])\n",
    "showMax( ft, df, sub=\"Male-female \" )\n"
   ],
   "metadata": {
    "collapsed": false,
    "pycharm": {
     "name": "#%%\n"
    }
   }
  },
  {
   "cell_type": "code",
   "execution_count": null,
   "outputs": [],
   "source": [
    "# Mothers are consistently older in richer countries;\n",
    "#   acutely so for gdp<\"40000\", then immediately flattening out \n",
    "pltSctr( df, [\n",
    "    \"Economy: Real GDP per capita\",\n",
    "    \"People and Society: Mother's mean age at first birth\" ] )"
   ],
   "metadata": {
    "collapsed": false,
    "pycharm": {
     "name": "#%%\n"
    }
   }
  },
  {
   "cell_type": "code",
   "execution_count": null,
   "outputs": [],
   "source": [
    "# Most emmigration, and populations in greatest contraction\n",
    "# two very strong categories: either islands (esp. Pacific), or eastern Europe\n",
    "showMax( 'People and Society: Net migration rate', df, asc=True )\n",
    "showMax( 'People and Society: Population growth rate', df, asc=True )"
   ],
   "metadata": {
    "collapsed": false,
    "pycharm": {
     "name": "#%%\n"
    }
   }
  },
  {
   "cell_type": "markdown",
   "source": [
    "### COAL, ENGERY AND POLLUTION\n",
    "#### Not a glitch: China's appetite\n",
    "Just for scale, this is what the production of the top-ten coal producers \n",
    "looks like. "
   ],
   "metadata": {
    "collapsed": false,
    "pycharm": {
     "name": "#%% md\n"
    }
   }
  },
  {
   "cell_type": "code",
   "execution_count": null,
   "outputs": [],
   "source": [
    "showMax( 'Energy: Coal - Production', df )\n",
    "showMax( 'Energy: Coal - Consumption', df )"
   ],
   "metadata": {
    "collapsed": false,
    "pycharm": {
     "name": "#%%\n"
    }
   }
  },
  {
   "cell_type": "code",
   "execution_count": null,
   "outputs": [],
   "source": [
    "# pDensity( dfN, 'Energy: Coal - Production' )\n",
    "zThresh( dfN, 'Energy: Coal - Production', 0.06, dfOR, ctrDct )\n",
    "\n",
    "# pDensity( dfN, 'Energy: Coal - Consumption' )\n",
    "z = zThresh( dfN, 'Energy: Coal - Consumption', 0.06, dfOR, ctrDct, ret=True )\n",
    "\n",
    "z = z[ z[ 'CTRY_n' ] == \"Australia\" ]\n",
    "z\n",
    "# compare: Energy: Electricity - Consumption"
   ],
   "metadata": {
    "collapsed": false,
    "pycharm": {
     "name": "#%%\n"
    }
   }
  },
  {
   "cell_type": "code",
   "execution_count": null,
   "outputs": [],
   "source": [
    "# scale factor not being applied to Austrlia coal consumption (/+ production) - \n",
    "# limit whole DF to just Aus through the clean process and see what's up.\n",
    "raise ValueError"
   ],
   "metadata": {
    "collapsed": false,
    "pycharm": {
     "name": "#%%\n"
    }
   }
  },
  {
   "cell_type": "markdown",
   "source": [
    "The only nation falling outside ***zero point seven*** standard \n",
    "deviations of the mean, falls outside by ***fourteen*** standard deviations. \n",
    "More astonishingly, China remains a net importer - they consume \n",
    "this and more. From production to consumption, Australia disappears down to \n",
    "200th in the world; quite a feat for the fourth-largest producer, whereas the \n",
    "rest of the top ten producers are in the top ten consumers (excepting \n",
    "Kazakhstan, who drops out similarly as consumer to 198th)."
   ],
   "metadata": {
    "collapsed": false,
    "pycharm": {
     "name": "#%% md\n"
    }
   }
  },
  {
   "cell_type": "code",
   "execution_count": null,
   "outputs": [],
   "source": [
    "# update this to return a percap or perGDP ranking.\n",
    "getRank( df, 'Australia', 'Energy: Coal - Consumption' )\n",
    "getRank( df, 'Kazakhstan', 'Energy: Coal - Consumption' )"
   ],
   "metadata": {
    "collapsed": false,
    "pycharm": {
     "name": "#%%\n"
    }
   }
  },
  {
   "cell_type": "markdown",
   "source": [
    "Some figures in greater detail:\n",
    "\n",
    "PRODUCTION: China's production is [ 1.09 ] times that of the rest of the \n",
    "world <br>\n",
    ">   [ 4,314,681,000.00 ]: China's coal production<br>\n",
    ">   [ 3,974,250,000.00 ]: rest of world combined<br>\n",
    " \n",
    "CONSUMPTION: China's consumption is [ 1.27 ] times that of the rest of the \n",
    "world<br>\n",
    ">   [ 4,506,387,000.00 ]: China's coal consumption<br>\n",
    ">   [ 3,534,985,000.00 ]: rest of world combined<br>"
   ],
   "metadata": {
    "collapsed": false,
    "pycharm": {
     "name": "#%% md\n"
    }
   }
  },
  {
   "cell_type": "code",
   "execution_count": null,
   "outputs": [],
   "source": [
    "prodFeat = 'Energy: Coal - Production'\n",
    "consFeat = 'Energy: Coal - Consumption'\n",
    "\n",
    "chinaProd = df[ df.Country == 'China' ][ prodFeat ].sum()\n",
    "chinaCsmp = df[ df.Country == 'China' ][ consFeat ].sum()\n",
    "\n",
    "notChinaProd = df[ df.Country != 'China' ][ prodFeat ].sum()\n",
    "notChinaCsmp = df[ df.Country != 'China' ][ consFeat ].sum()\n",
    "\n",
    "# get longest string length to pad report field\n",
    "pad = (max( [ len( str( i ) )\n",
    "    for i in [ chinaProd, notChinaProd, chinaCsmp, notChinaCsmp ] ] ))\n",
    "\n",
    "print( f\"PRODUCTION: China's production is \"\n",
    "       f\"[ {(chinaProd / notChinaProd):,.2f} ] times that of the rest of world\\n\"\n",
    "       f\"   [ {chinaProd:>{pad},.2f} ]: China's coal production\\n\"\n",
    "       f\"   [ {notChinaProd:>{pad},.2f} ]: rest of world combined\\n\" )\n",
    "print( f\"\\nCONSUMPTION: China's consumption is \"\n",
    "       f\"[ {(chinaCsmp / notChinaCsmp):,.2f} ] times the size\\n\"\n",
    "       f\"of the rest of world combined.\\n\"\n",
    "       f\"   [ {chinaCsmp:>{pad},.2f} ]: China's coal consumption\\n\"\n",
    "       f\"   [ {notChinaCsmp:>{pad},.2f} ]: rest of world combined\\n\" )"
   ],
   "metadata": {
    "collapsed": false,
    "pycharm": {
     "name": "#%% \n"
    }
   }
  },
  {
   "cell_type": "code",
   "execution_count": null,
   "outputs": [],
   "source": [
    "# Corroborating the disparity between production and consumption, the export\n",
    "#   figures appear as follows.\n",
    "showMax( 'Energy: Coal - Exports', df )\n",
    "\n",
    "# We can get an image of a country's relationship with coal if we look at the \n",
    "#   combined production and imports in ratio to exports. Where this ratio is \n",
    "#   above one, a country has exported abve the total it produced and imported,\n",
    "#   meaning it has sold reserves.\n",
    "#   Refining this further to only the countries whose exports are above the\n",
    "#   world-mean, we can see who has a strong reliance on coal exports.\n",
    "\n",
    "df[ 'Coal: Exports-to-Total-Holdings ratio' ] = (\n",
    "    df[ 'Energy: Coal - Exports' ] /\n",
    "    (df[ 'Energy: Coal - Production' ] +\n",
    "     df[ 'Energy: Coal - Imports' ]))\n",
    "\n",
    "aboveMeans = [ country for country in df[ 'Country' ] if (\n",
    "    df.loc[ df[ 'Country' ] == country, 'Energy: Coal - Exports' ].iloc[ 0 ]\n",
    "    >= df[ 'Energy: Coal - Exports' ].mean()) ]\n",
    "\n",
    "showMax( 'Coal: Exports-to-Total-Holdings ratio',\n",
    "    df[ df[ 'Country' ].isin( aboveMeans ) ] )\n",
    "\n",
    "# In order, the refinement exluded Venezuela, Belarus and Eswatini\n",
    "# such that Russia, South Africa and the Phillipines entered the t10 \"sellers\"\n",
    "\n",
    "# Environment: Revenue from coal - coal revenues\n",
    "#   \"% revenue derived from taxation on coal production\"?\n",
    "#   Compare with \"Exports\" [...]\n",
    "showMax( 'Environment: Revenue from coal - coal revenues', df )"
   ],
   "metadata": {
    "collapsed": false,
    "pycharm": {
     "name": "#%%\n"
    }
   }
  },
  {
   "cell_type": "code",
   "execution_count": null,
   "outputs": [],
   "source": [
    "# Naturally, on the topic of coal, a look at the top CO2 emitters:\n",
    "\n",
    "# CO2 EMISSIONS\n",
    "\n",
    "showMax( 'Environment: Air pollutants - carbon dioxide emissions', df )\n",
    "#   China leads by twice its nearest competitor, the US. See coal-relation (hah)\n",
    "# Similar stats for Environment: Air pollutants - methane emission.\n",
    "\n",
    "# The world's clustering for CO2 emissions vs coal consumption\n",
    "#   China off in the distance\n",
    "yFeat = 'Energy: Carbon dioxide emissions - From coal and metallurgical coke'\n",
    "pltSctr( df, [ 'Energy: Coal - Consumption', yFeat ] )\n",
    "\n",
    "# identifying the extremes (each x by common y). \n",
    "df[ 'Coal/Metalurgical CO2 emissions BY Coal consumption' ] = (\n",
    "    df[ yFeat ] * df[ 'Energy: Coal - Consumption' ])\n",
    "\n",
    "showMax( 'Coal/Metalurgical CO2 emissions BY Coal consumption', df )\n",
    "\n",
    "# While we are looking at these features, an interesting insight:\n",
    "#   Scoring the dirtiest coal consumption. Hi there Australia!\n",
    "\n",
    "df[ 'Coal/Metalurgical CO2 emissions PER Coal consumption' ] = (\n",
    "    df[ 'Energy: Coal - Consumption' ] / df[ yFeat ])\n",
    "\n",
    "showMax( 'Coal/Metalurgical CO2 emissions PER Coal consumption', df,\n",
    "    sub='Dirtiest emitters per unit consumed' )\n",
    "showMax( 'Coal/Metalurgical CO2 emissions PER Coal consumption', df,\n",
    "    sub='Cleanest emitters per unit consumed', asc=True )\n",
    "\n",
    "# Missing data for costa rica and paraguay?  - go back and dropna\n",
    "for country in [ \"Costa Rica\", \"Paraguay\" ]:\n",
    "    for feat in [\n",
    "        'Energy: Carbon dioxide emissions - From coal and metallurgical coke',\n",
    "        'Energy: Coal - Consumption'\n",
    "        ]: getRank( df, country, feat ); print( '\\n' )\n"
   ],
   "metadata": {
    "collapsed": false,
    "pycharm": {
     "name": "#%%\n"
    }
   }
  },
  {
   "cell_type": "markdown",
   "source": [
    "Kenya % Geothermal\n",
    "In places where tectonic plates – consisting of the Earth's crust, and the \n",
    "upper mantle – are being pushed together or torn apart, this heat rises closer \n",
    "to the surface. One such place is Africa's Great Rift Valley, which runs \n",
    "7,000km (4,350 miles) across the eastern side of the continent."
   ],
   "metadata": {
    "collapsed": false
   }
  },
  {
   "cell_type": "code",
   "execution_count": null,
   "outputs": [],
   "source": [
    "ft = 'Energy: Electricity generation sources - Geothermal'\n",
    "showMax( ft, df )\n",
    "_ = zThresh( dfN, ft, 2.5, dfOR, ctrDct )"
   ],
   "metadata": {
    "collapsed": false,
    "pycharm": {
     "name": "#%%\n"
    }
   }
  },
  {
   "cell_type": "markdown",
   "source": [
    "#### ECONOMY"
   ],
   "metadata": {
    "collapsed": false,
    "pycharm": {
     "name": "#%% md\n"
    }
   }
  },
  {
   "cell_type": "code",
   "execution_count": null,
   "outputs": [],
   "source": [
    "# If you tend to assume that countries usually spend close to what they make in \n",
    "#   revenue, take confidence from seeing how both rise together in \n",
    "#   very close proportion all the way from lowest to highest.\n",
    "pltSctr( df, [\n",
    "    'Economy: Budget - revenues',\n",
    "    'Economy: Budget - expenditures' ] )\n",
    "\n",
    "# GDP\n",
    "showMax( 'Economy: Real GDP (purchasing power parity)', df )\n",
    "showMax( 'Economy: Real GDP (purchasing power parity)', df, asc=True )\n",
    "# Economy: Real GDP growth rate\n",
    "# Economy: Real GDP per capita\n",
    "# Economy: GDP (official exchange rate)\n",
    "# Niue, Tokelau and Monstserrat consistenlty coming up in econ-B10s\n",
    "\n",
    "# Interesting: which sovereignties pay the bills almost entirely from desk-work?\n",
    "showMax( 'Economy: GDP - composition, by sector of origin - services', df )\n",
    "\n",
    "# GDP driven by household spending. Interesting enough, but how can Liberia and \n",
    "#   Yemen be >100%?\n",
    "# Economy: GDP - composition, by end use - household consumption\n",
    "showMax( 'Economy: GDP - composition, by end use - household consumption', df )\n",
    "showMax( 'Economy: GDP - composition, by end use - household consumption',\n",
    "    df, asc=True, sub=\"Least composed by household consumption\" )\n",
    "# Economy: GDP - composition, by end use - government consumption\n",
    "# Economy: GDP - composition, by end use - investment in fixed capital\n",
    "# Economy: GDP - composition, by end use - investment in inventories\n",
    "\n",
    "# Again, many places have >100% GDP from exports:\n",
    "# Economy: GDP - composition, by end use - exports of goods and services\n",
    "# on this topic: Maldives is a startling sole-case of GDP from G-S imports.\n",
    "#   Economy: GDP - composition, by end use - imports of goods and services\n",
    "\n",
    "# Inflation\n",
    "#   Venezuela dwarfs the world.\n",
    "showMax( 'Economy: Inflation rate (consumer prices)', df )\n",
    "showMax( 'Economy: Inflation rate (consumer prices)',\n",
    "    df[ df[ 'Country' ] != 'Venezuela' ] )  # without Venezueal\n",
    "showMax( 'Economy: Inflation rate (consumer prices)', df, asc=True )"
   ],
   "metadata": {
    "collapsed": false,
    "pycharm": {
     "name": "#%%\n"
    }
   }
  },
  {
   "cell_type": "code",
   "execution_count": null,
   "outputs": [],
   "source": [
    "# compare with pop: Economy: Labor force\n",
    "# Labour force as a percentage of population. \n",
    "# LForce obviously includes migrant workers. \n",
    "df[ 'Labour force as a percentage of population' ] = (\n",
    "    df[ 'Economy: Labor force' ] /\n",
    "    df[ 'People and Society: Population' ])\n",
    "\n",
    "showMax( 'Labour force as a percentage of population', df )\n",
    "showMax( 'Labour force as a percentage of population', df, asc=True )\n",
    "# In these countries, even including cross-border commuters, there is less than\n",
    "#   0.2 of a \"labour force\" indiv. for every indiv. counted in the population."
   ],
   "metadata": {
    "collapsed": false,
    "pycharm": {
     "name": "#%%\n"
    }
   }
  },
  {
   "cell_type": "code",
   "execution_count": null,
   "outputs": [],
   "source": [
    "dfPop = df[ [\n",
    "    'Country',\n",
    "    'People and Society: Population',\n",
    "    'Economy: Labor force',\n",
    "    'Economy: Labor force - by occupation - agriculture' ] ]\n",
    "\n",
    "tongaLforce = dfPop[ dfPop[ 'Country' ] == \"Tonga\" ]\n",
    "\n",
    "# Error in the data for Tonga (date taken as percent)\n",
    "# Excluding Tonga, the surprise in the bottom ten is the USA - only ~0.7% of \n",
    "#   workers are in agriculture?\n",
    "showMax( 'Economy: Labor force - by occupation - agriculture',\n",
    "    df[ df[ 'Country' ] != \"Tonga\" ], asc=True )\n",
    "\n",
    "# TONGA labour force stats all error (taken date as value)\n",
    "# print(dfOR[ 'Economy: Labor force - by occupation - agriculture' ].loc[ dfOR[ 'Country' ] == 'Tonga' ].values[ 0 ])\n",
    "# print(dfFbDict['Economy: Labor force - by occupation - agriculture']['matchedNums'])\n",
    "\n",
    "# Leads to the question: who has the highest Agri-portion of GDP in ratio to\n",
    "#   the Agri-portion of the labour force (an estimate of agri-automation?)\n",
    "\n",
    "df[ 'Agriculture: GDP composition to labour' ] = ((\n",
    "    df[ 'Economy: GDP - composition, by sector of origin - agriculture' ] /\n",
    "    df[ 'Economy: GDP (official exchange rate)' ])) / ((\n",
    "    df[ 'Economy: Labor force - by occupation - agriculture' ] /\n",
    "    df[ 'Economy: Labor force' ]))\n",
    "\n",
    "showMax( 'Agriculture: GDP composition to labour',\n",
    "    df[ df[ 'Country' ] != \"Tonga\" ], sub=\"\\\"Efficient farmers\\\"?\" )"
   ],
   "metadata": {
    "collapsed": false,
    "pycharm": {
     "name": "#%%\n"
    }
   }
  },
  {
   "cell_type": "code",
   "execution_count": null,
   "outputs": [],
   "source": [
    "# The most-equal countries have a strong representation of East \n",
    "# Eurpoean countries, along with Social Democracy commentators' darling, \n",
    "#   Norway. Jersey and Faroe would need to be more closely vetted.\n",
    "showMax( 'Economy: Gini Index coefficient - distribution of family income',\n",
    "    df, asc=True )\n",
    "\n",
    "# The least-equal countries most strongly feature Southern African nations.\n",
    "showMax( 'Economy: Gini Index coefficient - distribution of family income',\n",
    "    df )\n"
   ],
   "metadata": {
    "collapsed": false,
    "pycharm": {
     "name": "#%%\n"
    }
   }
  },
  {
   "cell_type": "markdown",
   "source": [],
   "metadata": {
    "collapsed": false
   }
  },
  {
   "cell_type": "code",
   "execution_count": null,
   "outputs": [],
   "source": [
    "# not hard to see where all the accountants live\n",
    "ft = 'Economy: GDP - composition, by sector of origin - services'\n",
    "showMax( ft, df )"
   ],
   "metadata": {
    "collapsed": false,
    "pycharm": {
     "name": "#%%\n"
    }
   }
  },
  {
   "cell_type": "markdown",
   "source": [],
   "metadata": {
    "collapsed": false
   }
  },
  {
   "cell_type": "code",
   "execution_count": null,
   "outputs": [],
   "source": [
    "# why is GDP-by-gov-consump t10 purely small island-states?\n",
    "ft = 'Economy: GDP - composition, by end use - government consumption'\n",
    "showMax( ft, df )\n",
    "_ = zThresh( dfN, ft, 2.5, dfOR, ctrDct )"
   ],
   "metadata": {
    "collapsed": false,
    "pycharm": {
     "name": "#%%\n"
    }
   }
  },
  {
   "cell_type": "markdown",
   "source": [],
   "metadata": {
    "collapsed": false
   }
  },
  {
   "cell_type": "code",
   "execution_count": null,
   "outputs": [],
   "source": [
    "# gdp-by-imports: maldives only positive, and vastly so [...]\n",
    "# \n",
    "ft = 'Economy: GDP - composition, by end use - imports of goods and services'\n",
    "showMax( ft, df )\n",
    "_ = zThresh( dfN, ft, 2.5, dfOR, ctrDct )"
   ],
   "metadata": {
    "collapsed": false,
    "pycharm": {
     "name": "#%%\n"
    }
   }
  },
  {
   "cell_type": "markdown",
   "source": [],
   "metadata": {
    "collapsed": false
   }
  },
  {
   "cell_type": "code",
   "execution_count": null,
   "outputs": [],
   "source": [
    "# libya experiencing the largest indust. growth by fair\n",
    "# \n",
    "ft = 'Economy: Industrial production growth rate'\n",
    "showMax( ft, df )\n",
    "_ = zThresh( dfN, ft, 2.5, dfOR, ctrDct )"
   ],
   "metadata": {
    "collapsed": false,
    "pycharm": {
     "name": "#%%\n"
    }
   }
  },
  {
   "cell_type": "markdown",
   "source": [
    "#### GEOGRAPHY AND ENVIRONMENT"
   ],
   "metadata": {
    "collapsed": false,
    "pycharm": {
     "name": "#%% md\n"
    }
   }
  },
  {
   "cell_type": "code",
   "execution_count": null,
   "outputs": [],
   "source": [
    "# largest countries. \n",
    "showMax( 'Geography: Area - total', df )"
   ],
   "metadata": {
    "collapsed": false,
    "pycharm": {
     "name": "#%%\n"
    }
   }
  },
  {
   "cell_type": "code",
   "execution_count": null,
   "outputs": [],
   "source": [
    "# highest percent water area\n",
    "df[ 'Water-area ratio' ] = (\n",
    "    df[ 'Geography: Area - water' ] /\n",
    "    df[ 'Geography: Area - total' ])\n",
    "showMax( 'Water-area ratio', df )"
   ],
   "metadata": {
    "collapsed": false,
    "pycharm": {
     "name": "#%%\n"
    }
   }
  },
  {
   "cell_type": "markdown",
   "source": [
    "The British Indian Ocean territory value here is an outlier arising from an\n",
    "apparent inconsistency or ambiguity in geographic description - the territory \n",
    "is designated across a very disparate grouping of islands which include many\n",
    "whole or partial atolls with large inner bodies of water. Some interesting \n",
    "reading both for observers of colonialism and for ongoing events in the \n",
    "projection of sovereign power across large sea vectors:\n",
    "\n",
    "##### British Indian Ocean Territory\n",
    "![British_Indian_Ocean_Territory](https://upload.wikimedia.org/wikipedia/commons/thumb/9/96/British_Indian_Ocean_Territory_in_United_Kingdom.svg/1466px-British_Indian_Ocean_Territory_in_United_Kingdom.svg.png)\n",
    "\n",
    "WIKI: \n",
    ">The only inhabitants are British and U.S. military personnel and associated \n",
    "contractors, who collectively number around 3,000 (2018 figures). The \n",
    "forced removal of Chagossians from the Chagos Archipelago occurred between \n",
    "1968 and 1973. [...] Today, the exiled Chagossians are still trying \n",
    "to return, saying that the forced expulsion and dispossession was unlawful, \n",
    "but the UK government has repeatedly denied them the right of return. The \n",
    "islands are off-limits to Chagossians, casual tourists, and the media."
   ],
   "metadata": {
    "collapsed": false
   }
  },
  {
   "cell_type": "code",
   "execution_count": null,
   "outputs": [],
   "source": [
    "showMax( 'Water-area ratio',\n",
    "    df[ df[ 'Geography: Land boundaries - total' ] >=\n",
    "        df[ 'Geography: Coastline' ] ],\n",
    "    sub=\"Where Coastline =< Land Boundaries\" )"
   ],
   "metadata": {
    "collapsed": false,
    "pycharm": {
     "name": "#%%\n"
    }
   }
  },
  {
   "cell_type": "markdown",
   "source": [
    "Excluding BIOT as an outlier should reveal a more intuitive distribution.\n",
    "Better yet, to avoid catching so many islands, let's filter down to countries \n",
    "whose coastline is no longer than their land boundaries with other countries."
   ],
   "metadata": {
    "collapsed": false
   }
  },
  {
   "cell_type": "code",
   "execution_count": null,
   "outputs": [],
   "source": [
    "showMax( 'Water-area ratio',\n",
    "    df[ df[ 'Geography: Land boundaries - total' ] >=\n",
    "        df[ 'Geography: Coastline' ] ],\n",
    "    sub=\"Where Coastline =< Land Boundaries\" )"
   ],
   "metadata": {
    "collapsed": false,
    "pycharm": {
     "name": "#%%\n"
    }
   }
  },
  {
   "cell_type": "markdown",
   "source": [
    "##### The coastline paradox\n",
    "All coastlines are infinitely long, at least if you keep decreasing the unit of \n",
    "measurement. The \"longest coast\" could (at least logically) change for some \n",
    "smaller unit, given that it might may discover an underlying \"flatness\" in the \n",
    "reigning longest coastline, while discovering an underlying \"texture\" in the \n",
    "land boundary of another territory which produces a greater overall length\n",
    "(see [here](https://medium.com/@drewjosselyn/fun-with-fractals-using-fractals-to-measure-the-coastline-length-of-one-of-canadas-most-iconic-16c3266af782)).\n",
    "\n",
    "Nonetheless, at any scale, given the extent and countour of Canada's polar coast,\n",
    "it seems likely remain out in front at any unit of measurement."
   ],
   "metadata": {
    "collapsed": false
   }
  },
  {
   "cell_type": "code",
   "execution_count": null,
   "outputs": [],
   "source": [
    "showMax( 'Geography: Coastline', df )"
   ],
   "metadata": {
    "collapsed": false,
    "pycharm": {
     "name": "#%% \n"
    }
   }
  },
  {
   "cell_type": "markdown",
   "source": [
    "Elevation difference"
   ],
   "metadata": {
    "collapsed": false
   }
  },
  {
   "cell_type": "code",
   "execution_count": null,
   "outputs": [],
   "source": [
    "df[ 'Maximum elevation difference' ] = (\n",
    "    df[ 'Geography: Elevation - highest point' ] -\n",
    "    df[ 'Geography: Elevation - lowest point' ])\n",
    "showMax( 'Maximum elevation difference', df )"
   ],
   "metadata": {
    "collapsed": false,
    "pycharm": {
     "name": "#%%\n"
    }
   }
  },
  {
   "cell_type": "markdown",
   "source": [
    "Countries with the largest difference between their lowest and highest point.\n",
    "While the China-Nepal border dissects Siggamartha's highest point, China \n",
    "itself has a lower minimum elevation than Nepal."
   ],
   "metadata": {
    "collapsed": false
   }
  },
  {
   "cell_type": "markdown",
   "source": [
    "Flattest places in the world: no point on natural ground is at an ascent of\n",
    "more of than five meters from any other point. At #4 in the world, Pakistan's \n",
    "current floods are devastating partly due to this marked flatness.\n",
    "\n",
    "Cayman Islands is easiest on the hips with a M.E.D of one meter."
   ],
   "metadata": {
    "collapsed": false
   }
  },
  {
   "cell_type": "code",
   "execution_count": null,
   "outputs": [],
   "source": [
    "showMax( 'Maximum elevation difference', df, asc=True )"
   ],
   "metadata": {
    "collapsed": false,
    "pycharm": {
     "name": "#%%\n"
    }
   }
  },
  {
   "cell_type": "code",
   "execution_count": null,
   "outputs": [],
   "source": [
    "# A pleasant pit-stop in the forests of Suriname:\n",
    "showMax( 'Environment: Land use - forest', df )\n",
    "\n",
    "# interestingly, Suriname does very little to leverage this as a resource \n",
    "#   advantage - Suriname's rank in %rev Forst rsrc is 174th.\n",
    "\n",
    "getRank( df, 'Suriname',\n",
    "    'Environment: Revenue from forest resources - forest revenues' )\n",
    "\n",
    "# correl/sctr?"
   ],
   "metadata": {
    "collapsed": false,
    "pycharm": {
     "name": "#%%\n"
    }
   }
  },
  {
   "cell_type": "code",
   "execution_count": null,
   "outputs": [],
   "source": [
    "#   Fairly even, City-States understandably dominating the top 10. \n",
    "showMax( 'Environment: Urbanization - urban population', df )\n",
    "showMax( 'Environment: Urbanization - urban population', df, asc=True )\n",
    "\n",
    "# Of the least-urbanised, several are pacific territories with relatively \n",
    "#   unfamiliar names: Wallis and Futuna (FR), Montserrat (UK) and Tokelau (NZ). \n",
    "#   To help with attribution, if not decolonization, I submit that the UK and \n",
    "#   French territories swap names.\n",
    "\n",
    "# Liechtenstein... is also there.\n",
    "# \"It is a testimony to the mere political expediency of the purchase that the Princes of Liechtenstein did not visit \n",
    "#   their new principality for almost 100 years.\" [citation needed]"
   ],
   "metadata": {
    "collapsed": false,
    "pycharm": {
     "name": "#%%\n"
    }
   }
  },
  {
   "cell_type": "code",
   "execution_count": null,
   "outputs": [],
   "source": [
    "# Who are the most and least trade-reliant for water? (Hi there, Middle East)\n",
    "# Withdrawrals (municipal, industrial and agricultural) minus renewable sources\n",
    "df[ 'Water withdrawal exposure to trade' ] = (\n",
    "    (df[ 'Environment: Total water withdrawal - municipal' ] +\n",
    "     df[ 'Environment: Total water withdrawal - industrial' ] +\n",
    "     df[ 'Environment: Total water withdrawal - agricultural' ]) -\n",
    "    df[ 'Environment: Total renewable water resources' ])\n",
    "\n",
    "showMax( 'Water withdrawal exposure to trade', df,\n",
    "    sub=\"Withdrawrals minus resources\" )\n",
    "\n",
    "# Brazil is sitting happy there around the Amazon. Russia and Canada just \n",
    "# melt vast amounts of snow.\n",
    "showMax( 'Water withdrawal exposure to trade', df, asc=True,\n",
    "    sub=\"Withdrawrals minus resources\" )"
   ],
   "metadata": {
    "collapsed": false,
    "pycharm": {
     "name": "#%%\n"
    }
   }
  },
  {
   "cell_type": "code",
   "source": [
    "# Ratio of irrigated land to total land\n",
    "\n",
    "df[ 'Irrigated-area ratio' ] = (\n",
    "    df[ 'Geography: Irrigated land' ] /\n",
    "    df[ 'Geography: Area - total' ])\n",
    "showMax( 'Irrigated-area ratio', df )\n",
    "\n",
    "print( f\"Irrigated area in Gaza Strip is \"\n",
    "       f\"{getVal( df, 'Gaza Strip', 'Geography: Irrigated land' )} sqkm\" )\n",
    "\n",
    "print( f\"Total area of Gaza Strip is \"\n",
    "       f\"{getVal( df, 'Gaza Strip', 'Geography: Area - total' )} sqkm\" )"
   ],
   "metadata": {
    "collapsed": false,
    "pycharm": {
     "name": "#%%\n"
    }
   },
   "execution_count": null,
   "outputs": []
  },
  {
   "cell_type": "markdown",
   "source": [
    "Many members of this T10 may not surprise, as familiar origins of agricultural \n",
    "commodities, but the Gaza Strip may conjure a more arid image. The rank comes \n",
    "down to proportion and population: irrigation, as a [vital element of food production](https://socialsciences.mcmaster.ca/kubursi/ebooks/water.htm), \n",
    "takes up 240 of the territory's total 360 square kilometers, which is the third \n",
    "most densely populated territory in the world.\n",
    "\n",
    "<font color='red'> In fact, population density and irrigated area ratio... [SCATTER]\n",
    "</font>"
   ],
   "metadata": {
    "collapsed": false
   }
  },
  {
   "cell_type": "code",
   "execution_count": null,
   "outputs": [],
   "source": [
    "showMax( 'Government: National heritage - total World Heritage Sites', df )\n",
    "# the anti-empire question: what qualifies as world heritage? \n",
    "# -> All t10 is high-GDP (corrob.)"
   ],
   "metadata": {
    "collapsed": false,
    "pycharm": {
     "name": "#%%\n"
    }
   }
  },
  {
   "cell_type": "code",
   "execution_count": null,
   "outputs": [],
   "source": [
    "# In the course of this study, small island groups (many with colonial \n",
    "# names) I'm not familiar with keep showing up. Would like to dive into more \n",
    "# detail on each of these.\n",
    "\n",
    "# the Kooky Islands Krew (ctIslands)\n",
    "#   appears frequently on the bottom/top ten because it is takes less\n",
    "#   of an event in global terms to have a proportionately large effect\n",
    "#   on the small sample, be it a population, an area total and so on. \n",
    "\n",
    "kookyIslands = [\n",
    "    'Anguilla',\n",
    "    'Ashmore and Cartier Islands',\n",
    "    'British Indian Ocean Territory',\n",
    "    'British Virgin Islands',\n",
    "    'Cape Verde',\n",
    "    'Cayman Islands',\n",
    "    'Cocos (Keeling) Islands',\n",
    "    'Comoros',\n",
    "    'Faroe Islands',\n",
    "    'Montserrat',\n",
    "    'Northern Mariana Islands',\n",
    "    'Saint Barthelemy',\n",
    "    'Saint Kitts and Nevis',\n",
    "    'Saint Lucia',\n",
    "    'Saint Pierre and Miquelon',\n",
    "    'Saint Vincent and the Grenadines',\n",
    "    'San Marino',\n",
    "    'Sao Tome and Principe',\n",
    "    'Tokelau',\n",
    "    'Turks and Caicos Islands',\n",
    "    'Wallis and Futuna' ]"
   ],
   "metadata": {
    "collapsed": false,
    "pycharm": {
     "name": "#%%\n"
    }
   }
  },
  {
   "cell_type": "code",
   "execution_count": null,
   "outputs": [],
   "source": [
    "# Things that China is in the top-ten/5/3/1 of\n",
    "# (Who else are the \"most top 10/5/3/1\" countries?)\n",
    "# combine bottom-tens somehow?"
   ],
   "metadata": {
    "collapsed": false,
    "pycharm": {
     "name": "#%%\n"
    }
   }
  },
  {
   "cell_type": "code",
   "execution_count": null,
   "outputs": [],
   "source": [
    "# FINALIZING:\n",
    "\n",
    "# Add positional bar colour-gradient to barplots\n",
    "#   https://stackoverflow.com/questions/60220089/how-to-add-color-gradients-according-to-y-value-to-a-bar-plot\n",
    "# Generate unitDct which vis. fetches for feature by column key\n",
    "# Group t10s and scatterplots by subject.\n",
    "# move all/most defs to imports, except where important for process comm."
   ],
   "metadata": {
    "collapsed": false,
    "pycharm": {
     "name": "#%%\n"
    }
   }
  },
  {
   "cell_type": "code",
   "execution_count": null,
   "outputs": [],
   "source": [],
   "metadata": {
    "collapsed": false,
    "pycharm": {
     "name": "#%% # END\n"
    }
   }
  }
 ],
 "metadata": {
  "kernelspec": {
   "display_name": "Python 3",
   "language": "python",
   "name": "python3"
  },
  "language_info": {
   "codemirror_mode": {
    "name": "ipython",
    "version": 2
   },
   "file_extension": ".py",
   "mimetype": "text/x-python",
   "name": "python",
   "nbconvert_exporter": "python",
   "pygments_lexer": "ipython2",
   "version": "2.7.6"
  }
 },
 "nbformat": 4,
 "nbformat_minor": 0
}