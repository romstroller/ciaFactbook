{
 "cells": [
  {
   "cell_type": "code",
   "execution_count": null,
   "outputs": [],
   "source": [
    "import dataUtls  # ancilliary utility module: source in repository"
   ],
   "metadata": {
    "collapsed": false,
    "pycharm": {
     "name": "#%%\n"
    }
   }
  },
  {
   "cell_type": "code",
   "execution_count": null,
   "outputs": [],
   "source": [
    "import importlib\n",
    "\n",
    "importlib.reload(dataUtls)"
   ],
   "metadata": {
    "collapsed": false,
    "pycharm": {
     "name": "#%%\n"
    }
   }
  },
  {
   "cell_type": "markdown",
   "source": [
    "# Exploring the CIA's World Factbook\n",
    "***\n",
    "\n",
    "### OBJECTIVE\n",
    "This report is a broad exploration of World Factbook data from the US Central \n",
    "Intelligence Agency, seeking to provide general point-of-interest insights on \n",
    "key datapoints in areas including health, gender, economy and environment, both \n",
    "directly from the sample and deriving new features through feature-maxima bar \n",
    "plots (\"top tens\"), and correlation scatter plots. \n",
    "\n",
    "The report implements data processing techniques including expression matching, \n",
    "correlation analysis, and z-score and probability density analysis.  \n",
    "\n",
    "**Some example datapoints...**\n",
    "- Where in the world do women contribute the most to smoking rates?\n",
    "- Where does agriculture get the most value per worker?\n",
    "- Who bucks the HIV/AIDs trend the most in the Southern Africa epicentre?\n",
    "- What countries have both the most adults obese and children underweight? "
   ],
   "metadata": {
    "collapsed": false
   }
  },
  {
   "cell_type": "markdown",
   "source": [
    "***\n",
    "### DATA: acquisition, cleaning and feature engineering"
   ],
   "metadata": {
    "collapsed": false,
    "pycharm": {
     "name": "#%% md\n"
    }
   }
  },
  {
   "cell_type": "code",
   "execution_count": null,
   "outputs": [],
   "source": [
    "nData = dataUtls.nbData()\n",
    "dUtls = dataUtls.dUtls( nData )\n",
    "\n",
    "# authenticate, download and load kaggle dataset\n",
    "dUtls.getKaggleSet( 'lucafrance', 'the-world-factbook-by-cia' )\n",
    "\n",
    "# display data type-count\n",
    "dUtls.typeCount( nData.OR )"
   ],
   "metadata": {
    "collapsed": false,
    "pycharm": {
     "name": "#%%\n"
    }
   }
  },
  {
   "cell_type": "markdown",
   "source": [
    "#### *STATE OF INFORMATION*\n",
    "\n",
    "- *[The World Factbook by CIA](https://www.kaggle.com/datasets/lucafrance/the-world-factbook-by-cia)\n",
    " (owner: Luca Franceschini, available at Kaggle.com)*\n",
    "\n",
    "The objective concerns only the features which have a primary value that can be\n",
    "included in numeric operations. The dataset is documented to have been acquired\n",
    "by browser extraction, and contains a substantial amount of noise or extraneous \n",
    "information, in inconsistent format. Pattern matching is further complicated by \n",
    "the presence of historical data in the same cell, and variations of scale within \n",
    "many features.\n",
    "\n",
    "Processing extracts the primary numeric value to float-type, and omits features\n",
    "with null values beyond a minimal threshold (initially, the dataset is 74% \n",
    "null). For clarity, source code for cleaning operations is in the ancillary \n",
    "module. Substring segment frequencies are analysed to derive feature unit."
   ],
   "metadata": {
    "collapsed": false,
    "pycharm": {
     "name": "#%% md\n"
    }
   }
  },
  {
   "cell_type": "code",
   "execution_count": null,
   "outputs": [],
   "source": [
    "# parse distinct numbers via regular expression to dictionary\n",
    "dUtls.generateMatchDct()\n",
    "\n",
    "# isolate clean float from number-match records\n",
    "dUtls.isolateClean()\n",
    "\n",
    "# generate dataframe from clean feature data\n",
    "dUtls.getCleanDF()\n",
    "\n",
    "# enforce non-nan threshold ( av. dense + .5 sDev rounded ), convert numeric\n",
    "dUtls.getNumericNonNan()\n",
    "\n",
    "# review cleaned dataframe\n",
    "dUtls.cleanReport( [ nData.OR, nData.CL ] )\n",
    "\n",
    "# Manual analysis: has valid primary number value, scale variations\n",
    "#   dataUtls.runScaleAnalysis(dfColsClean, cleanReman)\n",
    "#   Returning from PKL:\n",
    "dropFeats, scaleNotes = dUtls.unPklData( 'dropFeatrs', 'cleanNotes', dct=False )\n",
    "\n",
    "# apply drop to flagged features\n",
    "dUtls.runDrops( dropFeats )\n",
    "\n",
    "# adjust scale-variant values to unify scale\n",
    "dUtls.flattenScale( scaleNotes, dropFeats )\n",
    "\n",
    "# drop summative observation\n",
    "dUtls.popRowsByFtVal( 'Country', [ 'World' ] )\n",
    "\n",
    "# numericise df (inc. ctry to code), get country-code converter dct\n",
    "dUtls.numercisedDF()\n",
    "\n",
    "# collect candidate units from substring frequency in feature data\n",
    "#   return stored collection from PKL\n",
    "#   dataUtls.generateUnitDct()\n",
    "unitDat = dUtls.unPklData( s := 'unitDct_220918_144049038287.pkl' )[ s ]\n",
    "\n",
    "dUtls.cleanUnits( unitDat )"
   ],
   "metadata": {
    "collapsed": false,
    "pycharm": {
     "name": "#%%\n"
    }
   }
  },
  {
   "cell_type": "markdown",
   "source": [
    "#### *OUTLIER ANALYSIS*\n",
    "Rather than clipping or smoothing as in many machine learning purposes, this \n",
    "report is especially interested in retaining and presenting genuine outliers \n",
    "(the sample maximums and minimums for various features). Here, outlier analysis \n",
    "is used to determine that outliers are not obviously the result of errors in \n",
    "the data.\n",
    "\n",
    "For example, here we confirm that the highly differentiated probability density\n",
    "of the 'Geography: Area - total' feature (strongly skewed toward the minimum, \n",
    "with many larger countries of singular size creating a \"platykurtic\" or very\n",
    "flattened upper tail ) corresponds to observations in the original data."
   ],
   "metadata": {
    "collapsed": false,
    "pycharm": {
     "name": "#%% md\n"
    }
   }
  },
  {
   "cell_type": "code",
   "execution_count": null,
   "outputs": [],
   "source": [
    "# identify outliers with z-score standardization\n",
    "pDense = dUtls.showPDens  # display probability distrib. with fit\n",
    "zThresh = dUtls.getZThreshDF  # For showing observations above z-score\n",
    "\n",
    "# visual Gaussian-fit check \n",
    "pDense( 'Geography: Area - total' )\n",
    "\n",
    "# checking with z-score \n",
    "zThresh( 'Geography: Area - total', 2.5 )"
   ],
   "metadata": {
    "collapsed": false,
    "pycharm": {
     "name": "#%%\n"
    }
   }
  },
  {
   "cell_type": "markdown",
   "source": [
    "By contrast, though still with a minimum-skewed distribution: in **Military and \n",
    "Security: Military expenditures**, North Korea's dramatic, isolated prominence \n",
    "at the \"most militarized\" end turns out to be the result of extraction error. \n",
    "They do still remain the world leader for the feature, at between 20-25% of GDP."
   ],
   "metadata": {
    "collapsed": false,
    "pycharm": {
     "name": "#%% md\n"
    }
   }
  },
  {
   "cell_type": "code",
   "execution_count": null,
   "outputs": [],
   "source": [
    "ft = 'Military and Security: Military expenditures'\n",
    "pDense( ft )\n",
    "zDF = zThresh( ft, 0.228, ret=True )\n",
    "print( f\"\\\"{[ b for a, b in zDF.orVal.items() ][ 0 ]}\\\"\" )"
   ],
   "metadata": {
    "collapsed": false,
    "pycharm": {
     "name": "#%%\n"
    }
   }
  },
  {
   "cell_type": "markdown",
   "source": [
    "***\n",
    "### Exploration, Analysis and Visualisation\n",
    "Reporting is broadly categorized into discussions of correlations and maxima in:\n",
    "1. Age, health and gender\n",
    "2. Coal, Energy and Pollution\n",
    "3. Economy\n",
    "4. Geography and Environment"
   ],
   "metadata": {
    "collapsed": false,
    "pycharm": {
     "name": "#%% md\n"
    }
   }
  },
  {
   "cell_type": "code",
   "execution_count": null,
   "outputs": [],
   "source": [
    "# provide local access to required module data tools\n",
    "getCorrs_T = dUtls.getCTDct  # get dict for correlations at threshold\n",
    "showMax = dUtls.showMaxima  # barplot for <=10 feature-max/min countries\n",
    "pltSctr = dUtls.plotScttr  # scatterplot distribution for feature pair\n",
    "getRank = dUtls.getRank  # return country's rank for value for feature\n",
    "getVal = dUtls.getVal  # return val for country for feature\n",
    "reportDifs = dUtls.reportDiffs"
   ],
   "metadata": {
    "collapsed": false,
    "pycharm": {
     "name": "#%%\n"
    }
   }
  },
  {
   "cell_type": "markdown",
   "source": [
    "#### *FEATURE MAXIMA*\n",
    "The highest and lowest values for features compiled by the CIA's World Factbook \n",
    "provide a convenient global view on important aspects of humanity and the \n",
    "environment. Some caution is necessary before interpreting these summaries \n",
    "due to some issues of accuracy around conflagration of time period (the CIA\n",
    "resource mixes the latest reporting year, which can vary by decade or more).\n",
    "\n",
    "#### *CORRELATIONS AND SCATTERPLOTS*"
   ],
   "metadata": {
    "collapsed": false
   }
  },
  {
   "cell_type": "code",
   "execution_count": null,
   "outputs": [],
   "source": [
    "# generate correlation significance between all features \n",
    "dUtls.getCorDct()  # generate feature master correl. dict"
   ],
   "metadata": {
    "collapsed": false,
    "pycharm": {
     "name": "#%%\n"
    }
   }
  },
  {
   "cell_type": "markdown",
   "source": [
    "**Perfect correlations** (of significance -1 or 1) are rarely informative, in \n",
    "that they identify effectively identical, or duplicate, features. For this \n",
    "reason, they can be useful for reducing unnecessary dimensionality in large \n",
    "datasets."
   ],
   "metadata": {
    "collapsed": false
   }
  },
  {
   "cell_type": "code",
   "execution_count": null,
   "outputs": [],
   "source": [
    "# drop perfect correlations (duplicates)\n",
    "dUtls.dropDupCorrs()"
   ],
   "metadata": {
    "collapsed": false,
    "pycharm": {
     "name": "#%%\n"
    }
   }
  },
  {
   "cell_type": "markdown",
   "source": [
    "**Strong correlations** will tend to be more self-evident (for example, \"Total \n",
    "area\" being near-perfectly correlated to \"Total land\", with some noise caused \n",
    "by variable water-area), but still provide an empirical, observational basis \n",
    "for testing assumptions. \n",
    "\n",
    "**Scatter plots** are useful for identifying or demonstrating where a clear \n",
    "pattern, like a linear correlation, is present, and also for an alternative \n",
    "view on observations made with different techniques."
   ],
   "metadata": {
    "collapsed": false
   }
  },
  {
   "cell_type": "markdown",
   "source": [
    "**Some near-perfect correlations** (including some duplicate features where\n",
    "the data is differentiated only by null values):"
   ],
   "metadata": {
    "collapsed": false,
    "pycharm": {
     "name": "#%% md\n"
    }
   }
  },
  {
   "cell_type": "code",
   "execution_count": null,
   "outputs": [],
   "source": [
    "importlib.reload( dataUtls )\n",
    "dUtls = dataUtls.dUtls( nData )\n",
    "\n",
    "# Examine near-perfect threshold (likely still duplicates or self-evident)\n",
    "dUtls.reportDiffs( getCorrs_T( 0.998 ) )"
   ],
   "metadata": {
    "collapsed": false,
    "pycharm": {
     "name": "#%%\n"
    }
   }
  },
  {
   "cell_type": "markdown",
   "source": [
    "<hr style=\"height:2px;background-color:gray\">\n",
    "\n",
    "**Strong negative correlations** (for features X and Y, as X approaches maximum, \n",
    "Y clearly tends towards minimum):\n",
    "\n",
    "In the Factbook data, at least one of each pair of features that has a negative \n",
    "correlations above a minimal 0.5 significance threshold is either **Birth Rate**\n",
    "or **Rate of Urbanization.** Excluding these two features, the strongest \n",
    "negative correlation has a signicance score of -0.45."
   ],
   "metadata": {
    "collapsed": false,
    "pycharm": {
     "name": "#%% md\n"
    }
   }
  },
  {
   "cell_type": "code",
   "execution_count": null,
   "outputs": [],
   "source": [
    "importlib.reload(dataUtls)\n",
    "dUtls = dataUtls.dUtls(nData)\n",
    "\n",
    "dUtls.reportStrongNeg(-0.5)"
   ],
   "metadata": {
    "collapsed": false,
    "pycharm": {
     "name": "#%%\n"
    }
   }
  },
  {
   "cell_type": "markdown",
   "source": [
    "**Including** these two features, many correlations are fairly **self-evident**. \n",
    "For example, the strongest, at **-0.81**:"
   ],
   "metadata": {
    "collapsed": false,
    "pycharm": {
     "name": "#%% md\n"
    }
   }
  },
  {
   "cell_type": "code",
   "execution_count": null,
   "outputs": [],
   "source": [
    "pltSctr( [\n",
    "    'Energy: Electricity access - electrification - total population',\n",
    "    'People and Society: Birth rate' ] )"
   ],
   "metadata": {
    "collapsed": false,
    "pycharm": {
     "name": "#%%\n"
    }
   }
  },
  {
   "cell_type": "markdown",
   "source": [
    "It stands that with a higher birth rate, the percentage of the population \n",
    "(including babies) that does not have access to an existing electrical \n",
    "connection, particularly where such connections are prohibitively expensive for \n",
    "the average income, should rise proportionally.\n",
    "\n",
    "One that takes a little more unpacking is a correlation of significance -0.73\n",
    "between **Literacy (total population)** and **Rate of urbanization**."
   ],
   "metadata": {
    "collapsed": false,
    "pycharm": {
     "name": "#%% md\n"
    }
   }
  },
  {
   "cell_type": "code",
   "source": [
    "pltSctr( [\n",
    "    'People and Society: Literacy - total population',\n",
    "    'People and Society: Urbanization - rate of urbanization' ] )\n"
   ],
   "metadata": {
    "collapsed": false,
    "pycharm": {
     "name": "#%%\n"
    }
   },
   "execution_count": null,
   "outputs": []
  },
  {
   "cell_type": "markdown",
   "source": [
    "According to this correlation, the higher the rate of people moving to live in\n",
    "urban areas, the lower the average literacy of the population. A suitable \n",
    "explanation might be that the rate of urbanization is an indicator - or even the \n",
    "same as - a rate of industrialization (the industrial centralization of \n",
    "societies); in other words, that literacy is less prevalent where sudden, large \n",
    "increases in industrial development are possible. \n",
    "\n",
    "***\n",
    "#### *AGE, HEALTH AND GENDER*\n",
    "\n",
    "- Neat curvilinear distribution between **percent pop. over 64** and\n",
    "**percent population under 15** showing a clear negative relationship.\n",
    "- Likewise, in a positive trend, the strong association of **higher birthrate**\n",
    "with **bigger proportion of 15-24yo's** rapidly decreases after the birthrate \n",
    "hits around 20%; after this point, that segment is relatively stable for higher \n",
    "birthrates."
   ],
   "metadata": {
    "collapsed": false,
    "pycharm": {
     "name": "#%% md\n"
    }
   }
  },
  {
   "cell_type": "code",
   "execution_count": null,
   "outputs": [],
   "source": [
    "pltSctr( [\n",
    "    'People and Society: Age structure - 65 years and over',\n",
    "    'People and Society: Age structure - 0-14 years' ] )\n",
    "\n",
    "pltSctr( [\n",
    "    'People and Society: Birth rate',\n",
    "    'People and Society: Age structure - 15-24 years' ] )"
   ],
   "metadata": {
    "collapsed": false,
    "pycharm": {
     "name": "#%%\n"
    }
   }
  },
  {
   "cell_type": "markdown",
   "source": [
    "<hr style=\"height:2px;background-color:gray\">\n",
    "\n",
    "- Gulf countries occupy the distribution of **sex ratio weighting** where it \n",
    "tends toward men - startlingly so for Qatar & the Unite Arab Emirates.\n",
    "Note we can see strong support for \n",
    "[Fisher's principle](https://en.wikipedia.org/wiki/Fisher%27s_principle): sex \n",
    "ratio is leptokurtic, closely gathered around the one-to-one ratio."
   ],
   "metadata": {
    "collapsed": false
   }
  },
  {
   "cell_type": "code",
   "execution_count": null,
   "outputs": [],
   "source": [
    "zThresh( ft := 'People and Society: Sex ratio - total population', 0.8 )\n",
    "pDense( ft )"
   ],
   "metadata": {
    "collapsed": false,
    "pycharm": {
     "name": "#%%\n"
    }
   }
  },
  {
   "cell_type": "markdown",
   "source": [
    "- At the same time, both have (by good measure) the **highest proportion of\n",
    "total population that is 25-54 years old**. \n",
    "\n",
    "So, in other words, Qatar and the UAE have a particularly large and masculine \n",
    "working-age population."
   ],
   "metadata": {
    "collapsed": false
   }
  },
  {
   "cell_type": "code",
   "execution_count": null,
   "outputs": [],
   "source": [
    "showMax( 'People and Society: Age structure - 25-54 years' )"
   ],
   "metadata": {
    "collapsed": false,
    "pycharm": {
     "name": "#%%\n"
    }
   }
  },
  {
   "cell_type": "markdown",
   "source": [
    "- in Palau, North Korea, and particularly many East European countries, there \n",
    "are **more than twice as many old women as old men**. In other terms, men are \n",
    "dying considerably earlier than women in these countries."
   ],
   "metadata": {
    "collapsed": false
   }
  },
  {
   "cell_type": "code",
   "execution_count": null,
   "outputs": [],
   "source": [
    "showMax( 'People and Society: Sex ratio - 65 years and over', asc=True )"
   ],
   "metadata": {
    "collapsed": false,
    "pycharm": {
     "name": "#%%\n"
    }
   }
  },
  {
   "cell_type": "markdown",
   "source": [
    "<hr style=\"height:2px;background-color:gray\">\n",
    "\n",
    "- Some surprise might arise from the data on **Health Expenditure** - despite \n",
    "highest costs for *individuals* in the OECD (see \n",
    "[here](https://en.wikipedia.org/wiki/Health_care_prices_in_the_United_States) \n",
    "for example), the US Government is spending more on health than the rest of the \n",
    "world (Tuvalu excepted. Along with other island states in this top-ten, \n",
    "expenditure proportions might be considered less significant given the \n",
    "susceptibility of comparably small budgets to weighting.)"
   ],
   "metadata": {
    "collapsed": false
   }
  },
  {
   "cell_type": "code",
   "execution_count": null,
   "outputs": [],
   "source": [
    "showMax( ft := 'People and Society: Current Health Expenditure' )\n",
    "zThresh( ft, 2.5 )"
   ],
   "metadata": {
    "collapsed": false,
    "pycharm": {
     "name": "#%%\n"
    }
   }
  },
  {
   "cell_type": "markdown",
   "source": [
    "<hr style=\"height:2px;background-color:gray\">\n",
    "\n",
    "- Highly interesting to see Monaco leading the top-ten for **Physician \n",
    "density** while at the same time trailing in the very bottom for **Health \n",
    "expenditure**. Citizens are privately funding most of a large, expert-intensive \n",
    "healthcare system. \n",
    "- There are surprisingly **zero nations from the Anglosphere** in the top-ten \n",
    "for physician density. More data would be needed to probe a following question: \n",
    "with fewer physicians per individual, is there a measurable failure of \n",
    "preventative care that might have been afforded by the access and familiary \n",
    "that community-embedded physicians might provide?"
   ],
   "metadata": {
    "collapsed": false,
    "pycharm": {
     "name": "#%% md\n"
    }
   }
  },
  {
   "cell_type": "code",
   "execution_count": null,
   "outputs": [],
   "source": [
    "showMax( 'People and Society: Physicians density', short=True )\n",
    "showMax( 'People and Society: Current Health Expenditure', asc=True, \n",
    "    short=True, unit=\"% GDP\" )"
   ],
   "metadata": {
    "collapsed": false,
    "pycharm": {
     "name": "#%% \n"
    }
   }
  },
  {
   "cell_type": "markdown",
   "source": [
    "<hr style=\"height:2px;background-color:gray\">\n",
    "\n",
    "- Southern African nations exclusively form the top 10 **percent of population \n",
    "living with HIV/AIDs**"
   ],
   "metadata": {
    "collapsed": false,
    "pycharm": {
     "name": "#%% md\n"
    }
   }
  },
  {
   "cell_type": "code",
   "execution_count": null,
   "outputs": [],
   "source": [
    "dataUtls = importlib.reload( dataUtls )\n",
    "dUtls = dataUtls.dUtls( nData )\n",
    "showMax = dUtls.showMaxima\n",
    "\n",
    "nData.DF[ (ft := 'People living with HIV/AIDs as percentage of population') ] = (\n",
    "    nData.DF[ 'People and Society: HIV/AIDS - people living with HIV/AIDS' ] /\n",
    "    nData.DF[ 'People and Society: Population' ])\n",
    "\n",
    "showMax( ft, unit=\"_\" )"
   ],
   "metadata": {
    "collapsed": false,
    "pycharm": {
     "name": "#%%\n"
    }
   }
  },
  {
   "cell_type": "markdown",
   "source": [
    "<hr style=\"height:2px;background-color:gray\">\n",
    "\n",
    "- What is the **lowest-HIV prevalence in the Southern Africa high-HIV/AIDS \n",
    "region**?"
   ],
   "metadata": {
    "collapsed": false
   }
  },
  {
   "cell_type": "code",
   "execution_count": null,
   "outputs": [],
   "source": [
    "sthEquatAfrica = nData.OR[\n",
    "    (nData.OR[ \"Geography: Map references\" ] == \"Africa\") &\n",
    "    (nData.OR[ \"Geography: Geographic coordinates\" ].str.contains( \"S\" )) ]\n",
    "\n",
    "showMax( 'People living with HIV/AIDs as percentage of population', asc=True,\n",
    "    mask=nData.DF[ 'Country' ].isin( sthEquatAfrica.Country.to_list() ),\n",
    "    sub=\"African Nations South of Equator\", unit=\"%\" )"
   ],
   "metadata": {
    "collapsed": false,
    "pycharm": {
     "name": "#%%\n"
    }
   }
  },
  {
   "cell_type": "markdown",
   "source": [
    "- For mainland countries, Angola - being large, and close to the HIV/AIDs \n",
    "epicentre, appears to have some form of strongly inhibiting factor.\n",
    "A look at recent history identifies a cause for the low prevalence: civil war. \n",
    "\n",
    "> The 27-year civil war in Angola, lasting from 1975 until 2002, kept the spread \n",
    "> of HIV to a minimum due to large parts of the country being inaccessible to \n",
    "> people infected with the virus. During the civil war, individuals from \n",
    "> neighboring countries such as Zambia, Botswana, and Zimbabwe (all countries \n",
    "> with high prevalence rates of HIV) were also not allowed to come into the \n",
    "> country, which played a significant role in controlling the spread of HIV.\n",
    "> [(source: Wikipedia)](https://en.wikipedia.org/wiki/HIV/AIDS_in_Angola#History)"
   ],
   "metadata": {
    "collapsed": false,
    "pycharm": {
     "name": "#%% md\n"
    }
   }
  },
  {
   "cell_type": "markdown",
   "source": [
    "<hr style=\"height:2px;background-color:gray\">\n",
    "\n",
    "- **Gender and Tobacco usage**: nearly half the people in Nauru and Burma smoke.\n",
    "However, when limited to females, European nations remain in the t10, while\n",
    "the Asia-Pacific nations Burma, Kiribati, Timor Leste, PNG and Indonesia all\n",
    "disappear (the men are the smokers). This pattern is \n",
    "strikingly reversed for Nauru, where it is female smoking alone which places it \n",
    "at number one, with Nauru's male smoking at 140th place in the world."
   ],
   "metadata": {
    "collapsed": false,
    "pycharm": {
     "name": "#%% md\n"
    }
   }
  },
  {
   "cell_type": "code",
   "execution_count": null,
   "outputs": [],
   "source": [
    "getRank( 'Nauru', 'People and Society: Tobacco use - male' )\n",
    "showMax( 'People and Society: Tobacco use - total' )\n",
    "showMax( 'People and Society: Tobacco use - male' )\n",
    "showMax( 'People and Society: Tobacco use - female' )"
   ],
   "metadata": {
    "collapsed": false,
    "pycharm": {
     "name": "#%%\n"
    }
   }
  },
  {
   "cell_type": "markdown",
   "source": [
    "<hr style=\"height:2px;background-color:gray\">\n",
    "\n",
    "- **Generational weight disparity**: where is there the highest observations \n",
    "for both adult obesity prevalence and children 4 years and under who are \n",
    "underweight? </br> </br> These maxima are limited to nations reporting **above-\n",
    "mean observations** for both features (total seven)."
   ],
   "metadata": {
    "collapsed": false,
    "pycharm": {
     "name": "#%% md\n"
    }
   }
  },
  {
   "cell_type": "code",
   "execution_count": null,
   "outputs": [],
   "source": [
    "uFeat = 'People and Society: Children under the age of 5 years underweight'\n",
    "oFeat = 'People and Society: Obesity - adult prevalence rate'\n",
    "\n",
    "nData.DF[ 'Generational weight disparity' ] = (\n",
    "    nData.DF[ uFeat ] + nData.DF[ oFeat ])\n",
    "\n",
    "aboveMeans = [ country for country in nData.DF[ 'Country' ] if (\n",
    "    nData.DF.loc[ nData.DF[ 'Country' ] == country, uFeat ].iloc[ 0 ]\n",
    "    >= nData.DF[ uFeat ].mean() and\n",
    "    nData.DF.loc[ nData.DF[ 'Country' ] == country, oFeat ].iloc[ 0 ]\n",
    "    >= nData.DF[ oFeat ].mean()) ]\n",
    "\n",
    "showMax( 'Generational weight disparity', unit=\"_\",\n",
    "    mask=nData.DF[ 'Country' ].isin( aboveMeans ),\n",
    "    sub=\"% adults obese + % children underweight, both above-mean\" )"
   ],
   "metadata": {
    "collapsed": false,
    "pycharm": {
     "name": "#%%\n"
    }
   }
  },
  {
   "cell_type": "markdown",
   "source": [
    "<hr style=\"height:2px;background-color:gray\">\n",
    "\n",
    "- **Education disparities** - by a modest yet significant margin, Australia has \n",
    "the longest times spent in school, and the position **holds true for \n",
    "women** as much as men."
   ],
   "metadata": {
    "collapsed": false,
    "pycharm": {
     "name": "#%% md\n"
    }
   }
  },
  {
   "cell_type": "code",
   "execution_count": null,
   "outputs": [],
   "source": [
    "lifexpFt = (\"People and Society: School life expectancy (primary to tertiary \"\n",
    "            \"education) -\")\n",
    "showMax( f'{lifexpFt} total', short=True )\n",
    "showMax( f'{lifexpFt} male', short=True )\n",
    "showMax( f'{lifexpFt} female', short=True )\n"
   ],
   "metadata": {
    "collapsed": false,
    "pycharm": {
     "name": "#%%\n"
    }
   }
  },
  {
   "cell_type": "markdown",
   "source": [
    "<hr style=\"height:2px;background-color:gray\">\n",
    "\n",
    "- **School-completion disparity in the sexes**: Liechtenstein stands out at \n",
    "least in terms of supposed development, having one of the highest GDPs per \n",
    "capita in the world."
   ],
   "metadata": {
    "collapsed": false
   }
  },
  {
   "cell_type": "code",
   "execution_count": null,
   "outputs": [],
   "source": [
    "nData.DF[ (ft := 'School completion disparity between sexes') ] = (\n",
    "    nData.DF[ f'{lifexpFt} male' ] - nData.DF[ f'{lifexpFt} female' ])\n",
    "\n",
    "showMax( ft, unit='(Years)',\n",
    "    sub=\"Average lifetime in education, male minus female\" )\n"
   ],
   "metadata": {
    "collapsed": false,
    "pycharm": {
     "name": "#%%\n"
    }
   }
  },
  {
   "cell_type": "markdown",
   "source": [
    "<hr style=\"height:2px;background-color:gray\">\n",
    "\n",
    "- Most **emmigration**, and **populations in greatest contraction**: two very \n",
    "strong categories: either islands (esp. Pacific), or eastern Europe"
   ],
   "metadata": {
    "collapsed": false,
    "pycharm": {
     "name": "#%% md\n"
    }
   }
  },
  {
   "cell_type": "code",
   "execution_count": null,
   "outputs": [],
   "source": [
    "\n",
    "showMax( 'People and Society: Net migration rate', asc=True )\n",
    "showMax( 'People and Society: Population growth rate', asc=True )"
   ],
   "metadata": {
    "collapsed": false,
    "pycharm": {
     "name": "#%%\n"
    }
   }
  },
  {
   "cell_type": "markdown",
   "source": [
    "***\n",
    "#### *COAL, ENGERY AND POLLUTION*\n",
    "\n",
    "- **Not a glitch:** this is what the stats on the top-ten coal producers looks \n",
    "like:"
   ],
   "metadata": {
    "collapsed": false,
    "pycharm": {
     "name": "#%% md\n"
    }
   }
  },
  {
   "cell_type": "code",
   "execution_count": null,
   "outputs": [],
   "source": [
    "product = 'Energy: Coal - Production'\n",
    "consump = 'Energy: Coal - Consumption'\n",
    "exports = 'Energy: Coal - Exports'\n",
    "imports = 'Energy: Coal - Imports'\n",
    "\n",
    "showMax( product )\n",
    "zThresh( product, 0.3, )\n",
    "showMax( consump )\n",
    "zThresh( consump, 0.3, )\n",
    "\n",
    "# compare: Energy: Electricity - Consumption"
   ],
   "metadata": {
    "collapsed": false,
    "pycharm": {
     "name": "#%%\n"
    }
   }
  },
  {
   "cell_type": "markdown",
   "source": [
    "- For both **Coal production and consumption**, The only nation falling outside \n",
    "three standard deviations of the mean, falls outside by around ***fourteen*** \n",
    "standard deviations. More astonishingly, China remains a net importer - they \n",
    "consume this and more. \n",
    "- Between production to consumption, Australia disappears down to 199th in the \n",
    "world; quite a feat for the fourth-largest producer, whereas the rest of the \n",
    "top ten producers are in the top ten consumers (excepting Kazakhstan, who drops \n",
    "out similarly as consumer to 197th)."
   ],
   "metadata": {
    "collapsed": false,
    "pycharm": {
     "name": "#%% md\n"
    }
   }
  },
  {
   "cell_type": "code",
   "execution_count": null,
   "outputs": [],
   "source": [
    "chinaProd = nData.DF[ nData.DF.Country == 'China' ][ product ].sum()\n",
    "chinaCsmp = nData.DF[ nData.DF.Country == 'China' ][ consump ].sum()\n",
    "\n",
    "notChinaProd = nData.DF[ nData.DF.Country != 'China' ][ product ].sum()\n",
    "notChinaCsmp = nData.DF[ nData.DF.Country != 'China' ][ consump ].sum()\n",
    "\n",
    "# get longest string length to pad report field\n",
    "pad = (max( [ len( str( i ) )\n",
    "    for i in [ chinaProd, notChinaProd, chinaCsmp, notChinaCsmp ] ] ))\n",
    "\n",
    "print( f\"PRODUCTION: China's production is \"\n",
    "       f\"[ {(chinaProd / notChinaProd):,.2f} ] times the rest of world's:\\n\"\n",
    "       f\"   [ {chinaProd:>{pad},.2f} ]: China's coal production\\n\"\n",
    "       f\"   [ {notChinaProd:>{pad},.2f} ]: rest of world combined\\n\" )\n",
    "print( f\"CONSUMPTION: China's consumption is \"\n",
    "       f\"[ {(chinaCsmp / notChinaCsmp):,.2f} ] times the rest of world's:\\n\"\n",
    "       f\"   [ {chinaCsmp:>{pad},.2f} ]: China's coal consumption\\n\"\n",
    "       f\"   [ {notChinaCsmp:>{pad},.2f} ]: rest of world combined\\n\" )\n",
    "getRank( 'Australia', consump )\n",
    "print()\n",
    "getRank( 'Kazakhstan', consump )"
   ],
   "metadata": {
    "collapsed": false,
    "pycharm": {
     "name": "#%%\n"
    }
   }
  },
  {
   "cell_type": "markdown",
   "source": [
    "<hr style=\"height:2px;background-color:gray\">\n",
    "\n",
    "- We can get an image of a country's **relationship with coal** if we look at the \n",
    "combined production and imports in ratio to exports. Where this ratio is above \n",
    "one, a country has exported above the total produced and imported, meaning it \n",
    "has sold reserves. Refining further to only the countries whose coal exports \n",
    "are above the world-mean, we can see who has a strong reliance on coal exports. \n",
    "</br> </br> In order, the refinement exludes Venezuela, Belarus and Eswatini \n",
    "such that Russia, South Africa and the Phillipines enter the **top sellers**"
   ],
   "metadata": {
    "collapsed": false
   }
  },
  {
   "cell_type": "code",
   "execution_count": null,
   "outputs": [],
   "source": [
    "nData.DF[ 'Coal: Exports-to-Total-Holdings ratio' ] = (\n",
    "    nData.DF[ exports ] / (nData.DF[ product ] + nData.DF[ imports ]))\n",
    "\n",
    "aboveMeans = [ country for country in nData.DF[ 'Country' ] if (\n",
    "    nData.DF.loc[ nData.DF[ 'Country' ] == country, exports ].iloc[ 0 ]\n",
    "    >= nData.DF[ exports ].mean()) ]\n",
    "\n",
    "showMax( 'Coal: Exports-to-Total-Holdings ratio',\n",
    "    mask=nData.DF[ 'Country' ].isin( aboveMeans ), unit=\"_\" )"
   ],
   "metadata": {
    "collapsed": false,
    "pycharm": {
     "name": "#%%\n"
    }
   }
  },
  {
   "cell_type": "markdown",
   "source": [
    "<hr style=\"height:2px;background-color:gray\">\n",
    "\n",
    "Naturally, on the topic of coal, a look at the **top CO2 emitters**:\n",
    "- An unsurprising correlation between **CO2 emissions and coal consumption** \n",
    "(that's China out in the deep end)\n",
    "- **Dirty consumers** (hi there Australia!) - emissions by coal consumption "
   ],
   "metadata": {
    "collapsed": false,
    "pycharm": {
     "name": "#%% md\n"
    }
   }
  },
  {
   "cell_type": "code",
   "execution_count": null,
   "outputs": [],
   "source": [
    "yFeat = 'Energy: Carbon dioxide emissions - From coal and metallurgical coke'\n",
    "pltSctr( [ consump, yFeat ] )\n",
    "\n",
    "nData.DF[ 'Coal/Metalurgical CO2 emissions PER Coal consumption' ] = (\n",
    "    nData.DF[ consump ] / nData.DF[ yFeat ])\n",
    "\n",
    "showMax( 'Coal/Metalurgical CO2 emissions PER Coal consumption',\n",
    "    sub='Dirtiest emitters per unit consumed', unit=\"_\" )\n"
   ],
   "metadata": {
    "collapsed": false,
    "pycharm": {
     "name": "#%%\n"
    }
   }
  },
  {
   "cell_type": "markdown",
   "source": [
    "<hr style=\"height:2px;background-color:gray\">\n",
    "\n",
    "- Kenya's **Geothermal energy mix** is impressive. Good geology: </br> </br>\n",
    ">In places where tectonic plates – consisting of the Earth's crust, and the \n",
    "upper mantle – are being pushed together or torn apart, this heat rises closer \n",
    "to the surface. One such place is Africa's Great Rift Valley, which runs \n",
    "7,000km (4,350 miles) across the eastern side of the continent.\n",
    "> *(Source: \n",
    "> [BBC](https://www.bbc.com/future/article/20210303-geothermal-the-immense-volcanic-power-beneath-our-feet))*"
   ],
   "metadata": {
    "collapsed": false
   }
  },
  {
   "cell_type": "code",
   "execution_count": null,
   "outputs": [],
   "source": [
    "ft = 'Energy: Electricity generation sources - Geothermal'\n",
    "showMax( ft )\n",
    "zThresh( ft, 2.5 )"
   ],
   "metadata": {
    "collapsed": false,
    "pycharm": {
     "name": "#%%\n"
    }
   }
  },
  {
   "cell_type": "markdown",
   "source": [
    "***\n",
    "#### *ECONOMY*\n",
    "- If you tend to assume that countries usually **spend close to what they make in \n",
    "revenue**, take confidence from seeing how both rise together in very close \n",
    "proportion - **almost a perfect correlation of 0.997**"
   ],
   "metadata": {
    "collapsed": false,
    "pycharm": {
     "name": "#%% md\n"
    }
   }
  },
  {
   "cell_type": "code",
   "execution_count": null,
   "outputs": [],
   "source": [
    "x, y = 'Economy: Budget - revenues', 'Economy: Budget - expenditures'\n",
    "print( f\"{dUtls.reportCorr( [ x, y ] )} for\\n    {x}\\n    and {y}\\n\" )\n",
    "\n",
    "pltSctr( [\n",
    "    'Economy: Budget - revenues',\n",
    "    'Economy: Budget - expenditures' ] )"
   ],
   "metadata": {
    "collapsed": false,
    "pycharm": {
     "name": "#%%\n"
    }
   }
  },
  {
   "cell_type": "markdown",
   "source": [
    "- **Services share of GDP**: which sovereignties pay the bills almost entirely \n",
    "from desk-work?"
   ],
   "metadata": {
    "collapsed": false
   }
  },
  {
   "cell_type": "code",
   "execution_count": null,
   "outputs": [],
   "source": [
    "showMax( 'Economy: GDP - composition, by sector of origin - services' )"
   ],
   "metadata": {
    "collapsed": false,
    "pycharm": {
     "name": "#%%\n"
    }
   }
  },
  {
   "cell_type": "markdown",
   "source": [
    "<hr style=\"height:2px;background-color:gray\">\n",
    "\n",
    "- **Inflation**: Venezuela dwarfs the world at *fifteen* times the standard \n",
    "deviation."
   ],
   "metadata": {
    "collapsed": false
   }
  },
  {
   "cell_type": "code",
   "execution_count": null,
   "outputs": [],
   "source": [
    "showMax( ft := 'Economy: Inflation rate (consumer prices)' )\n",
    "zThresh( ft, 0.0677 )"
   ],
   "metadata": {
    "collapsed": false,
    "pycharm": {
     "name": "#%%\n"
    }
   }
  },
  {
   "cell_type": "markdown",
   "source": [
    "<hr style=\"height:2px;background-color:gray\">\n",
    "\n",
    "- **Robot Ranchers**: A surprise in the bottom ten **percent of workers in \n",
    "agriculture** is the USA: only ~0.7%, while the US **Agri-sector share of GDP** \n",
    "is still 22nd-highest in the world."
   ],
   "metadata": {
    "collapsed": false,
    "pycharm": {
     "name": "#%% md\n"
    }
   }
  },
  {
   "cell_type": "code",
   "execution_count": null,
   "outputs": [],
   "source": [
    "# Error in the scraped data for Tonga (date taken as percent). Excluding Tonga, \n",
    "showMax( 'Economy: Labor force - by occupation - agriculture',\n",
    "    mask=nData.DF[ 'Country' ] != \"Tonga\", asc=True )\n",
    "\n",
    "getRank( 'United States',\n",
    "    'Economy: GDP - composition, by sector of origin - agriculture' )"
   ],
   "metadata": {
    "collapsed": false,
    "pycharm": {
     "name": "#%%\n"
    }
   }
  },
  {
   "cell_type": "markdown",
   "source": [
    "- Following on from this: who are the **most efficient farmers**? "
   ],
   "metadata": {
    "collapsed": false
   }
  },
  {
   "cell_type": "code",
   "execution_count": null,
   "outputs": [],
   "source": [
    "nData.DF[ 'Agriculture: GDP composition to labour' ] = (\n",
    "    nData.DF[ 'Economy: GDP - composition, by sector of origin - agriculture' ] /\n",
    "    nData.DF[ 'Economy: Labor force - by occupation - agriculture' ])\n",
    "\n",
    "showMax( 'Agriculture: GDP composition to labour', unit=\"_\",\n",
    "    mask=nData.DF[ 'Country' ] != \"Tonga\", sub=\"Efficient farmers\" )"
   ],
   "metadata": {
    "collapsed": false,
    "pycharm": {
     "name": "#%%\n"
    }
   }
  },
  {
   "cell_type": "markdown",
   "source": [
    "<hr style=\"height:2px;background-color:gray\">\n",
    "\n",
    "- One last item on *Economy*: Maldives' **goods and services importation** is \n",
    "uniquely astronomical."
   ],
   "metadata": {
    "collapsed": false
   }
  },
  {
   "cell_type": "code",
   "execution_count": null,
   "outputs": [],
   "source": [
    "# gdp-by-imports: maldives only positive, and vastly so [...]\n",
    "ft = 'Economy: GDP - composition, by end use - imports of goods and services'\n",
    "showMax( ft )\n",
    "zThresh( ft, 2.5 )"
   ],
   "metadata": {
    "collapsed": false,
    "pycharm": {
     "name": "#%%\n"
    }
   }
  },
  {
   "cell_type": "markdown",
   "source": [
    "***\n",
    "#### *GEOGRAPHY AND ENVIRONMENT*\n",
    "\n",
    "- **Most watery nations** ( total area by surface water )"
   ],
   "metadata": {
    "collapsed": false,
    "pycharm": {
     "name": "#%% md\n"
    }
   }
  },
  {
   "cell_type": "code",
   "execution_count": null,
   "outputs": [],
   "source": [
    "# highest percent water area\n",
    "nData.DF[ 'Water-area ratio' ] = (\n",
    "    nData.DF[ 'Geography: Area - water' ] /\n",
    "    nData.DF[ 'Geography: Area - total' ])\n",
    "showMax( 'Water-area ratio', unit=\"_\" )"
   ],
   "metadata": {
    "collapsed": false,
    "pycharm": {
     "name": "#%%\n"
    }
   }
  },
  {
   "cell_type": "markdown",
   "source": [
    "The British Indian Ocean Territory value here is an outlier arising from its\n",
    "the water-area being recorded as considerably larger than the total area, \n",
    "which purports to include both water and land. For those understandably \n",
    "unfamiliar with the territory, it is designated across a rather isloated \n",
    "archipelago in a geographically significant position. Some interesting reading \n",
    "for both  observers of colonialism and of ongoing events in the projection of \n",
    "sovereign power across large sea vectors:\n",
    "\n",
    "##### British Indian Ocean Territory\n",
    "![British_Indian_Ocean_Territory](https://upload.wikimedia.org/wikipedia/commons/thumb/9/96/British_Indian_Ocean_Territory_in_United_Kingdom.svg/1466px-British_Indian_Ocean_Territory_in_United_Kingdom.svg.png)\n",
    "\n",
    "WIKI: \n",
    ">The only inhabitants are British and U.S. military personnel and associated \n",
    "contractors, who collectively number around 3,000 (2018 figures). The forced \n",
    "removal of Chagossians from the Chagos Archipelago occurred between 1968-1973. \n",
    "Today, the exiled Chagossians are still trying to return, saying that the \n",
    "forced expulsion and dispossession was unlawful, but the UK government has \n",
    "repeatedly denied them the right of return. The islands are off-limits to \n",
    "Chagossians, casual tourists, and the media.\n",
    "\n",
    "- **Excluding the BIOT as an outlier** should reveal a more intuitive distribution.\n",
    "Better yet, to avoid catching so many islands, let's filter down to countries \n",
    "whose coastline is no longer than their land boundaries with other countries."
   ],
   "metadata": {
    "collapsed": false
   }
  },
  {
   "cell_type": "code",
   "execution_count": null,
   "outputs": [],
   "source": [
    "showMax( 'Water-area ratio', unit=\"_\",\n",
    "    mask=nData.DF[ 'Geography: Land boundaries - total' ] >=\n",
    "         nData.DF[ 'Geography: Coastline' ],\n",
    "    sub=\"Where Coastline =< Land Boundaries\" )"
   ],
   "metadata": {
    "collapsed": false,
    "pycharm": {
     "name": "#%%\n"
    }
   }
  },
  {
   "cell_type": "markdown",
   "source": [
    "<hr style=\"height:2px;background-color:gray\">\n",
    "\n",
    "- **Elevation difference**: Countries with the largest difference between their \n",
    "lowest and highest point. While the China-Nepal border equally dissects \n",
    "Siggamartha's (Everest's) highest point, China itself has a lower minimum \n",
    "elevation than Nepal."
   ],
   "metadata": {
    "collapsed": false
   }
  },
  {
   "cell_type": "code",
   "execution_count": null,
   "outputs": [],
   "source": [
    "nData.DF[ 'Maximum elevation difference' ] = (\n",
    "    nData.DF[ 'Geography: Elevation - highest point' ] -\n",
    "    nData.DF[ 'Geography: Elevation - lowest point' ])\n",
    "\n",
    "showMax( 'Maximum elevation difference', unit=\"m\" )"
   ],
   "metadata": {
    "collapsed": false,
    "pycharm": {
     "name": "#%%\n"
    }
   }
  },
  {
   "cell_type": "markdown",
   "source": [
    "- **Flattest places in the world**: no point on natural ground is at an ascent \n",
    "of more of than five meters from any other point. At #4 in the world, Pakistan's \n",
    "current floods are devastating partly due to this marked flatness. </br> </br> \n",
    "Cayman Islands is easiest on the hips with a M.E.D of one meter."
   ],
   "metadata": {
    "collapsed": false
   }
  },
  {
   "cell_type": "code",
   "execution_count": null,
   "outputs": [],
   "source": [
    "showMax( 'Maximum elevation difference', asc=True, unit=\"m\" )"
   ],
   "metadata": {
    "collapsed": false,
    "pycharm": {
     "name": "#%%\n"
    }
   }
  },
  {
   "cell_type": "markdown",
   "source": [
    "- **Water withdrawrals minus renewable sources**: Who are the most- and least- \n",
    "reliant on trade for water? (Hi there, Middle East!)"
   ],
   "metadata": {
    "collapsed": false
   }
  },
  {
   "cell_type": "code",
   "execution_count": null,
   "outputs": [],
   "source": [
    "nData.DF[ 'Water withdrawal exposure to trade' ] = (\n",
    "    (nData.DF[ 'Environment: Total water withdrawal - municipal' ] +\n",
    "     nData.DF[ 'Environment: Total water withdrawal - industrial' ] +\n",
    "     nData.DF[ 'Environment: Total water withdrawal - agricultural' ]) -\n",
    "    nData.DF[ 'Environment: Total renewable water resources' ])\n",
    "\n",
    "showMax( 'Water withdrawal exposure to trade',\n",
    "    sub=\"Withdrawrals minus resources\", unit=\"cubic meters\" )\n",
    "\n",
    "# Brazil is sitting happy there around the Amazon. Russia and Canada just \n",
    "# melt vast amounts of snow.\n",
    "showMax( 'Water withdrawal exposure to trade', asc=True, unit=\"cubic meters\",\n",
    "    sub=\"Withdrawrals minus resources\" )"
   ],
   "metadata": {
    "collapsed": false,
    "pycharm": {
     "name": "#%%\n"
    }
   }
  },
  {
   "cell_type": "markdown",
   "source": [
    "- **Irrigated area ratio:** Many members of this T10 may not surprise, as \n",
    "familiar origins of agricultural commodities, but the Gaza Strip may conjure a \n",
    "more arid image."
   ],
   "metadata": {
    "collapsed": false,
    "pycharm": {
     "name": "#%% md\n"
    }
   }
  },
  {
   "cell_type": "code",
   "source": [
    "# Ratio of irrigated land to total land\n",
    "\n",
    "nData.DF[ 'Irrigated-area ratio' ] = (\n",
    "    nData.DF[ 'Geography: Irrigated land' ] /\n",
    "    nData.DF[ 'Geography: Area - total' ])\n",
    "\n",
    "showMax( 'Irrigated-area ratio', unit=\"_\" )\n",
    "\n",
    "print( f\"Irrigated area in Gaza Strip is \"\n",
    "       f\"{getVal( 'Gaza Strip', 'Geography: Irrigated land' )} sqkm\" )\n",
    "\n",
    "print( f\"Total area of Gaza Strip is \"\n",
    "       f\"{getVal( 'Gaza Strip', 'Geography: Area - total' )} sqkm\" )"
   ],
   "metadata": {
    "collapsed": false,
    "pycharm": {
     "name": "#%%\n"
    }
   },
   "execution_count": null,
   "outputs": []
  },
  {
   "cell_type": "markdown",
   "source": [
    "The value comes down to proportion, of course (irrigation takes up 240 of the \n",
    "territory's 360 square kilometers), but more deeply to demographics. The Gaza \n",
    "Strip is the third-most densely populated territory in the world, and has a \n",
    "special reliance on agricultre as a \n",
    "[vital element of food production and employment](https://socialsciences.mcmaster.ca/kubursi/ebooks/water.htm)."
   ],
   "metadata": {
    "collapsed": false
   }
  },
  {
   "cell_type": "code",
   "source": [
    "# One final set of datapoints: \n",
    "# Who are the \"most top/bottom 10/5/3/1\" countries, and what for?\n",
    "\n",
    "# import pandas as pd\n",
    "# \n",
    "# ctrMaxDct = { c: { 'top': [ ], 'bot': [ ], 'tCnt': 0, 'bCnt': 0 }\n",
    "#     for c in list( nData.DF.Country ) }\n",
    "# \n",
    "# for ft in list( nData.DF.columns )[ 1: ]:\n",
    "#     \n",
    "#     dfFtSrt = pd.concat( [ nData.DF[ 'Country' ],\n",
    "#         pd.Series( nData.DF[ ft ] ) ], axis=1 ).sort_values( by=[ ft ],\n",
    "#         ascending=False )\n",
    "#     \n",
    "#     topCtrs = list( dfFtSrt.head( 10 ).Country )\n",
    "#     botCtrs = list( dfFtSrt.tail( 10 ).Country )\n",
    "#     \n",
    "#     for c in topCtrs:\n",
    "#         ctrMaxDct[ c ][ 'top' ].append( ft )\n",
    "#         ctrMaxDct[ c ][ 'tCnt' ] += 1\n",
    "#     for c in botCtrs:\n",
    "#         ctrMaxDct[ c ][ 'bot' ].append( ft )\n",
    "#         ctrMaxDct[ c ][ 'bCnt' ] += 1\n",
    "# \n",
    "# sortByTops = sorted( [ [ ctrMaxDct[ c ][ 'tCnt' ], c ] for c in ctrMaxDct.keys() ], reverse=True )\n",
    "# \n",
    "# for count, ctr in sortByTops[:10]:\n",
    "#     print( f\"{ctr} is in {count} top-tens:\\n{ctrMaxDct[ctr]['top']}\" )\n",
    "# \n",
    "# # what are the top ten top ten top ten features?\n",
    "# \n",
    "# from collections import Counter\n",
    "# \n",
    "# countt10t10t10fs = [ \n",
    "#     ft for ftLi in [ ctrMaxDct[ctr]['top'] for _, ctr in sortByTops[:10] ] for ft in ftLi ]\n",
    "# \n",
    "# Counter(countt10t10t10fs ).most_common(n=10)"
   ],
   "metadata": {
    "collapsed": false,
    "pycharm": {
     "name": "#%%\n"
    }
   },
   "execution_count": null,
   "outputs": []
  },
  {
   "cell_type": "markdown",
   "source": [
    "***\n",
    "Thanks for the read! Check for more data analysis and Python projects at \n",
    "**[github.com/romstroller](https://github.com/romstroller/)**\n"
   ],
   "metadata": {
    "collapsed": false,
    "pycharm": {
     "name": "#%% md\n"
    }
   }
  },
  {
   "cell_type": "code",
   "execution_count": null,
   "outputs": [],
   "source": [
    "# Add positional bar colour-gradient to barplots\n",
    "#   https://stackoverflow.com/questions/60220089/how-to-add-color-gradients-according-to-y-value-to-a-bar-plot"
   ],
   "metadata": {
    "collapsed": false,
    "pycharm": {
     "name": "#%%\n"
    }
   }
  },
  {
   "cell_type": "code",
   "execution_count": null,
   "outputs": [],
   "source": [],
   "metadata": {
    "collapsed": false,
    "pycharm": {
     "name": "#%% # END\n"
    }
   }
  }
 ],
 "metadata": {
  "kernelspec": {
   "display_name": "Python 3",
   "language": "python",
   "name": "python3"
  },
  "language_info": {
   "codemirror_mode": {
    "name": "ipython",
    "version": 2
   },
   "file_extension": ".py",
   "mimetype": "text/x-python",
   "name": "python",
   "nbconvert_exporter": "python",
   "pygments_lexer": "ipython2",
   "version": "2.7.6"
  }
 },
 "nbformat": 4,
 "nbformat_minor": 0
}