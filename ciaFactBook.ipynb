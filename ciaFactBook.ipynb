{
 "cells": [
  {
   "cell_type": "code",
   "execution_count": null,
   "outputs": [],
   "source": [
    "import dataUtls  # ancilliary utility module: source in repository"
   ],
   "metadata": {
    "collapsed": false,
    "pycharm": {
     "name": "#%%\n"
    }
   }
  },
  {
   "cell_type": "code",
   "execution_count": null,
   "outputs": [],
   "source": [
    "import importlib"
   ],
   "metadata": {
    "collapsed": false,
    "pycharm": {
     "name": "#%%\n"
    }
   }
  },
  {
   "cell_type": "markdown",
   "source": [
    "### OBJECTIVE\n",
    "This report is a broad exploration of World Factbook data from the US Central \n",
    "Intelligence Agency, seeking to provide general point-of-interest insights on \n",
    "key datapoints in areas including health, gender, economy and environment, both \n",
    "directly from the sample and deriving new features through feature-maxima bar \n",
    "plots (\"top tens\"), and correlation scatter plots. \n",
    "\n",
    "The report implements data processing techniques including expression matching, \n",
    "correlation analysis, and z-score and probability density analysis.  \n",
    "\n",
    "**Some example datapoints...**\n",
    "- What countries have, at the same time, the most adults overweight and the \n",
    "most children underweight?\n",
    "- 2\n",
    "- 3\n",
    "- 4"
   ],
   "metadata": {
    "collapsed": false
   }
  },
  {
   "cell_type": "markdown",
   "source": [
    "***\n",
    "### DATA: acquisition, cleaning and feature engineering"
   ],
   "metadata": {
    "collapsed": false,
    "pycharm": {
     "name": "#%% md\n"
    }
   }
  },
  {
   "cell_type": "code",
   "execution_count": null,
   "outputs": [],
   "source": [
    "nData = dataUtls.nbData()\n",
    "dUtls = dataUtls.dUtls( nData )\n",
    "\n",
    "# authenticate, download and load kaggle dataset\n",
    "dUtls.getKaggleSet( 'lucafrance', 'the-world-factbook-by-cia' )\n",
    "\n",
    "# display data type-count\n",
    "dUtls.typeCount( nData.OR )"
   ],
   "metadata": {
    "collapsed": false,
    "pycharm": {
     "name": "#%%\n"
    }
   }
  },
  {
   "cell_type": "markdown",
   "source": [
    "#### *STATE OF INFORMATION*\n",
    "\n",
    "- *[The World Factbook by CIA](https://www.kaggle.com/datasets/lucafrance/the-world-factbook-by-cia)\n",
    " (owner: Luca Franceschini, available at Kaggle.com)*\n",
    "\n",
    "The objective concerns only the features which have a primary value that can be\n",
    "included in numeric operations. The dataset is documented to have been acquired\n",
    "by browser extraction, and contains a substantial amount of noise or extraneous \n",
    "information, in inconsistent format. Pattern matching is further complicated by \n",
    "the presence of historical data in the same cell, and variations of scale within \n",
    "many features.\n",
    "\n",
    "Processing extracts the primary numeric value to float-type, and omits features\n",
    "with null values beyond a minimal threshold (initially, the dataset is 74% \n",
    "null). For clarity, source code for cleaning operations is in the ancillary \n",
    "module. Substring segment frequencies are analysed to derive feature unit."
   ],
   "metadata": {
    "collapsed": false,
    "pycharm": {
     "name": "#%% md\n"
    }
   }
  },
  {
   "cell_type": "code",
   "execution_count": null,
   "outputs": [],
   "source": [
    "# parse distinct numbers via regular expression to dictionary\n",
    "dUtls.generateMatchDct()\n",
    "\n",
    "# isolate clean float from number-match records\n",
    "dUtls.isolateClean()\n",
    "\n",
    "# generate dataframe from clean feature data\n",
    "dUtls.getCleanDF()\n",
    "\n",
    "# enforce non-nan threshold ( av. dense + .5 sDev rounded ), convert numeric\n",
    "dUtls.getNumericNonNan()\n",
    "\n",
    "# review cleaned dataframe\n",
    "dUtls.cleanReport( [ nData.OR, nData.CL ] )\n",
    "\n",
    "# Manual analysis: has valid primary number value, scale variations\n",
    "#   Returning from PKL\n",
    "#   dataUtls.runScaleAnalysis(dfColsClean, cleanReman)\n",
    "dropFeats, scaleNotes = dUtls.unPklData( 'dropFeatrs', 'cleanNotes', dct=False )\n",
    "\n",
    "# apply drop to flagged features\n",
    "dUtls.runDrops( dropFeats )\n",
    "\n",
    "# adjust scale-variant values to unify scale\n",
    "dUtls.flattenScale( scaleNotes, dropFeats )\n",
    "\n",
    "# drop summative observation\n",
    "dUtls.popRowsByFtVal( 'Country', [ 'World' ] )\n",
    "\n",
    "# numericise df (inc. ctry to code), get country-code converter dct\n",
    "dUtls.numercisedDF()\n",
    "\n",
    "# collect candidate units from substring frequency in feature data\n",
    "#   return stored collection from PKL\n",
    "#   dataUtls.generateUnitDct()\n",
    "unitDat = dUtls.unPklData( s := 'unitDct_220918_144049038287.pkl' )[ s ]\n",
    "\n",
    "dUtls.cleanUnits( unitDat )"
   ],
   "metadata": {
    "collapsed": false,
    "pycharm": {
     "name": "#%%\n"
    }
   }
  },
  {
   "cell_type": "markdown",
   "source": [
    "#### *OUTLIER ANALYSIS*\n",
    "Rather than clipping or smoothing as in many machine learning purposes, this \n",
    "report is especially interested in retaining and presenting genuine outliers \n",
    "(the sample maximums and minimums for various features). Here, outlier analysis \n",
    "is used to determine that outliers are not obviously the result of errors in \n",
    "the data.\n",
    "\n",
    "For example, here we confirm that the highly differentiated probability density\n",
    "of the 'Geography: Area - total' feature (strongly skewed toward the minimum, \n",
    "with many larger countries of singular size creating a \"platykurtic\" or very\n",
    "flattened upper tail ) corresponds to observations in the original data."
   ],
   "metadata": {
    "collapsed": false,
    "pycharm": {
     "name": "#%% md\n"
    }
   }
  },
  {
   "cell_type": "code",
   "execution_count": null,
   "outputs": [],
   "source": [
    "# identify outliers with z-score standardization\n",
    "pDense = dUtls.showPDens  # display probability distrib. with fit\n",
    "zThresh = dUtls.getZThreshDF  # For showing observations above z-score\n",
    "\n",
    "# visual Gaussian-fit check \n",
    "pDense( 'Geography: Area - total' )\n",
    "\n",
    "# checking with z-score \n",
    "zThresh( 'Geography: Area - total', 2.5 )"
   ],
   "metadata": {
    "collapsed": false,
    "pycharm": {
     "name": "#%%\n"
    }
   }
  },
  {
   "cell_type": "markdown",
   "source": [
    "By contrast, though still with a minimum-skewed distribution: in **Military and \n",
    "Security: Military expenditures**, North Korea's dramatic, isolated prominence \n",
    "at the \"most militarized\" end turns out to be the result of extraction error. \n",
    "They do still remain the world leader for the period, at between 20-25% of GDP."
   ],
   "metadata": {
    "collapsed": false,
    "pycharm": {
     "name": "#%% md\n"
    }
   }
  },
  {
   "cell_type": "code",
   "execution_count": null,
   "outputs": [],
   "source": [
    "ft = 'Military and Security: Military expenditures'\n",
    "pDense( ft )\n",
    "zDF = zThresh( ft, 0.228, ret=True )\n",
    "print( f\"\\\"{[ b for a, b in zDF.orVal.items() ][ 0 ]}\\\"\" )"
   ],
   "metadata": {
    "collapsed": false,
    "pycharm": {
     "name": "#%%\n"
    }
   }
  },
  {
   "cell_type": "markdown",
   "source": [
    "### Exploration, Visualisation and Analysis\n",
    "Reporting is broadly categorized into observations on:\n",
    "1. Age, health and gender\n",
    "2. Coal, Energy and Pollution\n",
    "3. Economy\n",
    "4. Geography and Environment"
   ],
   "metadata": {
    "collapsed": false,
    "pycharm": {
     "name": "#%% md\n"
    }
   }
  },
  {
   "cell_type": "code",
   "execution_count": null,
   "outputs": [],
   "source": [
    "# provide local access to required module data tools\n",
    "getCorrs_T = dUtls.getCTDct  # get dict for correlations at threshold\n",
    "showMax = dUtls.showMaxima  # barplot for <=10 feature-max/min countries\n",
    "pltSctr = dUtls.plotScttr  # scatterplot distribution for feature pair\n",
    "getRank = dUtls.getRank  # return country's rank for value for feature\n",
    "getVal = dUtls.getVal  # return val for country for feature\n",
    "reportDifs = dUtls.reportDiffs \n",
    "# getTRep = dUtls.getThreshReport  # report correlations-at-threshold\n",
    "# repCorr = dUtls.repCorrel  # report correlation for feature pair\n",
    "# filledDif = dUtls.showDiffsFilled  # For corrThreshDct, omit NaN-only diffs\n",
    "# fSet = dUtls.fSetFromFeatures  # get frozenset key from feature names"
   ],
   "metadata": {
    "collapsed": false,
    "pycharm": {
     "name": "#%%\n"
    }
   }
  },
  {
   "cell_type": "markdown",
   "source": [
    "#### *FEATURE MAXIMA*\n",
    "The highest and lowest values for features compiled by the CIA's World Factbook \n",
    "provide a convenient global view on important aspects of humanity and the \n",
    "environment. Some caution is necessary before interpreting these summaries \n",
    "due to some issues of accuracy around conflagration of time period (the CIA\n",
    "resource mixes the latest reporting year, which can vary by decade or more).\n",
    "\n",
    "#### *CORRELATIONS AND SCATTERPLOTS*"
   ],
   "metadata": {
    "collapsed": false
   }
  },
  {
   "cell_type": "code",
   "execution_count": null,
   "outputs": [],
   "source": [
    "# generate correlation significance between all features \n",
    "dUtls.getCorDct()  # generate feature master correl. dict"
   ],
   "metadata": {
    "collapsed": false,
    "pycharm": {
     "name": "#%%\n"
    }
   }
  },
  {
   "cell_type": "markdown",
   "source": [
    "**Perfect correlations** (of significance -1 or 1) are rarely informative, in \n",
    "that they identify effectively identical, or duplicate, features. For this \n",
    "reason, they can be useful for reducing unnecessary dimensionality in large \n",
    "datasets."
   ],
   "metadata": {
    "collapsed": false
   }
  },
  {
   "cell_type": "code",
   "execution_count": null,
   "outputs": [],
   "source": [
    "# drop perfect correlations (duplicates)\n",
    "# dUtls.reportDiffs( getCorrs_T( 1 ) )\n",
    "dUtls.dropDupCorrs()  # TESTING TO HERE"
   ],
   "metadata": {
    "collapsed": false,
    "pycharm": {
     "name": "#%%\n"
    }
   }
  },
  {
   "cell_type": "markdown",
   "source": [
    "**Strong correlations** will tend to be more self-evident (for example, \"Total \n",
    "area\" being near-perfectly correlated to \"Total land\", with some noise caused \n",
    "by variable water-area), but still provide an empirical, observational basis \n",
    "for testing assumptions. \n",
    "\n",
    "**Scatter plots** are useful for identifying or demonstrating where a clear \n",
    "pattern, like a linear correlation, is present, and also for an alternative \n",
    "view on observations made with different techniques.\n",
    "\n",
    "***"
   ],
   "metadata": {
    "collapsed": false
   }
  },
  {
   "cell_type": "markdown",
   "source": [
    "**Some near-perfect correlations:**"
   ],
   "metadata": {
    "collapsed": false,
    "pycharm": {
     "name": "#%% md\n"
    }
   }
  },
  {
   "cell_type": "code",
   "execution_count": null,
   "outputs": [],
   "source": [
    "importlib.reload( dataUtls )\n",
    "dUtls = dataUtls.dUtls( nData )\n",
    "\n",
    "# Examine near-perfect threshold (likely still duplicates or self-evident)\n",
    "dUtls.reportDiffs( getCorrs_T( 0.998 ) )"
   ],
   "metadata": {
    "collapsed": false,
    "pycharm": {
     "name": "#%%\n"
    }
   }
  },
  {
   "cell_type": "markdown",
   "source": [
    "***\n",
    "\n",
    "**Strong negative correlations:** for features X and Y, as X approaches maximum, \n",
    "Y clearly tends towards minimum.\n",
    "\n",
    "In the Factbook data, at least one of each pair of features that has a NEGATIVE \n",
    "correlations above a minimal 0.5 significance threshold is either **Birth Rate**\n",
    "or **Rate of Urbanization.** Excluding these two features, the strongest \n",
    "negative correlation has a signicance score of -0.45.\n",
    "\n",
    "Including these two features, many correlations are fairly **self-evident**. \n",
    "For example, the strongest, at **-0.81**:\n"
   ],
   "metadata": {
    "collapsed": false,
    "pycharm": {
     "name": "#%% md\n"
    }
   }
  },
  {
   "cell_type": "code",
   "execution_count": null,
   "outputs": [],
   "source": [
    "nDatFts = list( nData.DF.columns )\n",
    "\n",
    "sortdCorrs = sorted( [ k for k in list( nData.corDct.i.keys() ) ] )\n",
    "\n",
    "# for k in sortdCorrs[ :20 ]:\n",
    "#     ftFSetLi = nData.corDct.i[ k ]\n",
    "#     for fSetX, fSetY in ftFSetLi:\n",
    "#         print()\n",
    "#         print( f\"CORR: {k}\" )\n",
    "#         pltSctr( [ nDatFts[ fSetX ], nDatFts[ fSetY ] ] )\n",
    "\n",
    "# Exclude birthrate/urbaniztn version\n",
    "collect = { }\n",
    "pos = 0\n",
    "includes = 0\n",
    "inThresh = True\n",
    "while inThresh:\n",
    "    k = sortdCorrs[ pos ]\n",
    "    ftFSetLi = nData.corDct.i[ k ]\n",
    "    for fSetX, fSetY in ftFSetLi:\n",
    "        if True in [ x in y for x in [ ': Birth rate', ': Urbanization' ]\n",
    "            for y in [ nDatFts[ fSetX ], nDatFts[ fSetY ] ] ]:\n",
    "            includes += 1\n",
    "            continue\n",
    "        else: collect.update( { k: [ nDatFts[ fSetX ], nDatFts[ fSetY ] ] } )\n",
    "    if k > -0.5: inThresh = False\n",
    "    pos += 1\n",
    "\n",
    "n = \"All\" if ((L := len( collect )) == 0) else L\n",
    "print( f\"{n} of the {includes} negative correlations stronger than sig.thresh \"\n",
    "       f\"\\n-0.5 were for feature pairs that included at least on of Birth Rate \"\n",
    "       f\"\\nor Rate of Urbanization.\" )"
   ],
   "metadata": {
    "collapsed": false,
    "pycharm": {
     "name": "#%%\n"
    }
   }
  },
  {
   "cell_type": "code",
   "execution_count": null,
   "outputs": [],
   "source": [
    "pltSctr( [\n",
    "    'Energy: Electricity access - electrification - total population',\n",
    "    'People and Society: Birth rate' ] )"
   ],
   "metadata": {
    "collapsed": false,
    "pycharm": {
     "name": "#%%\n"
    }
   }
  },
  {
   "cell_type": "markdown",
   "source": [
    "It stands that with a higher birth rate, the percentage of the population \n",
    "(including babies) that does not have access to an existing electrical \n",
    "connection, particularly where such connections are prohibitively expensive for \n",
    "the average income, should rise proportionally.\n",
    "\n",
    "One that takes a little more unpacking is a correlation of significance -0.73\n",
    "between **Literacy (total population)** and **Rate of urbanization**:"
   ],
   "metadata": {
    "collapsed": false,
    "pycharm": {
     "name": "#%% md\n"
    }
   }
  },
  {
   "cell_type": "code",
   "source": [
    "pltSctr( [\n",
    "    'People and Society: Literacy - total population',\n",
    "    'People and Society: Urbanization - rate of urbanization' ] )\n"
   ],
   "metadata": {
    "collapsed": false,
    "pycharm": {
     "name": "#%%\n"
    }
   },
   "execution_count": null,
   "outputs": []
  },
  {
   "cell_type": "markdown",
   "source": [
    "***\n",
    "#### AGE, HEALTH AND GENDER\n",
    "\n",
    "- Neat curvilinear distribution between **percent pop. over 64** and\n",
    "**percent population under 15** showing a clear negative relationship.\n",
    "- Likewise, in a positive trend, the strong association of **higher birthrate**\n",
    "with **bigger proportion of 15-24yo's** rapidly decreases after the birthrate \n",
    "hits around 20%; after this point, that segment is relatively stable for higher \n",
    "birthrates."
   ],
   "metadata": {
    "collapsed": false,
    "pycharm": {
     "name": "#%% md\n"
    }
   }
  },
  {
   "cell_type": "code",
   "execution_count": null,
   "outputs": [],
   "source": [
    "pltSctr( [\n",
    "    'People and Society: Age structure - 65 years and over',\n",
    "    'People and Society: Age structure - 0-14 years' ] )\n",
    "\n",
    "pltSctr( [\n",
    "    'People and Society: Birth rate',\n",
    "    'People and Society: Age structure - 15-24 years' ] )"
   ],
   "metadata": {
    "collapsed": false,
    "pycharm": {
     "name": "#%%\n"
    }
   }
  },
  {
   "cell_type": "markdown",
   "source": [
    "***\n",
    "- Gulf countries' **sex ratio weighting** toward men is startling by the\n",
    "global distribution, particularly Qatar & the Unite Arab Emirates.\n",
    "Note we can see strong support for \n",
    "[Fisher's principle](https://en.wikipedia.org/wiki/Fisher%27s_principle): sex \n",
    "ratio is leptokurtic, closely gathered around the one-to-one ratio."
   ],
   "metadata": {
    "collapsed": false
   }
  },
  {
   "cell_type": "code",
   "execution_count": null,
   "outputs": [],
   "source": [
    "zThresh( ft := 'People and Society: Sex ratio - total population', 0.8 )\n",
    "pDense( ft )"
   ],
   "metadata": {
    "collapsed": false,
    "pycharm": {
     "name": "#%%\n"
    }
   }
  },
  {
   "cell_type": "markdown",
   "source": [
    "- At the same time, both have (by good measure) the **highest proportion of\n",
    "total population that is 25-54 years old**. \n",
    "\n",
    "So, in other words, Qatar and the \n",
    "UAE have a particularly large and masculine working-age population."
   ],
   "metadata": {
    "collapsed": false
   }
  },
  {
   "cell_type": "code",
   "execution_count": null,
   "outputs": [],
   "source": [
    "showMax( 'People and Society: Age structure - 25-54 years' )"
   ],
   "metadata": {
    "collapsed": false,
    "pycharm": {
     "name": "#%%\n"
    }
   }
  },
  {
   "cell_type": "markdown",
   "source": [
    "- in Palau, North Korea, and particularly many East European countries, there \n",
    "are **more than twice as many old women as old men((. In other terms, men are \n",
    "dying considerably earlier than women in these countries."
   ],
   "metadata": {
    "collapsed": false
   }
  },
  {
   "cell_type": "code",
   "execution_count": null,
   "outputs": [],
   "source": [
    "showMax( 'People and Society: Sex ratio - 65 years and over', asc=True )"
   ],
   "metadata": {
    "collapsed": false,
    "pycharm": {
     "name": "#%%\n"
    }
   }
  },
  {
   "cell_type": "markdown",
   "source": [
    "***\n",
    "- Some surprise might arise from the data on **Health Expenditure** - despite \n",
    "highest costs for *individuals* in the OECD (see \n",
    "[here](https://en.wikipedia.org/wiki/Health_care_prices_in_the_United_States) \n",
    "for example), the US Government is spending more on health than the rest of the \n",
    "world (Tuvalu excepted. Along with other island states in this top-ten, \n",
    "expenditure proportions might be considered less significant given the \n",
    "susceptibility of comparably small budgets to weighting.)"
   ],
   "metadata": {
    "collapsed": false
   }
  },
  {
   "cell_type": "code",
   "execution_count": null,
   "outputs": [],
   "source": [
    "showMax( ft := 'People and Society: Current Health Expenditure' )\n",
    "zThresh( ft, 2.5 )"
   ],
   "metadata": {
    "collapsed": false,
    "pycharm": {
     "name": "#%%\n"
    }
   }
  },
  {
   "cell_type": "markdown",
   "source": [
    "***\n",
    "- Highly interesting to see Monaco leading the top-ten for **Physician \n",
    "density** while at the same time trailing in the very bottom for **Health \n",
    "expenditure**. Citizens are privately funding most of their healthcare. \n",
    "- There are surprisingly **zero nations from the Anglosphere** in the top-ten \n",
    "for physician density. More data would be needed to probe a following question: \n",
    "with fewer physicians per individual, is there a measurable failure of \n",
    "preventative care that might have been afforded by the access and familiary \n",
    "that community-embedded physicians might provide?"
   ],
   "metadata": {
    "collapsed": false,
    "pycharm": {
     "name": "#%% md\n"
    }
   }
  },
  {
   "cell_type": "code",
   "execution_count": null,
   "outputs": [],
   "source": [
    "showMax( 'People and Society: Physicians density' )\n",
    "showMax( 'People and Society: Current Health Expenditure', asc=True )"
   ],
   "metadata": {
    "collapsed": false,
    "pycharm": {
     "name": "#%% \n"
    }
   }
  },
  {
   "cell_type": "markdown",
   "source": [
    "***\n",
    "- Southern African nations exclusively form the t10 **percent of population \n",
    "living with HIV/AIDs**"
   ],
   "metadata": {
    "collapsed": false,
    "pycharm": {
     "name": "#%% md\n"
    }
   }
  },
  {
   "cell_type": "code",
   "execution_count": null,
   "outputs": [],
   "source": [
    "# nData.DF[ (ft:='People living with HIV/AIDs as percentage of population') ] = (\n",
    "#     nData.DF[ 'People and Society: HIV/AIDS - people living with HIV/AIDS' ] /\n",
    "#     nData.DF[ 'People and Society: Population' ])\n",
    "# \n",
    "# nData.DF[ ft ]"
   ],
   "metadata": {
    "collapsed": false,
    "pycharm": {
     "name": "#%%\n"
    }
   }
  },
  {
   "cell_type": "code",
   "execution_count": null,
   "outputs": [],
   "source": [
    "# ADDED COL NOT AVAILABLE THROUGH SHOWMAX\n",
    "print( \"ADDED COL NOT AVAILABLE THROUGH SHOWMAX\" )\n",
    "\n",
    "# showMax( ft, df = nData.DF )\n",
    "\n",
    "# raise ValueError"
   ],
   "metadata": {
    "collapsed": false,
    "pycharm": {
     "name": "#%%\n"
    }
   }
  },
  {
   "cell_type": "markdown",
   "source": [
    "***\n",
    "<font color='red'> REFACTORED TO HERE: Provide DF update from nBook</font>\n",
    "***\n",
    "\n",
    "- What is the **lowest-HIV prevalence in the S.A. high-HIV/AIDS region**?"
   ],
   "metadata": {
    "collapsed": false
   }
  },
  {
   "cell_type": "code",
   "execution_count": null,
   "outputs": [],
   "source": [
    "sthEquatAfrica = nData.OR[\n",
    "    (nData.OR[ \"Geography: Map references\" ] == \"Africa\")\n",
    "    & (nData.OR[ \"Geography: Geographic coordinates\" ].str.contains( \"S\" )\n",
    "       ) ].Country\n",
    "\n",
    "showMax( 'People living with HIV/AIDs as percentage of population',\n",
    "    nData.DF[ nData.DF[ 'Country' ].isin( sthEquatAfrica ) ], asc=True,\n",
    "    sub=\"African Nations South of Equator\" )"
   ],
   "metadata": {
    "collapsed": false,
    "pycharm": {
     "name": "#%%\n"
    }
   }
  },
  {
   "cell_type": "markdown",
   "source": [
    "- For the countries that are not islands, Angola - being large, and close to \n",
    "the HIV/AIDs epicentre, appears to have some form of strongly inhibiting factor.\n",
    "A look at recent history identifies a cause for the low prevalence: civil war. \n",
    "\n",
    "> The 27-year civil war in Angola, lasting from 1975 until 2002, kept the spread \n",
    "> of HIV to a minimum due to large parts of the country being inaccessible to \n",
    "> people infected with the virus. During the civil war, individuals from \n",
    "> neighboring countries such as Zambia, Botswana, and Zimbabwe (all countries \n",
    "> with high prevalence rates of HIV) were also not allowed to come into the \n",
    "> country, which played a significant role in controlling the spread of HIV.\n",
    "> [(source: Wikipedia)](https://en.wikipedia.org/wiki/HIV/AIDS_in_Angola#History)"
   ],
   "metadata": {
    "collapsed": false,
    "pycharm": {
     "name": "#%% md\n"
    }
   }
  },
  {
   "cell_type": "markdown",
   "source": [
    "***\n",
    "- **Gender and Tobacco usage**: nearly half the people in Nauru and Burma smoke.\n",
    "However, when limited to females, European nations remain in the t10, while\n",
    "the Asia-Pacific nations Burma, Kiribati, Timor Leste, PNG and Indonesia \n",
    "disappear (the men are the smokers). </br> </br> The Islands pattern is \n",
    "strikingly reversed for Nauru, where it is female smoking alone which places it \n",
    "at number one, with male smoking at 140th place!"
   ],
   "metadata": {
    "collapsed": false,
    "pycharm": {
     "name": "#%% md\n"
    }
   }
  },
  {
   "cell_type": "code",
   "execution_count": null,
   "outputs": [],
   "source": [
    "getRank( 'Nauru', 'People and Society: Tobacco use - male' )\n",
    "showMax( 'People and Society: Tobacco use - total' )\n",
    "showMax( 'People and Society: Tobacco use - male' )\n",
    "showMax( 'People and Society: Tobacco use - female' )\n",
    "\n",
    "# No Smoking:\n",
    "# showMax( 'People and Society: Tobacco use - total', df, asc=True )\n",
    "\n"
   ],
   "metadata": {
    "collapsed": false,
    "pycharm": {
     "name": "#%%\n"
    }
   }
  },
  {
   "cell_type": "markdown",
   "source": [
    "***\n",
    "- **Generational weight disparity**: where is there the highest observations \n",
    "for both adult obesity prevalence and children 4 years and under who are \n",
    "underweight? </br> </br> These maxima are limited to nations reporting **above-\n",
    "mean observations** for both features (total seven)."
   ],
   "metadata": {
    "collapsed": false,
    "pycharm": {
     "name": "#%% md\n"
    }
   }
  },
  {
   "cell_type": "code",
   "execution_count": null,
   "outputs": [],
   "source": [
    "uFeat = 'People and Society: Children under the age of 5 years underweight'\n",
    "oFeat = 'People and Society: Obesity - adult prevalence rate'\n",
    "\n",
    "df[ 'Generational weight disparity' ] = (df[ uFeat ] + df[ oFeat ])\n",
    "\n",
    "aboveMeans = [ country for country in df[ 'Country' ] if (\n",
    "    df.loc[ df[ 'Country' ] == country, uFeat ].iloc[ 0 ]\n",
    "    >= df[ uFeat ].mean() and\n",
    "    df.loc[ df[ 'Country' ] == country, oFeat ].iloc[ 0 ]\n",
    "    >= df[ oFeat ].mean()) ]\n",
    "\n",
    "showMax( 'Generational weight disparity',\n",
    "    df[ df[ 'Country' ].isin( aboveMeans ) ],\n",
    "    sub=\"% adults obese + % children underweight, both above-mean\" )"
   ],
   "metadata": {
    "collapsed": false,
    "pycharm": {
     "name": "#%%\n"
    }
   }
  },
  {
   "cell_type": "markdown",
   "source": [
    "***\n",
    "- **Education disparities** - by a modest yet significant margin, Australia has \n",
    "the largest percent total competing teriary, and the position **holds true for \n",
    "women** as much as men."
   ],
   "metadata": {
    "collapsed": false,
    "pycharm": {
     "name": "#%% md\n"
    }
   }
  },
  {
   "cell_type": "code",
   "execution_count": null,
   "outputs": [],
   "source": [
    "expectFeatStr = (\n",
    "    \"People and Society: School life expectancy (primary to tertiary \"\n",
    "    \"education) -\")\n",
    "showMax( f'{expectFeatStr} total', df )\n",
    "showMax( f'{expectFeatStr} male', df )\n",
    "showMax( f'{expectFeatStr} female', df )\n"
   ],
   "metadata": {
    "collapsed": false,
    "pycharm": {
     "name": "#%%\n"
    }
   }
  },
  {
   "cell_type": "markdown",
   "source": [
    "***\n",
    "- **School-completion disparity in the sexes**: Liechtenstein stands out at \n",
    "least in terms of supposed development,having one of the highest GDPs per \n",
    "capita in the world."
   ],
   "metadata": {
    "collapsed": false
   }
  },
  {
   "cell_type": "code",
   "execution_count": null,
   "outputs": [],
   "source": [
    "ft = 'School completion disparity between sexes'\n",
    "df[ ft ] = (df[ f'{expectFeatStr} male' ] - df[ f'{expectFeatStr} female' ])\n",
    "showMax( ft, df, sub=\"Average lifetime in education, male minus female\" )\n"
   ],
   "metadata": {
    "collapsed": false,
    "pycharm": {
     "name": "#%%\n"
    }
   }
  },
  {
   "cell_type": "markdown",
   "source": [
    "***\n",
    "- Most **emmigration**, and **populations in greatest contraction**: two very \n",
    "strong categories: either islands (esp. Pacific), or eastern Europe"
   ],
   "metadata": {
    "collapsed": false,
    "pycharm": {
     "name": "#%% md\n"
    }
   }
  },
  {
   "cell_type": "code",
   "execution_count": null,
   "outputs": [],
   "source": [
    "\n",
    "showMax( 'People and Society: Net migration rate', df, asc=True )\n",
    "showMax( 'People and Society: Population growth rate', df, asc=True )"
   ],
   "metadata": {
    "collapsed": false,
    "pycharm": {
     "name": "#%%\n"
    }
   }
  },
  {
   "cell_type": "markdown",
   "source": [
    "***\n",
    "### COAL, ENGERY AND POLLUTION\n",
    "#### Not a glitch: China's appetite\n",
    "Just for scale, this is what the production of the top-ten coal producers looks \n",
    "like. "
   ],
   "metadata": {
    "collapsed": false,
    "pycharm": {
     "name": "#%% md\n"
    }
   }
  },
  {
   "cell_type": "code",
   "execution_count": null,
   "outputs": [],
   "source": [
    "product = 'Energy: Coal - Production'\n",
    "consump = 'Energy: Coal - Consumption'\n",
    "exports = 'Energy: Coal - Exports'\n",
    "imports = 'Energy: Coal - Imports'\n",
    "\n",
    "showMax( product )\n",
    "zThresh( product, 0.3, )\n",
    "showMax( consump )\n",
    "zThresh( consump, 0.3, )\n",
    "\n",
    "# compare: Energy: Electricity - Consumption"
   ],
   "metadata": {
    "collapsed": false,
    "pycharm": {
     "name": "#%%\n"
    }
   }
  },
  {
   "cell_type": "markdown",
   "source": [
    "- For both **Coal production and consumption**, The only nation falling outside \n",
    "three standard deviations of the mean, falls outside by around ***fourteen*** \n",
    "standard deviations. More astonishingly, China remains a net importer - they \n",
    "consume this and more. \n",
    "- Between production to consumption, Australia disappears down to 199th in the \n",
    "world; quite a feat for the fourth-largest producer, whereas the rest of the \n",
    "top ten producers are in the top ten consumers (excepting Kazakhstan, who drops \n",
    "out similarly as consumer to 197th)."
   ],
   "metadata": {
    "collapsed": false,
    "pycharm": {
     "name": "#%% md\n"
    }
   }
  },
  {
   "cell_type": "code",
   "execution_count": null,
   "outputs": [],
   "source": [
    "getRank( 'Australia', consump )\n",
    "getRank( 'Kazakhstan', consump )"
   ],
   "metadata": {
    "collapsed": false,
    "pycharm": {
     "name": "#%%\n"
    }
   }
  },
  {
   "cell_type": "markdown",
   "source": [
    "- Some figures in greater detail:"
   ],
   "metadata": {
    "collapsed": false,
    "pycharm": {
     "name": "#%% md\n"
    }
   }
  },
  {
   "cell_type": "code",
   "execution_count": null,
   "outputs": [],
   "source": [
    "chinaProd = df[ df.Country == 'China' ][ product ].sum()\n",
    "chinaCsmp = df[ df.Country == 'China' ][ consump ].sum()\n",
    "\n",
    "notChinaProd = df[ df.Country != 'China' ][ product ].sum()\n",
    "notChinaCsmp = df[ df.Country != 'China' ][ consump ].sum()\n",
    "\n",
    "# get longest string length to pad report field\n",
    "pad = (max( [ len( str( i ) )\n",
    "    for i in [ chinaProd, notChinaProd, chinaCsmp, notChinaCsmp ] ] ))\n",
    "\n",
    "print( f\"PRODUCTION: China's production is \"\n",
    "       f\"[ {(chinaProd / notChinaProd):,.2f} ] times that of the rest of world\\n\"\n",
    "       f\"   [ {chinaProd:>{pad},.2f} ]: China's coal production\\n\"\n",
    "       f\"   [ {notChinaProd:>{pad},.2f} ]: rest of world combined\\n\" )\n",
    "print( f\"\\nCONSUMPTION: China's consumption is \"\n",
    "       f\"[ {(chinaCsmp / notChinaCsmp):,.2f} ] times the size\\n\"\n",
    "       f\"of the rest of world combined.\\n\"\n",
    "       f\"   [ {chinaCsmp:>{pad},.2f} ]: China's coal consumption\\n\"\n",
    "       f\"   [ {notChinaCsmp:>{pad},.2f} ]: rest of world combined\\n\" )"
   ],
   "metadata": {
    "collapsed": false,
    "pycharm": {
     "name": "#%%\n"
    }
   }
  },
  {
   "cell_type": "code",
   "execution_count": null,
   "outputs": [],
   "source": [
    "# dUtls.dfPrint()"
   ],
   "metadata": {
    "collapsed": false,
    "pycharm": {
     "name": "#%%\n"
    }
   }
  },
  {
   "cell_type": "markdown",
   "source": [
    "***\n",
    "- We can get an image of a country's **relationship with coal** if we look at the \n",
    "combined production and imports in ratio to exports. Where this ratio is above \n",
    "one, a country has exported above the total produced and imported, meaning it \n",
    "has sold reserves. Refining further to only the countries whose coal exports \n",
    "are above the world-mean, we can see who has a strong reliance on coal exports. \n",
    "</br> </br> In order, the refinement exludes Venezuela, Belarus and Eswatini such that \n",
    "Russia, South Africa and the Phillipines entered the top \"sellers\""
   ],
   "metadata": {
    "collapsed": false
   }
  },
  {
   "cell_type": "code",
   "execution_count": null,
   "outputs": [],
   "source": [
    "df[ 'Coal: Exports-to-Total-Holdings ratio' ] = (\n",
    "    df[ exports ] / (df[ product ] + df[ imports ]))\n",
    "\n",
    "aboveMeans = [ country for country in df[ 'Country' ] if (\n",
    "    df.loc[ df[ 'Country' ] == country, exports ].iloc[ 0 ]\n",
    "    >= df[ exports ].mean()) ]\n",
    "\n",
    "showMax( 'Coal: Exports-to-Total-Holdings ratio',\n",
    "    df[ df[ 'Country' ].isin( aboveMeans ) ] )"
   ],
   "metadata": {
    "collapsed": false,
    "pycharm": {
     "name": "#%%\n"
    }
   }
  },
  {
   "cell_type": "markdown",
   "source": [
    "***\n",
    "Naturally, on the topic of coal, a look at the **top CO2 emitters**:\n",
    "- The world's clustering for **CO2 emissions vs coal consumption**: China out \n",
    "in the distance\n",
    "- **Dirty consumers**: highest emissions per coal consumption"
   ],
   "metadata": {
    "collapsed": false,
    "pycharm": {
     "name": "#%% md\n"
    }
   }
  },
  {
   "cell_type": "code",
   "execution_count": null,
   "outputs": [],
   "source": [
    "yFeat = 'Energy: Carbon dioxide emissions - From coal and metallurgical coke'\n",
    "pltSctr( df, [ consump, yFeat ] )\n",
    "\n",
    "# While we are looking at these features, an interesting insight:\n",
    "#   Scoring the dirtiest \n",
    "\n",
    "df[ 'Coal/Metalurgical CO2 emissions PER Coal consumption' ] = (\n",
    "    df[ consump ] / df[ yFeat ])\n",
    "\n",
    "showMax( 'Coal/Metalurgical CO2 emissions PER Coal consumption', df,\n",
    "    sub='Dirtiest emitters per unit consumed' )\n"
   ],
   "metadata": {
    "collapsed": false,
    "pycharm": {
     "name": "#%%\n"
    }
   }
  },
  {
   "cell_type": "markdown",
   "source": [
    "***\n",
    "- Kenya's **Geothermal energy mix** is impressive. Good geology: </br> </br>\n",
    ">In places where tectonic plates – consisting of the Earth's crust, and the \n",
    "upper mantle – are being pushed together or torn apart, this heat rises closer \n",
    "to the surface. One such place is Africa's Great Rift Valley, which runs \n",
    "7,000km (4,350 miles) across the eastern side of the continent.\n",
    "> *(Source: \n",
    "> [BBC](https://www.bbc.com/future/article/20210303-geothermal-the-immense-volcanic-power-beneath-our-feet))*"
   ],
   "metadata": {
    "collapsed": false
   }
  },
  {
   "cell_type": "code",
   "execution_count": null,
   "outputs": [],
   "source": [
    "ft = 'Energy: Electricity generation sources - Geothermal'\n",
    "showMax( ft )\n",
    "zThresh( ft, 2.5 )"
   ],
   "metadata": {
    "collapsed": false,
    "pycharm": {
     "name": "#%%\n"
    }
   }
  },
  {
   "cell_type": "markdown",
   "source": [
    "***\n",
    "#### ECONOMY\n",
    "If you tend to assume that countries usually spend close to what they make in \n",
    "revenue, take confidence from seeing how both rise together in very close \n",
    "proportion all the way from lowest to highest (correlation of 0.99704)"
   ],
   "metadata": {
    "collapsed": false,
    "pycharm": {
     "name": "#%% md\n"
    }
   }
  },
  {
   "cell_type": "code",
   "execution_count": null,
   "outputs": [],
   "source": [
    "x, y = 'Economy: Budget - revenues', 'Economy: Budget - expenditures'\n",
    "print( f\"[{dUtls.corDct[ fSet( df, x, y ) ]:.5f}] corr for:\\n   {x}\\n   {y}\" )\n"
   ],
   "metadata": {
    "collapsed": false,
    "pycharm": {
     "name": "#%%\n"
    }
   }
  },
  {
   "cell_type": "code",
   "execution_count": null,
   "outputs": [],
   "source": [
    "pltSctr( df, [\n",
    "    'Economy: Budget - revenues',\n",
    "    'Economy: Budget - expenditures' ] )"
   ],
   "metadata": {
    "collapsed": false,
    "pycharm": {
     "name": "#%%\n"
    }
   }
  },
  {
   "cell_type": "markdown",
   "source": [
    "- **Services share of GDP**: Which sovereignties pay the bills almost entirely \n",
    "from desk-work?"
   ],
   "metadata": {
    "collapsed": false
   }
  },
  {
   "cell_type": "code",
   "execution_count": null,
   "outputs": [],
   "source": [
    "showMax( 'Economy: GDP - composition, by sector of origin - services', df )"
   ],
   "metadata": {
    "collapsed": false,
    "pycharm": {
     "name": "#%%\n"
    }
   }
  },
  {
   "cell_type": "markdown",
   "source": [
    "***\n",
    "- **Inflation**: Venezuela dwarfs the world at fifteen times the standard \n",
    "deviation."
   ],
   "metadata": {
    "collapsed": false
   }
  },
  {
   "cell_type": "code",
   "execution_count": null,
   "outputs": [],
   "source": [
    "showMax( ft := 'Economy: Inflation rate (consumer prices)', df )\n",
    "zThresh( ft, 0.0677 )"
   ],
   "metadata": {
    "collapsed": false,
    "pycharm": {
     "name": "#%%\n"
    }
   }
  },
  {
   "cell_type": "markdown",
   "source": [
    "***\n",
    "- **Robot Ranchers**: A surprise in the bottom ten **percent of workers in \n",
    "agriculture** is the USA: only ~0.7%, while the US **Agri-sector share of GDP** \n",
    "is still 22nd-highest in the world.\n",
    "- Following on from this: who are the **most efficient farmers**? "
   ],
   "metadata": {
    "collapsed": false,
    "pycharm": {
     "name": "#%% md\n"
    }
   }
  },
  {
   "cell_type": "code",
   "execution_count": null,
   "outputs": [],
   "source": [
    "# Error in the scraped data for Tonga (date taken as percent). Excluding Tonga, \n",
    "showMax( 'Economy: Labor force - by occupation - agriculture',\n",
    "    df=df[ df[ 'Country' ] != \"Tonga\" ], asc=True )\n",
    "\n",
    "getRank( 'United States',\n",
    "    'Economy: GDP - composition, by sector of origin - agriculture' )\n",
    "\n",
    "df[ 'Agriculture: GDP composition to labour' ] = (\n",
    "    df[ 'Economy: GDP - composition, by sector of origin - agriculture' ] /\n",
    "    df[ 'Economy: Labor force - by occupation - agriculture' ])\n",
    "\n",
    "showMax( 'Agriculture: GDP composition to labour',\n",
    "    df=df[ df[ 'Country' ] != \"Tonga\" ], sub=\"Efficient farmers\" )"
   ],
   "metadata": {
    "collapsed": false,
    "pycharm": {
     "name": "#%%\n"
    }
   }
  },
  {
   "cell_type": "code",
   "execution_count": null,
   "outputs": [],
   "source": [
    "# The most-equal countries have a strong representation of East \n",
    "# Eurpoean countries, along with Social Democracy commentators' darling, \n",
    "#   Norway. Jersey and Faroe would need to be more closely vetted.\n",
    "showMax( 'Economy: Gini Index coefficient - distribution of family income',\n",
    "    asc=True )\n",
    "\n",
    "# gdp-by-imports: maldives only positive, and vastly so [...]\n",
    "ft = 'Economy: GDP - composition, by end use - imports of goods and services'\n",
    "showMax( ft, df )\n",
    "zThresh( ft, 2.5 )"
   ],
   "metadata": {
    "collapsed": false,
    "pycharm": {
     "name": "#%%\n"
    }
   }
  },
  {
   "cell_type": "markdown",
   "source": [
    "#### GEOGRAPHY AND ENVIRONMENT\n",
    "\n",
    "- **Most watery nations** ( total area by surface water ): what's going on\n",
    "with the \"British Indian Ocean Territory\"?"
   ],
   "metadata": {
    "collapsed": false,
    "pycharm": {
     "name": "#%% md\n"
    }
   }
  },
  {
   "cell_type": "code",
   "execution_count": null,
   "outputs": [],
   "source": [
    "# highest percent water area\n",
    "df[ 'Water-area ratio' ] = (\n",
    "    df[ 'Geography: Area - water' ] /\n",
    "    df[ 'Geography: Area - total' ])\n",
    "showMax( 'Water-area ratio', df )"
   ],
   "metadata": {
    "collapsed": false,
    "pycharm": {
     "name": "#%%\n"
    }
   }
  },
  {
   "cell_type": "markdown",
   "source": [
    "The British Indian Ocean territory value here is an outlier arising from an\n",
    "apparent inconsistency or ambiguity in geographic description - the territory \n",
    "is designated across a very disparate grouping of islands which include many\n",
    "whole or partial atolls with large inner bodies of water. Some interesting \n",
    "reading both for observers of colonialism and for ongoing events in the \n",
    "projection of sovereign power across large sea vectors:\n",
    "\n",
    "##### British Indian Ocean Territory\n",
    "![British_Indian_Ocean_Territory](https://upload.wikimedia.org/wikipedia/commons/thumb/9/96/British_Indian_Ocean_Territory_in_United_Kingdom.svg/1466px-British_Indian_Ocean_Territory_in_United_Kingdom.svg.png)\n",
    "\n",
    "WIKI: \n",
    ">The only inhabitants are British and U.S. military personnel and associated \n",
    "contractors, who collectively number around 3,000 (2018 figures). The \n",
    "forced removal of Chagossians from the Chagos Archipelago occurred between \n",
    "1968 and 1973. [...] Today, the exiled Chagossians are still trying \n",
    "to return, saying that the forced expulsion and dispossession was unlawful, \n",
    "but the UK government has repeatedly denied them the right of return. The \n",
    "islands are off-limits to Chagossians, casual tourists, and the media."
   ],
   "metadata": {
    "collapsed": false
   }
  },
  {
   "cell_type": "code",
   "execution_count": null,
   "outputs": [],
   "source": [
    "showMax( 'Water-area ratio',\n",
    "    df[ df[ 'Geography: Land boundaries - total' ] >=\n",
    "        df[ 'Geography: Coastline' ] ],\n",
    "    sub=\"Where Coastline =< Land Boundaries\" )"
   ],
   "metadata": {
    "collapsed": false,
    "pycharm": {
     "name": "#%%\n"
    }
   }
  },
  {
   "cell_type": "markdown",
   "source": [
    "Excluding BIOT as an outlier should reveal a more intuitive distribution.\n",
    "Better yet, to avoid catching so many islands, let's filter down to countries \n",
    "whose coastline is no longer than their land boundaries with other countries."
   ],
   "metadata": {
    "collapsed": false
   }
  },
  {
   "cell_type": "code",
   "execution_count": null,
   "outputs": [],
   "source": [
    "showMax( 'Water-area ratio',\n",
    "    df[ df[ 'Geography: Land boundaries - total' ] >=\n",
    "        df[ 'Geography: Coastline' ] ],\n",
    "    sub=\"Where Coastline =< Land Boundaries\" )"
   ],
   "metadata": {
    "collapsed": false,
    "pycharm": {
     "name": "#%%\n"
    }
   }
  },
  {
   "cell_type": "markdown",
   "source": [
    "##### The coastline paradox\n",
    "All coastlines are infinitely long, at least if you keep decreasing the unit of \n",
    "measurement. The \"longest coast\" could (at least logically) change for some \n",
    "smaller unit, given that it might may discover an underlying \"flatness\" in the \n",
    "reigning longest coastline, while discovering an underlying \"texture\" in the \n",
    "land boundary of another territory which produces a greater overall length\n",
    "(see [here](https://medium.com/@drewjosselyn/fun-with-fractals-using-fractals-to-measure-the-coastline-length-of-one-of-canadas-most-iconic-16c3266af782)).\n",
    "\n",
    "Nonetheless, at any scale, given the extent and countour of Canada's polar coast,\n",
    "it seems likely remain out in front at any unit of measurement."
   ],
   "metadata": {
    "collapsed": false
   }
  },
  {
   "cell_type": "code",
   "execution_count": null,
   "outputs": [],
   "source": [
    "showMax( 'Geography: Coastline', df )"
   ],
   "metadata": {
    "collapsed": false,
    "pycharm": {
     "name": "#%% \n"
    }
   }
  },
  {
   "cell_type": "markdown",
   "source": [
    "Elevation difference"
   ],
   "metadata": {
    "collapsed": false
   }
  },
  {
   "cell_type": "code",
   "execution_count": null,
   "outputs": [],
   "source": [
    "df[ 'Maximum elevation difference' ] = (\n",
    "    df[ 'Geography: Elevation - highest point' ] -\n",
    "    df[ 'Geography: Elevation - lowest point' ])\n",
    "showMax( 'Maximum elevation difference', df )"
   ],
   "metadata": {
    "collapsed": false,
    "pycharm": {
     "name": "#%%\n"
    }
   }
  },
  {
   "cell_type": "markdown",
   "source": [
    "Countries with the largest difference between their lowest and highest point.\n",
    "While the China-Nepal border dissects Siggamartha's highest point, China \n",
    "itself has a lower minimum elevation than Nepal."
   ],
   "metadata": {
    "collapsed": false
   }
  },
  {
   "cell_type": "markdown",
   "source": [
    "Flattest places in the world: no point on natural ground is at an ascent of\n",
    "more of than five meters from any other point. At #4 in the world, Pakistan's \n",
    "current floods are devastating partly due to this marked flatness.\n",
    "\n",
    "Cayman Islands is easiest on the hips with a M.E.D of one meter."
   ],
   "metadata": {
    "collapsed": false
   }
  },
  {
   "cell_type": "code",
   "execution_count": null,
   "outputs": [],
   "source": [
    "showMax( 'Maximum elevation difference', df, asc=True )"
   ],
   "metadata": {
    "collapsed": false,
    "pycharm": {
     "name": "#%%\n"
    }
   }
  },
  {
   "cell_type": "code",
   "execution_count": null,
   "outputs": [],
   "source": [
    "# A pleasant pit-stop in the forests of Suriname:\n",
    "showMax( 'Environment: Land use - forest', df )\n",
    "\n",
    "# interestingly, Suriname does very little to leverage this as a resource \n",
    "#   advantage - Suriname's rank in %rev Forst rsrc is 174th.\n",
    "\n",
    "getRank( df, 'Suriname',\n",
    "    'Environment: Revenue from forest resources - forest revenues' )\n",
    "\n",
    "# correl/sctr?"
   ],
   "metadata": {
    "collapsed": false,
    "pycharm": {
     "name": "#%%\n"
    }
   }
  },
  {
   "cell_type": "code",
   "execution_count": null,
   "outputs": [],
   "source": [
    "#   Fairly even, City-States understandably dominating the top 10. \n",
    "showMax( 'Environment: Urbanization - urban population', df )\n",
    "showMax( 'Environment: Urbanization - urban population', df, asc=True )\n",
    "\n",
    "# Of the least-urbanised, several are pacific territories with relatively \n",
    "#   unfamiliar names: Wallis and Futuna (FR), Montserrat (UK) and Tokelau (NZ). \n",
    "#   To help with attribution, if not decolonization, I submit that the UK and \n",
    "#   French territories swap names.\n",
    "\n",
    "# Liechtenstein... is also there.\n",
    "# \"It is a testimony to the mere political expediency of the purchase that the Princes of Liechtenstein did not visit \n",
    "#   their new principality for almost 100 years.\" [citation needed]"
   ],
   "metadata": {
    "collapsed": false,
    "pycharm": {
     "name": "#%%\n"
    }
   }
  },
  {
   "cell_type": "code",
   "execution_count": null,
   "outputs": [],
   "source": [
    "# Who are the most and least trade-reliant for water? (Hi there, Middle East)\n",
    "# Withdrawrals (municipal, industrial and agricultural) minus renewable sources\n",
    "df[ 'Water withdrawal exposure to trade' ] = (\n",
    "    (df[ 'Environment: Total water withdrawal - municipal' ] +\n",
    "     df[ 'Environment: Total water withdrawal - industrial' ] +\n",
    "     df[ 'Environment: Total water withdrawal - agricultural' ]) -\n",
    "    df[ 'Environment: Total renewable water resources' ])\n",
    "\n",
    "showMax( 'Water withdrawal exposure to trade', df,\n",
    "    sub=\"Withdrawrals minus resources\" )\n",
    "\n",
    "# Brazil is sitting happy there around the Amazon. Russia and Canada just \n",
    "# melt vast amounts of snow.\n",
    "showMax( 'Water withdrawal exposure to trade', df, asc=True,\n",
    "    sub=\"Withdrawrals minus resources\" )"
   ],
   "metadata": {
    "collapsed": false,
    "pycharm": {
     "name": "#%%\n"
    }
   }
  },
  {
   "cell_type": "code",
   "source": [
    "# Ratio of irrigated land to total land\n",
    "\n",
    "df[ 'Irrigated-area ratio' ] = (\n",
    "    df[ 'Geography: Irrigated land' ] /\n",
    "    df[ 'Geography: Area - total' ])\n",
    "showMax( 'Irrigated-area ratio', df )\n",
    "\n",
    "print( f\"Irrigated area in Gaza Strip is \"\n",
    "       f\"{getVal( df, 'Gaza Strip', 'Geography: Irrigated land' )} sqkm\" )\n",
    "\n",
    "print( f\"Total area of Gaza Strip is \"\n",
    "       f\"{getVal( df, 'Gaza Strip', 'Geography: Area - total' )} sqkm\" )"
   ],
   "metadata": {
    "collapsed": false,
    "pycharm": {
     "name": "#%%\n"
    }
   },
   "execution_count": null,
   "outputs": []
  },
  {
   "cell_type": "markdown",
   "source": [
    "Many members of this T10 may not surprise, as familiar origins of agricultural \n",
    "commodities, but the Gaza Strip may conjure a more arid image. The rank comes \n",
    "down to proportion and population: irrigation, as a [vital element of food production](https://socialsciences.mcmaster.ca/kubursi/ebooks/water.htm), \n",
    "takes up 240 of the territory's 360 square kilometers, containing the third \n",
    "most densely populated territory in the world.\n",
    "\n",
    "<font color='red'> In fact, population density and irrigated area ratio... [SCATTER]\n",
    "</font>"
   ],
   "metadata": {
    "collapsed": false
   }
  },
  {
   "cell_type": "code",
   "execution_count": null,
   "outputs": [],
   "source": [
    "showMax( 'Government: National heritage - total World Heritage Sites', df )\n",
    "# the anti-empire question: what qualifies as world heritage? \n",
    "# -> All t10 is high-GDP (corrob.)"
   ],
   "metadata": {
    "collapsed": false,
    "pycharm": {
     "name": "#%%\n"
    }
   }
  },
  {
   "cell_type": "code",
   "execution_count": null,
   "outputs": [],
   "source": [
    "# In the course of this study, small island groups (many with colonial \n",
    "# names) I'm not familiar with keep showing up. Would like to dive into more \n",
    "# detail on each of these.\n",
    "\n",
    "# the Kooky Islands Krew (ctIslands)\n",
    "#   appears frequently on the bottom/top ten because it is takes less\n",
    "#   of an event in global terms to have a proportionately large effect\n",
    "#   on the small sample, be it a population, an area total and so on. \n",
    "\n",
    "kookyIslands = [\n",
    "    'Anguilla',\n",
    "    'Ashmore and Cartier Islands',\n",
    "    'British Indian Ocean Territory',\n",
    "    'British Virgin Islands',\n",
    "    'Cape Verde',\n",
    "    'Cayman Islands',\n",
    "    'Cocos (Keeling) Islands',\n",
    "    'Comoros',\n",
    "    'Faroe Islands',\n",
    "    'Montserrat',\n",
    "    'Northern Mariana Islands',\n",
    "    'Saint Barthelemy',\n",
    "    'Saint Kitts and Nevis',\n",
    "    'Saint Lucia',\n",
    "    'Saint Pierre and Miquelon',\n",
    "    'Saint Vincent and the Grenadines',\n",
    "    'San Marino',\n",
    "    'Sao Tome and Principe',\n",
    "    'Tokelau',\n",
    "    'Turks and Caicos Islands',\n",
    "    'Wallis and Futuna' ]"
   ],
   "metadata": {
    "collapsed": false,
    "pycharm": {
     "name": "#%%\n"
    }
   }
  },
  {
   "cell_type": "code",
   "execution_count": null,
   "outputs": [],
   "source": [
    "# Things that China is in the top-ten/5/3/1 of\n",
    "# (Who else are the \"most top 10/5/3/1\" countries?)\n",
    "# combine bottom-tens somehow?"
   ],
   "metadata": {
    "collapsed": false,
    "pycharm": {
     "name": "#%%\n"
    }
   }
  },
  {
   "cell_type": "code",
   "execution_count": null,
   "outputs": [],
   "source": [
    "# FINALIZING:\n",
    "\n",
    "# Add positional bar colour-gradient to barplots\n",
    "#   https://stackoverflow.com/questions/60220089/how-to-add-color-gradients-according-to-y-value-to-a-bar-plot\n",
    "# Generate unitDct which vis. fetches for feature by column key\n",
    "# Group t10s and scatterplots by subject.\n",
    "# move all/most defs to imports, except where important for process comm."
   ],
   "metadata": {
    "collapsed": false,
    "pycharm": {
     "name": "#%%\n"
    }
   }
  },
  {
   "cell_type": "code",
   "execution_count": null,
   "outputs": [],
   "source": [],
   "metadata": {
    "collapsed": false,
    "pycharm": {
     "name": "#%% # END\n"
    }
   }
  }
 ],
 "metadata": {
  "kernelspec": {
   "display_name": "Python 3",
   "language": "python",
   "name": "python3"
  },
  "language_info": {
   "codemirror_mode": {
    "name": "ipython",
    "version": 2
   },
   "file_extension": ".py",
   "mimetype": "text/x-python",
   "name": "python",
   "nbconvert_exporter": "python",
   "pygments_lexer": "ipython2",
   "version": "2.7.6"
  }
 },
 "nbformat": 4,
 "nbformat_minor": 0
}